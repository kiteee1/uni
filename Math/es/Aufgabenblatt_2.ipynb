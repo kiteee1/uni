{
 "cells": [
  {
   "cell_type": "markdown",
   "metadata": {},
   "source": [
    "# Aufgabenblatt 2"
   ]
  },
  {
   "cell_type": "markdown",
   "metadata": {},
   "source": [
    "## Kombinatorik"
   ]
  },
  {
   "cell_type": "markdown",
   "metadata": {},
   "source": [
    "### Aufgabe 1"
   ]
  },
  {
   "cell_type": "markdown",
   "metadata": {},
   "source": [
    "Wie viele gleich lange Worte lassen sich aus dem Wort STATISTIK bilden?"
   ]
  },
  {
   "cell_type": "markdown",
   "metadata": {},
   "source": [
    "Buchstabenhäufigkeiten:\n",
    "\n",
    "S: 2-mal\n",
    "T: 3-mal\n",
    "A: 1-mal\n",
    "I: 2-mal\n",
    "K: 1-mal"
   ]
  },
  {
   "cell_type": "markdown",
   "metadata": {},
   "source": [
    "Formel für Permutationen mit Wiederholungen: $Anzahl =\\frac{n!}{n_1!*n_2!*...*n_k!}$"
   ]
  },
  {
   "cell_type": "markdown",
   "metadata": {},
   "source": [
    "$Anzahl =\\frac{9!}{3!*2!*1!*2!*1!} = 15120$"
   ]
  },
  {
   "cell_type": "markdown",
   "metadata": {},
   "source": [
    "### Aufgabe 2"
   ]
  },
  {
   "cell_type": "markdown",
   "metadata": {},
   "source": [
    "Einer Studentin werden bei einer Prüfung 12 Fragen vorgelegt. Sie darf davon 4 auswählen. Man berechne die Anzahl der Wahlmöglichkeiten, wenn sie aus den ersten 6 Fragen mindestens drei auswählen muss."
   ]
  },
  {
   "cell_type": "markdown",
   "metadata": {},
   "source": [
    "Wir betrachten zwei Fälle:"
   ]
  },
  {
   "cell_type": "markdown",
   "metadata": {},
   "source": [
    "Sie wählt genau 3 Fragen aus den ersten 6 Fragen und 1 Frage aus den letzten 6 Fragen."
   ]
  },
  {
   "cell_type": "markdown",
   "metadata": {},
   "source": [
    "Sie wählt alle 4 Fragen aus den ersten 6 Fragen und keine Frage aus den letzten 6 Fragen."
   ]
  },
  {
   "cell_type": "markdown",
   "metadata": {},
   "source": [
    "Fall 1:"
   ]
  },
  {
   "cell_type": "markdown",
   "metadata": {},
   "source": [
    "$\\begin{pmatrix}6\\\\3\\end{pmatrix} * \\begin{pmatrix}6\\\\1\\end{pmatrix} = \\frac{6!}{3!*(6-3)!} * \\frac{6!}{1!*(6-1)!} = 20*6=120$"
   ]
  },
  {
   "cell_type": "markdown",
   "metadata": {},
   "source": [
    "Fall 2:"
   ]
  },
  {
   "cell_type": "markdown",
   "metadata": {},
   "source": [
    "$\\begin{pmatrix}6\\\\4\\end{pmatrix} * \\begin{pmatrix}6\\\\0\\end{pmatrix} = \\frac{6!}{4!*(6-4)!} * 1 = 15*6=15$"
   ]
  },
  {
   "cell_type": "markdown",
   "metadata": {},
   "source": [
    "Gesamtanzahl: $120+15=135$"
   ]
  },
  {
   "cell_type": "markdown",
   "metadata": {},
   "source": [
    "### Aufgabe 3"
   ]
  },
  {
   "cell_type": "markdown",
   "metadata": {},
   "source": [
    "Bei einem Radrennen mit 10 Startern wird in jeweils 4 Rennen der\n",
    "Sieger ermittelt. Wie viele mögliche Gesamtergebnisse gibt es, wenn\n",
    "nur die Anzahl der gewonnenen Rennen berücksichtigt wird?"
   ]
  },
  {
   "cell_type": "markdown",
   "metadata": {},
   "source": [
    "Lass es $f_k$ die Anzahl der Fahrer darstellen, die genau $k$-Siege haben, wobei $k=0,1,2,3,4$."
   ]
  },
  {
   "cell_type": "markdown",
   "metadata": {},
   "source": [
    "Dann:\n"
   ]
  },
  {
   "cell_type": "markdown",
   "metadata": {},
   "source": [
    "Anzahl der Speiler: $f_0+f_1+f_2+f_3+f_4=10\n",
    "$"
   ]
  },
  {
   "cell_type": "markdown",
   "metadata": {},
   "source": [
    "Anzahl der Siege: $1*f_1+2*f_2+3*f_3+4*\n",
    "f_4=4\n",
    "$"
   ]
  },
  {
   "cell_type": "markdown",
   "metadata": {},
   "source": [
    "Dann müssen wir dieses Gleichungssystem mit ganzen Zahlen lösen. Die Anzahl der Lösungen ergibt unser endgültiges Antwort.\n",
    "\n"
   ]
  },
  {
   "cell_type": "markdown",
   "metadata": {},
   "source": [
    "Fall 1:\n",
    "Ein Fahrer gewinnt alle vier Rennen:\n",
    "\n",
    "$f_4=1, f_\n",
    "0=9$\n"
   ]
  },
  {
   "cell_type": "markdown",
   "metadata": {},
   "source": [
    "Fall 2:\n",
    "Ein Fahrer gewinnt drei Rennen, ein anderer gewinnt eines:\n",
    "\n",
    "$f_3=1, f_1=1,\n",
    "f_0=8$\n",
    "\n"
   ]
  },
  {
   "cell_type": "markdown",
   "metadata": {},
   "source": [
    "Fall 3:\n",
    "Zwei Fahrer gewinnen jeweils zwei Rennen:\n",
    "\n",
    "$f_2=2, \n",
    "f_0=8$\n"
   ]
  },
  {
   "cell_type": "markdown",
   "metadata": {},
   "source": [
    "Fall 4:\n",
    "Ein Fahrer gewinnt zwei Rennen, zwei Fahrer gewinnen jeweils ein Rennen:\n",
    "\n",
    "$f_2=1, f_1=2,\n",
    "f_0=7$\n"
   ]
  },
  {
   "cell_type": "markdown",
   "metadata": {},
   "source": [
    "Fall 5:\n",
    "Vier Fahrer gewinnen jeweils ein Rennen:\n",
    "\n",
    "$f_1=4,\n",
    "f_0=6$\n",
    "\n",
    "\n",
    "\n"
   ]
  },
  {
   "cell_type": "markdown",
   "metadata": {},
   "source": [
    "Antwort: 5\n"
   ]
  },
  {
   "cell_type": "markdown",
   "metadata": {},
   "source": [
    "Es gibt 5 mögliche Gesamtergebnisse\n"
   ]
  },
  {
   "cell_type": "markdown",
   "metadata": {},
   "source": [
    "### Aufgabe 4"
   ]
  },
  {
   "cell_type": "markdown",
   "metadata": {},
   "source": [
    "Aus 5 Ehepaaren werden zufällig 4 Personen ausgewählt. Wie viele unterschiedliche Anordnungen gibt es, wenn sich unter den 4 ausgewählten Personen kein Ehepaar befinden soll?"
   ]
  },
  {
   "cell_type": "markdown",
   "metadata": {},
   "source": [
    "### Aufgabe 5"
   ]
  },
  {
   "cell_type": "markdown",
   "metadata": {},
   "source": [
    "In einer Ebene sind 20 Punkte gegeben, man berechne die Anzahl der Kreise, die sich durch jeweils 3 Punkte der Ebene legen lassen, wenn auf einem der Kreise ausnahmsweise 8 Punkte liegen."
   ]
  },
  {
   "cell_type": "markdown",
   "metadata": {},
   "source": [
    "### Aufgabe 6"
   ]
  },
  {
   "cell_type": "markdown",
   "metadata": {},
   "source": [
    "Man berechne die Anzahl der vierstelligen Zahlen, welche die Ziffern 1 und 3 enthalten, wenn die Z\n",
    "ahlen aus unterschiedlichen Ziffern bestehen.\n"
   ]
  },
  {
   "cell_type": "markdown",
   "metadata": {},
   "source": [
    "Da die Ziffern 1 und 3 enthalten sein müssen, müssen wir aus den verbleibenden Ziffern (0, 2, 4, 5, 6, 7, 8, 9) zwei weitere unterschiedliche Ziffern auswählen.\n",
    "\n",
    "Anzahl der Möglichkeiten, 2 Ziffern aus diesen 8 auszuwählen: $\\begin{pmatrix}8\\\\2\\end{pmatrix} = \\frac{8!}{2!*(8-2)!} = 28\n",
    "$\n"
   ]
  },
  {
   "cell_type": "markdown",
   "metadata": {},
   "source": [
    "Wir betrachten zwei Fälle:"
   ]
  },
  {
   "cell_type": "markdown",
   "metadata": {},
   "source": [
    "Fall 1: Die Null ist in den ausgewählten Ziffern enthalten.\n",
    "\n",
    "Anzahl der Kombinationen: $7$.\n",
    "\n",
    "Bei jeder Kombination darf die Null nicht an erster Stelle stehen.\n",
    "\n",
    "$4!−3!=24−6=18$\n",
    "\n",
    "Gesamtzahl in diesem Fall: $7*18=126\n",
    "$."
   ]
  },
  {
   "cell_type": "markdown",
   "metadata": {},
   "source": [
    "Fall 2: Die Null ist NICHT in den ausgewählten Ziffern enthalten.\n",
    "\n",
    "Anzahl der Kombinationen: $21$.\n",
    "\n",
    "Für jede Kombination beträgt die Anzahl der Permutationen $4!=24$\n",
    "(da keine Ziffer Null ist, kann jede Ziffer an jeder Position stehen).\n",
    "\n",
    "Gesamtzahl in diesem Fall: $21*24=504$.\n"
   ]
  },
  {
   "cell_type": "markdown",
   "metadata": {},
   "source": [
    "Antwort: $126+504=630\n",
    "$"
   ]
  },
  {
   "cell_type": "markdown",
   "metadata": {},
   "source": [
    "### Aufgabe 7"
   ]
  },
  {
   "cell_type": "markdown",
   "metadata": {},
   "source": [
    "Ein kleines Unternehmen beschäftigt acht Personen in der Fertigungsabteilung, fünf Personen in der Marketingabteilung und drei Personen in der Buchhaltungsabteilung. Es soll ein Projektteam\n",
    "von sechs Personen gebildet werden, um die Einführung eines neuen Produkts zu diskutieren. Auf wie viele Arten kann das Team zusammengestellt werden, wenn:\n",
    "\n",
    "\n",
    "a) ihm aus jeder Abteilung zwei Personen angehören sollen?  \n",
    "b) ihm wenigstens zwei Personen aus der Fertigungsabteilung angehören sollen?  \n",
    "c) ihm Vertreter aus allen drei Abteilungen angehören sollen?\n"
   ]
  },
  {
   "cell_type": "markdown",
   "metadata": {},
   "source": [
    "Fertigungsabteilung $=F=8$\n"
   ]
  },
  {
   "cell_type": "markdown",
   "metadata": {},
   "source": [
    "Marketingabteilung $=M=5\n",
    "$"
   ]
  },
  {
   "cell_type": "markdown",
   "metadata": {},
   "source": [
    "Buchhaltungsabteilung $=B\n",
    "=3$"
   ]
  },
  {
   "cell_type": "markdown",
   "metadata": {},
   "source": [
    "a)\n"
   ]
  },
  {
   "cell_type": "markdown",
   "metadata": {},
   "source": [
    "$\\begin{pmatrix}8\\\\2\\end{pmatrix} * \\begin{pmatrix}5\\\\2\\end{pmatrix} * \\begin{pmatrix}3\\\\2\\end{pmatrix} = \\frac{8!}{2!*(8-2)!}*\\frac{5!}{2!*(5-2)!}*\\frac{3!}{2!*(3-2)!}=28*10*3=840$\n",
    "\n",
    "\n"
   ]
  },
  {
   "cell_type": "markdown",
   "metadata": {},
   "source": [
    "b)\n"
   ]
  },
  {
   "cell_type": "markdown",
   "metadata": {},
   "source": [
    "Wir müssen alle möglichen Teamzusammensetzungen berücksichtigen, bei denen mindestens 2 Personen aus M stammen. Daher berechnen wir die Gesamtzahl der Möglichkeiten für jede mögliche Anzahl von\n",
    "M-Mitgliedern von 2 bis 6.\n",
    "\n"
   ]
  },
  {
   "cell_type": "markdown",
   "metadata": {},
   "source": [
    "1)$\\begin{pmatrix}8\\\\2\\end{pmatrix}*\\begin{pmatrix}8\\\\4\\end{pmatrix}=\\frac{8!}{2!*(8-2)!}*\\frac{8!}{4!*(8-4)!}=28*70=1960$\n"
   ]
  },
  {
   "cell_type": "markdown",
   "metadata": {},
   "source": [
    "2)$\\begin{pmatrix}8\\\\3\\end{pmatrix}*\\begin{pmatrix}8\\\\3\\end{pmatrix}=\\frac{8!}{3!*(8-3)!}*\\frac{8!}{3!*(8-3)!}=56*56=3136$\n",
    "\n",
    "\n"
   ]
  },
  {
   "cell_type": "markdown",
   "metadata": {},
   "source": [
    "3)$\\begin{pmatrix}8\\\\4\\end{pmatrix}*\\begin{pmatrix}8\\\\2\\end{pmatrix}=\\frac{8!}{4!*(8-4)!}*\\frac{8!}{2!*(8-2)!}=70*28\n",
    "=1960$\n",
    "\n"
   ]
  },
  {
   "cell_type": "markdown",
   "metadata": {},
   "source": [
    "4)$\\begin{pmatrix}8\\\\5\\end{pmatrix}*\\begin{pmatrix}8\\\\1\\end{pmatrix}=\\frac{8!}{5!*(8-5)!}*\\frac{8!}{1!*(8-1)!}=56*8=448$\n",
    "\n",
    "\n",
    "\n"
   ]
  },
  {
   "cell_type": "markdown",
   "metadata": {},
   "source": [
    "5)$\\begin{pmatrix}8\\\\6\\end{pmatrix}*\\begin{pmatrix}8\\\\0\\end{pmatrix}=\\frac{8!}{6!*(8-6)!}*\\frac{8!}{0!*(8-0)!}=28*1=28$\n",
    "\n",
    "\n"
   ]
  },
  {
   "cell_type": "markdown",
   "metadata": {},
   "source": [
    "Antwort: $1960+3136+1960+448+28=7532\n",
    "$"
   ]
  },
  {
   "cell_type": "markdown",
   "metadata": {},
   "source": [
    "c)\n"
   ]
  },
  {
   "cell_type": "markdown",
   "metadata": {},
   "source": [
    "Gesamtanzahl: $\\begin{pmatrix}16\\\\6\\end{pmatrix}=\\frac{16!}{6!*(16-6)!}=8008$\n",
    "\n"
   ]
  },
  {
   "cell_type": "markdown",
   "metadata": {},
   "source": [
    "Berechnen Sie die Anzahl der Teams, die mindestens eine Abteilung ausschließen:\n"
   ]
  },
  {
   "cell_type": "markdown",
   "metadata": {},
   "source": [
    "Teams ohhe F: $\\begin{pmatrix}8\\\\6\\end{pmatrix}=\\frac{8!}{6!*(8-6)!}=28$\n"
   ]
  },
  {
   "cell_type": "markdown",
   "metadata": {},
   "source": [
    "Teams ohhe M: $\\begin{pmatrix}11\\\\6\\end{pmatrix}=\\frac{11!}{6!*(11-6)!}=462$\n",
    "\n",
    "\n"
   ]
  },
  {
   "cell_type": "markdown",
   "metadata": {},
   "source": [
    "Teams ohhe B: $\\begin{pmatrix}13\\\\6\\end{pmatrix}=\\frac{13!}{6!*(13\n",
    "-6)!}=1716\n",
    "$\n",
    "\n",
    "\n"
   ]
  },
  {
   "cell_type": "markdown",
   "metadata": {},
   "source": [
    "Teams nur aus F: $\\begin{pmatrix}8\\\\6\\end{pmatrix}=\\frac{8!}{6!*(8\n",
    "-6)!}=28$\n",
    "\n",
    "\n",
    "\n"
   ]
  },
  {
   "cell_type": "markdown",
   "metadata": {},
   "source": [
    "Teams nur aus M: $\\begin{pmatrix}5\\\\6\\end{pmatrix}=0$\n",
    "\n",
    "\n",
    "\n",
    "\n"
   ]
  },
  {
   "cell_type": "markdown",
   "metadata": {},
   "source": [
    "Teams nur aus B: $\\begin{pmatrix}3\\\\6\\end{pmatrix}=0$\n",
    "\n",
    "\n",
    "\n",
    "\n",
    "\n"
   ]
  },
  {
   "cell_type": "markdown",
   "metadata": {},
   "source": [
    "Teams ohne F, ohne M, ohne B: unmoeglich - also 0\n",
    "\n",
    "\n",
    "\n",
    "\n",
    "\n",
    "\n"
   ]
  },
  {
   "cell_type": "markdown",
   "metadata": {},
   "source": [
    "Manche Teams werden mehrfach gezählt, da sie in mehrere Kategorien fallen. Insbesondere Teams, denen zwei Abteilungen fehlen, werden mehrfach gezählt."
   ]
  },
  {
   "cell_type": "markdown",
   "metadata": {},
   "source": [
    "$$Teams mit Ausnahme von mindestens einer Abteilung=\n",
    "28+462+1716-28-0-0-0=2178$$"
   ]
  },
  {
   "cell_type": "markdown",
   "metadata": {},
   "source": [
    "$$Antwort=8008-2178=5830\n",
    "$$"
   ]
  },
  {
   "cell_type": "markdown",
   "metadata": {},
   "source": [
    "### Aufgabe 8\n"
   ]
  },
  {
   "cell_type": "markdown",
   "metadata": {},
   "source": [
    "An einem Tennisturnier nehmen 12 Spieler teil. Wie viele verschiedene Paarungen sind für die erste Runde möglich?\n"
   ]
  },
  {
   "cell_type": "markdown",
   "metadata": {},
   "source": [
    "Gesamtzahl der Möglichkeiten, Spieler anzuordnen:\n",
    "\n",
    "Stellen wir sich zunächst vor, alle 12 Spieler in einer Reihe anzuordnen: $12!$\n",
    "\n",
    "Da jedes Paar aus 2 Spielern besteht und die Reihenfolge innerhalb des Paares keine Rolle spielt, dividieren wir für jedes Paar durch $2!$, um die Duplizierung zu berücksichtigen (da durch das Vertauschen der beiden Spieler keine neue Paarung entsteht).\n",
    "\n",
    "\n",
    "Da es 6 Paare gibt, dividieren wir durch $2!^6$.\n",
    "\n",
    "Die Reihenfolge der Paare selbst spielt auch keine Rolle (d. h., welches Match als erstes, zweites usw. gilt).\n",
    "\n",
    "Daher dividieren wir durch $6!$, um die unterschiedlichen Reihenfolgen der Paare zu berücksichtigen, die als derselbe Satz von Paarungen gelten.\n",
    "\n",
    "Endgültige Formel:"
   ]
  },
  {
   "cell_type": "markdown",
   "metadata": {},
   "source": [
    "Anzahl$=\\frac{12!}{2!^6*6!}=\\frac{12*11*10*9*8*7}{64}=10395\n",
    "$"
   ]
  },
  {
   "cell_type": "code",
   "execution_count": null,
   "metadata": {},
   "outputs": [],
   "source": []
  }
 ],
 "metadata": {
  "kernelspec": {
   "display_name": "R",
   "language": "R",
   "name": "ir"
  },
  "language_info": {
   "codemirror_mode": "r",
   "file_extension": ".r",
   "mimetype": "text/x-r-source",
   "name": "R",
   "pygments_lexer": "r",
   "version": "4.4.1"
  }
 },
 "nbformat": 4,
 "nbformat_minor": 4
}
