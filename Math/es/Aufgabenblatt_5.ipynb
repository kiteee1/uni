{
 "cells": [
  {
   "cell_type": "code",
   "execution_count": null,
   "metadata": {},
   "outputs": [],
   "source": []
  },
  {
   "cell_type": "markdown",
   "metadata": {},
   "source": [
    "# Aufgabenblatt 5"
   ]
  },
  {
   "cell_type": "markdown",
   "metadata": {},
   "source": [
    "## Zufallsvariablen und ihre Verteilungen"
   ]
  },
  {
   "cell_type": "markdown",
   "metadata": {},
   "source": [
    "### Aufgabe 1"
   ]
  },
  {
   "cell_type": "markdown",
   "metadata": {},
   "source": [
    "Ein Nachtwächter hat einen Schlüsselbund mit 10 ähnlich aussehenden Schlüsseln. Wenn er eine bestimmte Tür aufschließen will, in deren Schloss genau einer der 10 Schlüsseln passt, so probiert er entweder die Schlüssel nacheinander durch – d.h. kein Schlüssel wird zweimal probiert – bis er den passenden Schlüssel findet (Methode A); oder er probiert einen zufällig ausgewählten Schlüssel, und wenn er nicht passt, so schüttelt er den Schlüsselbund und probiert wieder einen zufällig ausgewählten Schlüssel (Methode B).\n",
    "\n",
    "a) Die Zufallsvariable $X_A$ bzw. $X_B$ sei die Anzahl der Versuche, die nach Methode A bzw. B nötig sind, um den passenden Schlüssel zu finden. Man gebe die Verteilungen dieser beiden Zufallsgrößen an.  \n",
    "b) Der Nachtwächter benutzt Methode A, wenn er nüchtern ist, und Methode B, wenn er betrunken ist. Die Wahrscheinlichkeit dafür, dass er in einer bestimmten Nacht betrunken ist, betrage 1/3. Wie groß ist die (bedingte) Wahrscheinlichkeit dafür, dass der Betriebsleiter den Nachtwächter der Trunkenheit im Dienst zu recht bezichtigt, nachdem er gesehen hat, dass dieser schon 8-mal erfolglos versucht hat, die Tür zu öffnen?\n"
   ]
  },
  {
   "cell_type": "markdown",
   "metadata": {},
   "source": [
    "a)\n",
    "\n",
    "$P(X_A = k) = \\frac{1}{10}$ fuer k = 1,2,3...,10\n"
   ]
  },
  {
   "cell_type": "markdown",
   "metadata": {},
   "source": [
    "$P(X_B = k) = (1-\\frac{1}{10})^{k-1}\\frac{1}{10}$ fuer k = 1,2,3...\n",
    "\n",
    "\n"
   ]
  },
  {
   "cell_type": "markdown",
   "metadata": {},
   "source": [
    "b)\n",
    "\n",
    "D - betrunken\n",
    "\n",
    "S - nuechtern\n",
    "\n",
    "T - Tuer oeffnen\n",
    "\n",
    "$P(D|T)=\\frac{P(T|D)P(D)}{P(T)}$\n",
    "\n",
    "$P(D) = \\frac{1}{3}$\n",
    "\n",
    "$P(S) = \\frac{2}{3}$\n",
    "\n",
    "$P(T|D)=P(X_B>0)=(1-\\frac{1}{10})^{8}=(\\frac{9}{10})^8=$\n",
    "\n",
    "$P(T|S)=P(X_A = 9 oder 10) = \\frac{2}{10} = \\frac{1}{5}$\n",
    "\n",
    "$P(T)=P(T|S)P(S)+P(T|D)P(D)=\\frac{1}{5}\\frac{2}{3}+(\\frac{9}{10})^8\\frac{1}{3}$\n",
    "\n",
    "$P(D|T)=\\frac{(\\frac{9}{10})^8\\frac{1}{3}}{\\frac{1}{5}\\frac{2}{3}+(\\frac{9}{10})^8\\frac{1}{3}} \\approx 0,518343$\n",
    "\n"
   ]
  },
  {
   "cell_type": "markdown",
   "metadata": {},
   "source": [
    "### Aufgabe 2\n"
   ]
  },
  {
   "cell_type": "markdown",
   "metadata": {},
   "source": [
    "20\\% aller Kälber erkranken in den ersten sechs Lebensmonaten an einer bestimmten nicht ansteckenden Krankheit. Um drei verschiedene Impfstoffe, A, B, und C auf ihre Wirksamkeit gegen die betreffende Krankheit zu testen, wurden 18 neugeborene Kälber eines Bauernhofes mit A, 11 neugeborene eines anderen Bauernhofes mit B und 26 neugeborene eines dritten Bauernhofes mit C geimpft. In den ersten sechs Lebensmonaten \n",
    "\n",
    "a) erkrankte genau eines der mit A geimpften Kälber,   \n",
    "b) erkrankte keines der mit B geimpften Kälber,  \n",
    "c) erkrankten genau zwei der mit C geimpften Kälber. \n",
    "\n",
    "Unter geeigneter Verteilungsannahme berechne man die Wahrscheinlichkeit dafür, dass bei völliger Wirkungslosigkeit des jeweiligen Impfstoffes keine größere als die unter a) bzw. b) bzw. c) angegebene Anzahl von Erkrankungen auftritt.\n",
    "\n",
    "\n"
   ]
  },
  {
   "cell_type": "markdown",
   "metadata": {},
   "source": [
    "a)\n",
    "\n",
    "$n=18, p=0,2$\n",
    "\n",
    "$P(X \\le 1) - ?$\n",
    "\n",
    "$P(X \\le 1) = P(X=0)+P(X=1)$\n",
    "\n",
    "$P(X = 0) = (0.8)^{18} \\approx 0.018$\n",
    "\n",
    "$P(X = 1) =\\begin{pmatrix}18\\\\1\\end{pmatrix} *0.2* (0.8)^{17} =18\n",
    "*0.2* (0.8)^{17} \\approx 0.081$\n",
    "\n",
    "$P(X=0)+P(X=1) = 0.018+0.081 \\approx 0.1$\n",
    "\n",
    "\n",
    "\n"
   ]
  },
  {
   "cell_type": "markdown",
   "metadata": {},
   "source": [
    "b)\n",
    "\n",
    "$n=11, p=0,2$\n",
    "\n",
    "$P(X = 0) - ?$\n",
    "\n",
    "$P(X = 0) = (0.8)^{11}\\approx 0.086$\n",
    "\n"
   ]
  },
  {
   "cell_type": "markdown",
   "metadata": {},
   "source": [
    "c)\n",
    "\n",
    "$n=26, p=0,2$\n",
    "\n",
    "$P(X \\le 2) - ?$\n",
    "\n",
    "$P(X \\le 2) = P(X=0)+P(X=1)+P(X=2)$\n",
    "\n",
    "$P(X = 0) = (0.8)^{26} \\approx 0.003$\n",
    "\n",
    "$P(X = 1) =\\begin{pmatrix}26\\\\1\\end{pmatrix} *0.2* (0.8)^{25} = 26\n",
    "*0.2* (0.8)^{25} \\approx 0.02$\n",
    "\n",
    "$P(X = 2) =\\begin{pmatrix}26\\\\2\\end{pmatrix} *(0.2)^2* (0.8)^{24} = \\frac{26!}{2!24!}*(0.2)^2* (0.8)^{24}= 325*(0.2)^2* (0.8)^{24} \\approx 0.061$\n",
    "\n",
    "\n",
    "$P(X=0)+P(X=1)+P(X=2) \\approx 0.003+0.02 + 0.061 \\approx 0.084$\n",
    "\n",
    "\n",
    "\n",
    "\n"
   ]
  },
  {
   "cell_type": "markdown",
   "metadata": {},
   "source": [
    "\n",
    "### Aufgabe 3"
   ]
  },
  {
   "cell_type": "markdown",
   "metadata": {},
   "source": [
    "Ein Hautarzt möchte sich eine Meinung darüber bilden, welches von zwei neu auf dem Markt angebotenen Hautpflegemitteln A und B wirksamer gegen Ekzeme ist. Dazu gibt er 15 unter Ekzemen leidenden Patienten jeweils ein Fläschchen von A und von B und bittet sie darum, darauf zu achten, welches der Hautpflegemittel die stärkere Wirkung zeigt. Er legt die folgende Entscheidungsregel fest: Wenn mehr als 11 Patienten der Ansicht sind, dass das Mittel A (bzw. B) wirksamer ist als das andere, so wird er davon ausgehen, dass dieses Mittel eine stärkere Wirkung hat. Andernfalls wird er A und B als gleich wirksam betrachten. Wie groß ist die Wahrscheinlichkeit dafür, dass der Arzt auf unterschiedliche Wirksamkeit schließt, falls A und B tatsächlich gleich wirksam sind?\n"
   ]
  },
  {
   "cell_type": "markdown",
   "metadata": {},
   "source": [
    "$P = P(X \\ge 12)+P(X \\le 3)$\n",
    "\n",
    "Da die Binomialverteilung mit $p=0,5$ symmetrisch ist, gilt $P(X≥12)=P(X≤3)$P. Wir müssen also nur eine dieser Wahrscheinlichkeiten berechnen und diese dann verdoppeln.\n",
    "\n",
    "$P(X \\le 3)=P(X=0)+P(X=1)+P(X=2)+P(X=3)$\n",
    "\n",
    "$P(X \\le 3) = (0.5)^{15}(\\begin{pmatrix}15\\\\0\\end{pmatrix}+\\begin{pmatrix}15\\\\1\\end{pmatrix}+\\begin{pmatrix}15\\\\2\\end{pmatrix}+\\begin{pmatrix}15\\\\3\\end{pmatrix})=(0.5)^{15}(1+15+\\frac{15!}{2!13!}+\\frac{15!}{3!12!})=(0.5)^{15}*576 \\approx 0.01758$\n",
    "\n",
    "$P \\approx 0.1758 *2 \\approx 0.035$\n"
   ]
  },
  {
   "cell_type": "markdown",
   "metadata": {},
   "source": [
    "### Aufgabe 4"
   ]
  },
  {
   "cell_type": "markdown",
   "metadata": {},
   "source": [
    "Bei der Einstellung einer Sekretärin wird eine Probezeit von 4 Wochen vereinbart. Während der Probezeit kann die Kündigung jeweils am Ende der Woche ausgesprochen werden. Im Rahmen der anfallenden Arbeiten hat die Sekretärin an jedem Arbeitstag (5 Tage pro Woche) 10 Briefe zu schreiben. Um zu entscheiden, ob die Sekretärin nach ihrer Probezeit endgültig eingestellt werden soll, legt sich der Büroleiter folgende Strategie zurecht: Enthält ein Brief nur einen Fehler, so korrigiert er diesen Fehler bei der Unterschrift. Enthält ein Brief jedoch mehr als einen Fehler, so muss der Brief von der Sekretärin noch einmal geschrieben werden. Müssen von den an einem Arbeitstag anfallenden 10 Briefen 3 oder mehr Briefe neu geschrieben werden, so wird die Sekretärin ermahnt. Wird sie an 3 aufeinander folgenden Tagen ein und derselben Woche ermahnt, so wird ihr am Ende der Woche die Kündigung ausgesprochen.\n",
    "\n",
    "Unter der Annahme, dass die Anzahlen der Fehler pro Brief durch unabhängige, identisch mit Parameter $\\lambda=1.0$ Poisson-verteilte Zufallsvariablen beschrieben werden können, berechne man die Wahrscheinlichkeit dafür, dass der Sekretärin spätestens am Ende der 4. Woche gekündigt wird.\n",
    "\n",
    "(Hinweis: Man berechne nacheinander die Wahrscheinlichkeiten dafür, dass\n",
    "\n",
    "1. ein Brief mehr als einen Fehler enthält,\n",
    "2. die Sekretärin an einem bestimmten Tag ermahnt wird,\n",
    "3. am Ende einer bestimmten Woche gekündigt wird und\n",
    "4. im Verlauf der Probezeit gekündigt wird.)\n",
    "\n"
   ]
  },
  {
   "cell_type": "markdown",
   "metadata": {},
   "source": [
    "1.\n",
    "\n",
    "$P(mehr als ein Fehler) = 1-P(X \\le 1) = 1-(P(X=0)+P(X=1))$\n",
    "\n",
    "$P(X=0)=\\frac{1^0}{0!}e^{1} \\approx 0.3679$\n",
    "\n",
    "$P(X=1)=\\frac{1^1}{1!}e^{1} \\approx 0.3679$\n",
    "\n",
    "$P(mehr als ein Fehler) = 1-(0.3679+0.3679) \\approx 0.2642$\n"
   ]
  },
  {
   "cell_type": "markdown",
   "metadata": {},
   "source": [
    "2.\n",
    "\n",
    "\n",
    "$n=10, p=0,2642$\n",
    "\n",
    "$P(Y \\ge 2) - ?$\n",
    "\n",
    "$P(Y \\ge 2) =1-( P(Y=0)+P(Y=1)+P(Y=2))$\n",
    "\n",
    "\n",
    "$P(Y = 0) = (1-0.2642)^{10} \\approx 0.0465$\n",
    "\n",
    "\n",
    "$P(Y = 1) =\\begin{pmatrix}10\\\\1\\end{pmatrix} *0.2642* (1-0.2642)^{9} = 10\n",
    "*0.2642* (1-0.2642)^{9} \\approx 0.167$\n",
    "\n",
    "$P(Y = 2) =\\begin{pmatrix}10\\\\2\\end{pmatrix} *(0.2642)^2* (1-0.2642)^{8} = \\frac{10!}{2!8!}*(0.2642)^2* (1-0.2642)^{8}= 45*(0.2642)^2* (1-0.2642)^{8} \\approx 0.27$\n",
    "\n",
    "$P(Y=0)+P(Y=1)+P(Y=2) \\approx 0.0465+0.167 + 0.27 \\approx 0.4835$\n",
    "\n",
    "$P(Y \\ge 2) = 1 - 0.4835 = 0.5165$ \n",
    "\n"
   ]
  },
  {
   "cell_type": "markdown",
   "metadata": {},
   "source": [
    "3.\n",
    "\n",
    "Ereignis $A$: Die Sekretärin wird an den Tagen $1$, $2$ und $3$ gerügt. $A = D_1 ∩ D_2 ∩ D_3$\n",
    "\n",
    "Ereignis $B$: Die Sekretärin wird an den Tagen $2$, $3$ und $4$ gerügt. $B = D_2 ∩ D_3 ∩ D_4$ \n",
    "\n",
    "Ereignis $C$: Die Sekretärin wird an den Tagen $3$, $4$ und $5$ gerügt. $C = D_3 ∩ D_4 ∩ D_5$\n",
    "\n",
    "$P(D_i)=q$\n",
    "\n",
    "$P(A)=P(B)=P(C)=q^3$\n",
    "\n",
    "$P(A∪B∪C) = P(A)+P(B)+P(C)-(P(A∩B)+P(A∩C)+P(B∩C))+P(A∩B∩C)$\n",
    "\n",
    "$P(A∩B)= P(A∩C) = P(B∩C) = q^4$\n",
    "\n",
    "$P(A∩B∩C) = q^5$\n",
    "\n",
    "$P(A∪B∪C) = 3q^3-2q^4 = 3*0.5165^3-2*0.5165^4 \\approx 0.271$\n",
    "\n"
   ]
  },
  {
   "cell_type": "markdown",
   "metadata": {},
   "source": [
    "4.\n",
    "\n",
    "$X$ -  im Verlauf von 4 Wochen nich gekündigt wird\n",
    "\n",
    "$Y$ - im Verlauf der Probezeit gekündigt wird\n",
    "\n",
    "\n",
    "$P(X) = 1-(P(A∪B∪C)^4) = (1-0.271)^4 \\approx 0,28243$\n",
    "\n",
    "$P(Y) = 1 - P(X) \\approx 1-0.28243 \\approx 0.71754$\n"
   ]
  },
  {
   "cell_type": "code",
   "execution_count": null,
   "metadata": {},
   "outputs": [],
   "source": []
  },
  {
   "cell_type": "markdown",
   "metadata": {},
   "source": [
    "### Aufgabe 5"
   ]
  },
  {
   "cell_type": "markdown",
   "metadata": {},
   "source": [
    "Der Milchfettgehalt bei Kühen einer bestimmten Züchtung sei durch eine $N(3.7,0.0081)$-verteilte Zufallsvariable angemessen beschrieben. Um einen züchterischen Fortschritt zu erreichen, sollen die Tiere mit niedrigen Leistungen laufend ausgesondert werden und nur 60\\% als Zuchtkühe verwendet werden. Man gebe die untere Grenze für den Fettgehalt an, den die Milch eines Tieres haben soll, das als Zuchttier verbleiben soll.\n",
    "\n",
    "Plotten Sie die Lösung als Fläche unter der Dichtefunktion."
   ]
  },
  {
   "cell_type": "markdown",
   "metadata": {},
   "source": [
    "$N(3.7,0.0081) = f(x) = \\frac{1}{0.09\\sqrt{2\\pi}}e^{-\\frac{1}{2}(\\frac{x-0.37}{0.09})^2}$\n",
    "\n",
    "Wir mussen ein Punkt $x_0$ finden, der Flaeche unter $N$ in $40$% und $60$% teilt, also:\n",
    "\n",
    "$\\int_{-\\infty}^{x_0}\\frac{1}{0.09\\sqrt{2\\pi}}e^{-\\frac{1}{2}(\\frac{x-0.37}{0.09})^2} dx=0.4$\n",
    "\n",
    "$\\int_{-\\infty}^{x_0}\\frac{1}{0.09\\sqrt{2\\pi}}e^{-\\frac{1}{2}(\\frac{x-0.37}{0.09})^2} dx=\\frac{1}{0.09\\sqrt{2\\pi}}\\int_{-\\infty}^{x_0}e^{-\\frac{1}{2}(\\frac{x-0.37}{0.09})^2} dx$\n",
    "\n",
    "Transformieren wir unsere Normalverteilung in die Standardform. Dazu standardisieren wir die Variable $x$:\n",
    "\n",
    "$z = \\frac{x-0.37}{0.09}; x = 0.37+0.09z$\n",
    "\n",
    "$\\frac{1}{0.09\\sqrt{2\\pi}}\\int_{-\\infty}^{z_0}e^{-\\frac{1}{2}z^2 } 0.09 dz = \\frac{1}{\\sqrt{2\\pi}}\\int_{-\\infty}^{z_0}e^{-\\frac{1}{2}z^2 }dz$\n",
    "\n",
    "$\\frac{1}{\\sqrt{2\\pi}}\\int_{-\\infty}^{z_0}e^{-\\frac{1}{2}z^2 }dz = \\frac{1}{\\sqrt{2\\pi}}\\int_{-\\infty}^{0}e^{-\\frac{1}{2}z^2 }dz +\\frac{1}{\\sqrt{2\\pi}}\\int_{0}^{z_0}e^{-\\frac{1}{2}z^2 }dz = \\frac{1}{2} + \\frac{1}{\\sqrt{2\\pi}}\\int_{0}^{z_0}e^{-\\frac{1}{2}z^2 }dz = 0.4$\n",
    "\n",
    "$\\frac{1}{\\sqrt{2\\pi}}\\int_{0}^{z_0}e^{-\\frac{1}{2}z^2 }dz = -0.1$\n",
    "\n",
    "Wir sehen, dass $z_0<0.5$, also lass es $a = -z_0$\n",
    "\n",
    "$\\frac{1}{\\sqrt{2\\pi}}\\int_{0}^{-a}e^{-\\frac{1}{2}z^2 }dz = -0.1 => \\frac{1}{\\sqrt{2\\pi}}\\int_{a}^{0}e^{-\\frac{1}{2}z^2 }dz = 0.1$\n",
    "\n",
    "Wir können dieses Integral in eine Maclaurin-Reihe erweitern\n",
    "\n",
    "$e^x = \\sum \\limits _{n=0} ^ \\infty \\frac{x^n}{n!}$\n",
    "\n",
    "$e^{-\\frac{z^2}{2}} = \\sum \\limits _{n=0} ^ \\infty \\frac{-\\frac{z^2}{2}^n}{n!} = \\sum \\limits _{n=0} ^ \\infty \\frac{(-1)^nz^{2n}}{2^nn!}$\n",
    "\n",
    "\n",
    "$\\int_{a}^{0}e^{-\\frac{1}{2}z^2 }dz = 0.1 = \\int_{a}^{0} \\sum \\limits _{n=0} ^ \\infty \\frac{(-1)^nz^{2n}}{2^nn!} dz = \\sum \\limits _{n=0} ^ \\infty \\frac{(-1)^n}{2^nn!}\\int_{a}^{0} z^{2n}dz = \\sum \\limits _{n=0} ^ \\infty \\frac{(-1)^na^{2n+1}}{2^nn!(2n+1)}$\n",
    "\n",
    "$\\frac{1}{\\sqrt{2\\pi}}\\sum \\limits _{n=0} ^ \\infty \\frac{(-1)^na^{2n+1}}{2^nn!(2n+1)} = 0.1=>\\sum \\limits _{n=0} ^ \\infty \\frac{(-1)^na^{2n+1}}{2^nn!(2n+1)}\\approx 0.25066$\n",
    "\n",
    "Lass es uns ein Polynom bis $n = 2$ schreiben:\n",
    "\n",
    "$a-\\frac{a^3}{6}+\\frac{a^5}{40} \\approx = 0.25066$\n",
    "\n",
    "Wir werden diese Gleichung numerisch mit der Newton-Verfahren lösen\n",
    "\n",
    "$a_{k+1} = a_k - \\frac{f(a_k)}{f'(a_k)}$\n",
    "\n",
    "$f'(a)=1-\\frac{a^2}{2}+\\frac{a^4}{8}$\n",
    "\n",
    "Lass es $a_0 = 0$\n",
    "\n",
    "$a_1 = 0 - \\frac{0-\\frac{0^3}{6}+\\frac{0^5}{40} - 0.25066}{1-\\frac{0^2}{2}+\\frac{0^4}{8}} = 0 - \\frac{-0.25066}{1}= 0.25066$\n",
    "\n",
    "$a_1 = 0.25066 - \\frac{0.25066-\\frac{0.25066^3}{6}+\\frac{0.25066^5}{40} - 0.25066}{1-\\frac{0.25066^2}{2}+\\frac{0.25066^4}{8}} \\approx = 0.253343$\n",
    "\n",
    "$a_2 = 0.253343 - \\frac{0.253343-\\frac{0.253343^3}{6}+\\frac{0.253343^5}{40} - 0.25066}{1-\\frac{0.253343^2}{2}+\\frac{0.0.253343^4}{8}} \\approx = 0.253344$ - shoen genug\n",
    "\n",
    "$a = -z_0 => z_0 = -0.253344$\n",
    "\n",
    "$x_ 0 = 3.7 + 0.09z_0 = 3.7 + 0.09(-0.253344) \\approx 3.6772$"
   ]
  },
  {
   "cell_type": "code",
   "execution_count": 2,
   "metadata": {},
   "outputs": [
    {
     "data": {
      "image/png": "[encoded data removed]",
      "text/plain": [
       "<Figure size 1000x600 with 1 Axes>"
      ]
     },
     "metadata": {},
     "output_type": "display_data"
    }
   ],
   "source": [
    "import numpy as np\n",
    "import matplotlib.pyplot as plt\n",
    "\n",
    "def f(x):\n",
    "    return (1 / (0.09 * np.sqrt(2 * np.pi))) * np.exp(-0.5 * ((x - 0.37) / 0.09) ** 2)\n",
    "\n",
    "x_values = np.linspace(0, 1, 500)\n",
    "y_values = f(x_values)\n",
    "\n",
    "plt.figure(figsize=(10, 6))\n",
    "\n",
    "plt.plot(\n",
    "    x_values,\n",
    "    y_values,\n",
    "    label=r'$f(x) = \\frac{1}{0.09\\sqrt{2\\pi}}e^{-\\frac{1}{2}\\left(\\frac{x-0.37}{0.09}\\right)^2}$',\n",
    "    color='blue'\n",
    ")\n",
    "\n",
    "plt.axvline(\n",
    "    x=0.36772,\n",
    "    color='red',\n",
    "    linestyle='--',\n",
    "    label='x = 0.36772'\n",
    ")\n",
    "\n",
    "plt.fill_between(\n",
    "    x_values,\n",
    "    y_values,\n",
    "    where=(x_values >= 0.36772),\n",
    "    color='lightblue',\n",
    "    alpha=0.5,\n",
    ")\n",
    "\n",
    "plt.xlabel('x')\n",
    "plt.ylabel('$f(x)$')\n",
    "plt.legend()\n",
    "plt.grid(True)\n",
    "plt.show()\n",
    "\n"
   ]
  },
  {
   "cell_type": "markdown",
   "metadata": {},
   "source": [
    "### Aufgabe 6"
   ]
  },
  {
   "cell_type": "markdown",
   "metadata": {},
   "source": [
    "Die Lebensdauer elektrischer Bauteile einer bestimmten Sorte (in Stunden) lasse sich durch eine mit Parameter $\\lambda$ exponentialverteilte Zufallsvariable $X$ angemessen beschreiben. Für die Aufgabenteile a) bis d) sei $\\lambda=1/500$ vorausgesetzt.\n",
    "\n",
    "a) Wie groß ist die Wahrscheinlichkeit dafür, dass ein Bauteil vor dem Zeitpunkt $t_0=200$ nicht ausfällt?  \n",
    "b) Wie groß ist die Wahrscheinlichkeit dafür, dass ein Bauteil vor dem Zeitpunkt $t_1=100$ ausfällt?  \n",
    "c) Wie groß ist die Wahrscheinlichkeit dafür, dass ein Bauteil zwischen den Zeitpunkten $t_2=200$ und $t_3=300$ ausfällt?  \n",
    "d) Welchen Zeitpunkt $t_4$ überlebt ein Bauteil mit genau 90\\% Sicherheit, welche Zeitpunkte überlebt ein Bauteil mit mindestens 90\\% Sicherheit?  \n",
    "e) Für welchen Wert des Parameters $\\lambda$ ergibt sich eine Lebensdauerverteilung, bei der mit Wahrscheinlichkeit 0.9 die Lebensdauer eines Bauteils mindestens 50 Stunden beträgt?  "
   ]
  },
  {
   "cell_type": "markdown",
   "metadata": {},
   "source": [
    "Exponentialverteilung: $f(t)=\\left\\{\\begin{array}{ll}\n",
    "         \\lambda e^{-\\lambda x} & x \\ge 0 \\\\\n",
    "         0 & x < 0\n",
    "       \\end{array}\\right.$\n",
    "       \n",
    "Verteilungsfunktion: $\\int \\limits _0^x f_{\\lambda}(t)dt = f(t)=\\left\\{\\begin{array}{ll}\n",
    "         1-e^{-\\lambda x} & x > 0 \\\\\n",
    "         0 & x \\le 0\n",
    "       \\end{array}\\right.$"
   ]
  },
  {
   "cell_type": "markdown",
   "metadata": {},
   "source": [
    "a) \n",
    "\n",
    "$1-(1-e^{-\\frac{1}{500} *200}) \\approx 0.67$"
   ]
  },
  {
   "cell_type": "markdown",
   "metadata": {},
   "source": [
    "b) \n",
    "\n",
    "$1-e^{-\\frac{1}{500} *100} \\approx 0.18127$"
   ]
  },
  {
   "cell_type": "markdown",
   "metadata": {},
   "source": [
    "c) \n",
    "\n",
    "$(1-e^{-\\frac{1}{500} *300})-(1-e^{-\\frac{1}{500} *200}) \\approx 0.1215$"
   ]
  },
  {
   "cell_type": "markdown",
   "metadata": {},
   "source": [
    "d) \n",
    "\n",
    "$1-(1-e^{-\\frac{1}{500} *t_4}) = 0.9$\n",
    "\n",
    "$t_4 = -500\\ln(0.9)$"
   ]
  },
  {
   "cell_type": "markdown",
   "metadata": {},
   "source": [
    "e) \n",
    "\n",
    "$1-(1-e^{- \\lambda *50}) = 0.9$\n",
    "\n",
    "$\\lambda = -\\frac{\\ln(0.9)}{50} \\approx 0.0021$"
   ]
  },
  {
   "cell_type": "markdown",
   "metadata": {},
   "source": [
    "### Aufgabe 7"
   ]
  },
  {
   "cell_type": "markdown",
   "metadata": {},
   "source": [
    "Die Brenndauer einer Glühbirne (in Stunden) lasse sich durch eine Zufallsvariable $T$ mit der Dichte\n",
    "\n",
    "$$f(t)=\\left\\{\\begin{array}{ll}\n",
    "         \\lambda^2te^{-\\lambda t} & t >0 \\\\\n",
    "         0 & \\textrm{sonst}\n",
    "       \\end{array}\\right.$$\n",
    "       \n",
    "mit $\\lambda>0$ beschreiben.\n",
    "\n",
    "a) Wie lautet die Verteilungsfunktion von $T$?  \n",
    "b) Wie groß ist für $\\lambda=1/400$ die Wahrscheinlichkeit dafür, dass die Brenndauer einer Birne mehr als 200 Betriebsstunden beträgt?  \n",
    "c) Wie groß ist für $\\lambda=1/400$ die Wahrscheinlichkeit dafür, dass die Brenndauer zwischen 200 und 400 Stunden liegt?"
   ]
  },
  {
   "cell_type": "markdown",
   "metadata": {},
   "source": [
    "a) $\\int \\limits _0^t f_{\\lambda}(t)dt =\\int \\limits _0^t \\lambda^2te^{-\\lambda t}dt = \\frac{-t \\lambda -1 +e^{t \\lambda}}{e^{t \\lambda}}$\n",
    "\n",
    "$F(t)=\\left\\{\\begin{array}{ll}\n",
    "         \\frac{-t \\lambda -1 +e^{t \\lambda}}{e^{t \\lambda}} & t >0 \\\\\n",
    "         0 & \\textrm{sonst}\n",
    "       \\end{array}\\right.$"
   ]
  },
  {
   "cell_type": "markdown",
   "metadata": {},
   "source": [
    "b) \n",
    "\n",
    "$1-F(200) = 1 - \\frac{-200* \\frac{1}{400} -1 +e^{200* \\frac{1}{400}}}{e^{200 \\frac{1}{400}}} \\approx 0.91$"
   ]
  },
  {
   "cell_type": "markdown",
   "metadata": {},
   "source": [
    "c) \n",
    "\n",
    "$(\\frac{-400 \\frac{1}{400} -1 +e^{400* \\frac{1}{400}}}{e^{400 \\frac{1}{400}}})-(\\frac{-200* \\frac{1}{400} -1 +e^{200* \\frac{1}{400}}}{e^{200* \\frac{1}{400}}}) \\approx 0.174$"
   ]
  },
  {
   "cell_type": "markdown",
   "metadata": {},
   "source": [
    "### Aufgabe 8\n",
    "*(nur manuell)*"
   ]
  },
  {
   "cell_type": "markdown",
   "metadata": {},
   "source": [
    "$X$ und $Y$ seien Zufallsvariablen mit den Dichten $f$ bzw. $g$\n",
    "\n",
    "$$f(x)=\\left\\{\\begin{array}{ll}\n",
    "         \\frac{1}{2} & 0 \\leq x \\leq 2 \\\\\n",
    "         0 & \\textrm{sonst} \n",
    "       \\end{array}\\right.,\n",
    "g(y)=\\left\\{\\begin{array}{ll}\n",
    "         e^{-y} & y >0 \\\\\n",
    "         0 & \\textrm{sonst}\n",
    "       \\end{array}\\right. $$\n",
    "\n",
    "Man berechne die Verteilungsfunktionen der Zufallsvariablen $2X$, $Y^2$ und $4Y-1$ und gebe jeweils eine Dichte an."
   ]
  },
  {
   "cell_type": "markdown",
   "metadata": {},
   "source": [
    "$F_X(x) = \\left\\{\\begin{array}{ll}\n",
    "         0 & x < 0 \\\\   \n",
    "         \\frac{x}{2} & 0 \\leq x \\leq 2 \\\\\n",
    "         1 & x > 2 \n",
    "       \\end{array}\\right.$\n",
    "\n",
    "$F_Z(z) = P (Z \\leq z) = P(2X \\leq z) = P(X \\leq \\frac{z}{2})$\n",
    "\n",
    "$F_Z(z) = \\left\\{\\begin{array}{ll}\n",
    "         0 & z < 0 \\\\   \n",
    "         \\frac{z}{4} & 0 \\leq z \\leq 4 \\\\\n",
    "         1 & z > 4\n",
    "       \\end{array}\\right.$\n",
    "\n",
    "$f_Z(z)=\\left\\{\\begin{array}{ll}\n",
    "         \\frac{1}{4} & 0 \\leq x \\leq 4 \\\\\n",
    "         0 & \\textrm{sonst} \n",
    "       \\end{array}\\right.$"
   ]
  },
  {
   "cell_type": "markdown",
   "metadata": {},
   "source": [
    "$F_Y(y)=\\left\\{\\begin{array}{ll}\n",
    "         1-e^{-y} & y \\geq 0 \\\\\n",
    "         0 & y<0\n",
    "       \\end{array}\\right.$\n",
    "       \n",
    "$F_Z(z) = P (Y \\leq \\sqrt{z})$\n",
    "\n",
    "$F_Z(y)=\\left\\{\\begin{array}{ll}\n",
    "         e^{-\\sqrt{z}} & z \\geq 0 \\\\\n",
    "         0 & z < 0\n",
    "       \\end{array}\\right.$\n",
    "$f_Z(z)=\\left\\{\\begin{array}{ll}\n",
    "         \\frac{e^{-\\sqrt{z}}}{2\\sqrt{z}} & z > 0 \\\\\n",
    "         0 & \\textrm{sonst} \n",
    "       \\end{array}\\right.$"
   ]
  },
  {
   "cell_type": "markdown",
   "metadata": {},
   "source": [
    "$F_Y(y)=\\left\\{\\begin{array}{ll}\n",
    "         1-e^{-y} & y \\geq 0 \\\\\n",
    "         0 & y<0\n",
    "       \\end{array}\\right.$\n",
    "       \n",
    "$F_Z(z) = P (Z \\leq z) = P (4Y-1 \\leq z) = P (Y \\leq \\frac{z+1}{4})$\n",
    "\n",
    "$F_Z(y)=\\left\\{\\begin{array}{ll}\n",
    "         e^{-\\frac{z+1}{4}} & z \\geq -1 \\\\\n",
    "         0 & z < -1\n",
    "       \\end{array}\\right.$\n",
    "$f_Z(z)=\\left\\{\\begin{array}{ll}\n",
    "         \\frac{1}{4}e^{-\\frac{z+1}{4}}& z \\geq -1 \\\\\n",
    "         0 & \\textrm{sonst} \n",
    "       \\end{array}\\right.$"
   ]
  },
  {
   "cell_type": "code",
   "execution_count": null,
   "metadata": {},
   "outputs": [],
   "source": []
  }
 ],
 "metadata": {
  "kernelspec": {
   "display_name": "Python 3 (ipykernel)",
   "language": "python",
   "name": "python3"
  },
  "language_info": {
   "codemirror_mode": {
    "name": "ipython",
    "version": 3
   },
   "file_extension": ".py",
   "mimetype": "text/x-python",
   "name": "python",
   "nbconvert_exporter": "python",
   "pygments_lexer": "ipython3",
   "version": "3.10.10"
  }
 },
 "nbformat": 4,
 "nbformat_minor": 4
}
