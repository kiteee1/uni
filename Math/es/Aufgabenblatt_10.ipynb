{
 "cells": [
  {
   "cell_type": "markdown",
   "metadata": {},
   "source": [
    "# Aufgabenblatt 10"
   ]
  },
  {
   "cell_type": "markdown",
   "metadata": {},
   "source": [
    "## Regressionsanalyse"
   ]
  },
  {
   "cell_type": "code",
   "execution_count": 15,
   "metadata": {},
   "outputs": [],
   "source": [
    "import numpy as np\n",
    "import matplotlib.pyplot as plt\n",
    "from scipy import stats"
   ]
  },
  {
   "cell_type": "markdown",
   "metadata": {},
   "source": [
    "### Aufgabe 1"
   ]
  },
  {
   "cell_type": "markdown",
   "metadata": {},
   "source": [
    "Im Statistischen Jahrbuch für die Bundesrepublik Deutschland des Jahres 1986 finden sich folgende Angaben über das durchschnittliche Heiratsalter von Männern und Frauen, die zum ersten Mal heiraten:\n",
    "\n",
    "$$\n",
    "\\begin{array}{|c|c|c|c|}\n",
    "  \\hline\n",
    "  % after \\\\: \\hline or \\cline{col1-col2} \\cline{col3-col4} ...\n",
    "  \\mathrm{Nr.} & \\mathrm{Jahr} & x_i (\\mathrm{Männer}) & y_i (\\mathrm{Frauen}) \\\\ \\hline\n",
    "  1 & 1971 & 26.0 & 23.7 \\\\\n",
    "  2 & 1972 & 25.6 & 23.0 \\\\\n",
    "  3 & 1973 & 25.5 & 22.9 \\\\\n",
    "  4 & 1974 & 25.6 & 22.9 \\\\\n",
    "  5 & 1975 & 25.3 & 22.7 \\\\\n",
    "  6 & 1976 & 25.6 & 22.9 \\\\\n",
    "  7 & 1977 & 25.7 & 22.9 \\\\\n",
    "  8 & 1978 & 25.9 & 23.1 \\\\\n",
    "  9 & 1979 & 26.0 & 23.2 \\\\\n",
    "  10 & 1980 & 26.1 & 23.4 \\\\\n",
    "  11 & 1981 & 26.3 & 23.6 \\\\\n",
    "  12 & 1982 & 26.6 & 23.8 \\\\\n",
    "  13 & 1983 & 26.9 & 24.1 \\\\\n",
    "  14 & 1984 & 27.0 & 24.4 \\\\\n",
    "  \\hline\n",
    "\\end{array}\n",
    "$$\n",
    "\n",
    "Es wird angenommen, dass die Durchschnittswerte $y_i$ des Erstheiratsalters von Frauen durch unabhängige normalverteilte Zufallsvariablen $Y_i,i=1,\\ldots,14$, beschrieben werden können. Ferner sei vorausgesetzt, dass diese Zufallsvariablen die gleiche Varianz $\\sigma^2$ besitzen und die Erwartungswerte $E(Y_i)$ von der Form $E(Y_i)=a\\cdot x_i+b$ sind, wobei $x_i$ das dazugehörige durchschnittliche Erstheiratsalter der Männer im $i$-ten Jahr ist.\n",
    "\n",
    "a) Man berechne Maximum-Likelihood-Schätzwerte für die unbekannten Parameter $a$, $b$ und $\\sigma^2$. Plotten Sie die Datenpunkte und fügen Sie die Regressionsgerade hinzu.  \n",
    "b) Ist die Nullhypothese $b=0$ (das erwartete Durchschnittsalter der Frauen ist proportional zum Durchschnittsalter der Männer) auf dem 90\\%-Niveau zu verwerfen?"
   ]
  },
  {
   "cell_type": "code",
   "execution_count": null,
   "metadata": {},
   "outputs": [],
   "source": [
    "x <- c(26.0, 25.6, 25.5, 25.6, 25.3, 25.6, 25.7, 25.9, 26.0, 26.1, 26.3, 26.6, 26.9, 27.0)\n",
    "y <- c(23.7, 23.0, 22.9, 22.9, 22.7, 22.9, 22.9, 23.1, 23.2, 23.4, 23.6, 23.8, 24.1, 24.4)"
   ]
  },
  {
   "cell_type": "markdown",
   "metadata": {},
   "source": [
    "a)\n",
    "\n",
    "Wir haben 14 Datenpaare $(x_i,y_i)$ für $i=1,…,14$\n",
    "\n",
    "Das Modell lautet\n",
    "\n",
    "$$Y_i  =  ax_i  +  b  +  ε_i$$\n",
    "\n",
    "wobei\n",
    "\n",
    "$$ε_i  ∼  N(0,σ2)$$"
   ]
  },
  {
   "cell_type": "markdown",
   "metadata": {},
   "source": [
    "1. Maximum-Likelihood-Schätzer für aa und bb\n",
    "\n",
    "Da die $ε_i$ normalverteilte, homoskedastische (Varianz $σ_2$) und unkorrelierte Fehler sind, stimmen die Maximum-Likelihood-Schätzer hier mit den gewöhnlichen Kleinste‐Quadrate-Schätzern (OLS) überein. Die bekannten Formeln lauten\n",
    "\n",
    "1.1 Schätzer für $a$\n",
    "\n",
    "$$\\hat{a} = \\frac{\\sum\\limits^n_{i=1}(x_i-\\bar{x})(y_i-\\bar{y})}{\\sum\\limits^n_{i=1}(x_i-\\bar{x})^2} = \\frac{\\sum\\limits^n_{i=1}x_iy_i-\\frac{1}{n}(\\sum\\limits^n_{i=1}x_i)(\\sum\\limits^n_{i=1}y_i)}{\\sum\\limits^n_{i=1} - \\frac{1}{n}(\\sum\\limits^n_{i=1}x_i)^2}$$\n",
    "\n",
    "1.2 Schätzer für $b$\n",
    "\n",
    "$$\\hat{b} = \\bar{y}-\\hat{a}\\bar{x} \\text{ mit } \\bar{x} = \\frac{1}{n}\\sum\\limits^n_{i=1}x_i, \\text{ } \\bar{y} = \\frac{1}{n}\\sum\\limits^n_{i=1}y_i$$\n",
    "\n",
    "1.3 Schätzer für σ2σ2 (als MLE)\n",
    "\n",
    "$$\\sigma^2_{\\text{ML}} = \\frac{1}{n}\\sum\\limits^n_{i=1}(y_i-\\hat{a}x_i-\\hat{b})^2$$\n"
   ]
  },
  {
   "cell_type": "markdown",
   "metadata": {},
   "source": [
    "2. Numerische Auswertung"
   ]
  },
  {
   "cell_type": "code",
   "execution_count": 25,
   "metadata": {},
   "outputs": [
    {
     "name": "stdout",
     "output_type": "stream",
     "text": [
      "Summe x = 364.1\n",
      "Summe y = 326.59999999999997\n",
      "Summe x^2 = 9472.79\n",
      "Summe x*y = 8497.349999999999\n",
      "a (slope)      =   0.9520\n",
      "b (intercept)  =  -1.4313\n",
      "SSE            =   0.2353\n",
      "sigma^2 (MLE)  =   0.0168\n"
     ]
    }
   ],
   "source": [
    "import numpy as np\n",
    "\n",
    "x = np.array([26.0, 25.6, 25.5, 25.6, 25.3, 25.6,\n",
    "              25.7, 25.9, 26.0, 26.1, 26.3, 26.6, 26.9, 27.0])\n",
    "y = np.array([23.7, 23.0, 22.9, 22.9, 22.7, 22.9,\n",
    "              22.9, 23.1, 23.2, 23.4, 23.6, 23.8, 24.1, 24.4])\n",
    "\n",
    "n = len(x)\n",
    "\n",
    "# --- 1) Basic sums\n",
    "sx   = x.sum()\n",
    "sy   = y.sum()\n",
    "sxx  = (x**2).sum()\n",
    "sxy  = (x*y).sum()\n",
    "\n",
    "print(\"Summe x =\", sx)\n",
    "print(\"Summe y =\", sy)\n",
    "print(\"Summe x^2 =\", sxx)\n",
    "print(\"Summe x*y =\", sxy)\n",
    "\n",
    "X = np.column_stack((x, np.ones_like(x)))\n",
    "sol, residuals, rank, svals = np.linalg.lstsq(X, y, rcond=None)\n",
    "a, b = sol  \n",
    "\n",
    "SSE = np.sum((y - (a*x + b))**2)      \n",
    "sigma2_ML = SSE / n\n",
    "\n",
    "print(f\"a (slope)      = {a:8.4f}\")\n",
    "print(f\"b (intercept)  = {b:8.4f}\")\n",
    "print(f\"SSE            = {SSE:8.4f}\")\n",
    "print(f\"sigma^2 (MLE)  = {sigma2_ML:8.4f}\")\n"
   ]
  },
  {
   "cell_type": "markdown",
   "metadata": {},
   "source": [
    "$$\\hat{y} = 0.952x-1.43$$\n",
    "\n",
    "$$\\sigma^2_{\\text{MLE}} \\approx 0.0168$$"
   ]
  },
  {
   "cell_type": "code",
   "execution_count": 23,
   "metadata": {},
   "outputs": [
    {
     "data": {
      "image/png": "[encoded data removed]",
      "text/plain": [
       "<Figure size 600x400 with 1 Axes>"
      ]
     },
     "metadata": {},
     "output_type": "display_data"
    }
   ],
   "source": [
    "y_pred = a_hat * x + b_hat\n",
    "\n",
    "plt.figure(figsize=(6,4))\n",
    "plt.scatter(x, y, color=\"blue\", label=\"Datenpunkte\")\n",
    "plt.plot(x, y_pred, color=\"red\", label=\"Regression\")\n",
    "plt.xlabel(\"Durchschnittsalter Männer (x)\")\n",
    "plt.ylabel(\"Durchschnittsalter Frauen (y)\")\n",
    "plt.title(\"Lineare Regression: y = a*x + b\")\n",
    "plt.legend()\n",
    "plt.grid(True)\n",
    "plt.show()"
   ]
  },
  {
   "cell_type": "markdown",
   "metadata": {},
   "source": [
    "b)Test der Nullhypothese $H_0 ⁣:b=0$ auf dem $90%$-Niveau"
   ]
  },
  {
   "cell_type": "markdown",
   "metadata": {},
   "source": [
    "Wir wollen prüfen, ob das Achsenabschnitts-Glied bb möglicherweise null ist, also ob das Frauenalter (im Erwartungswert) rein proportional zum Männeralter ist (Modell: $E[Yi]=ax_i$).\n",
    "\n",
    "Formal:\n",
    "$H_0:b=0$ gegen $H_1:b \\neq 0$"
   ]
  },
  {
   "cell_type": "markdown",
   "metadata": {},
   "source": [
    "Teststatistik\n",
    "\n",
    "In der einfachen linearen Regression kennen wir den (zweiseitigen) t‐Test für bb. Üblicherweise verwendet man dabei die geschätzte Standardabweichung\n",
    "\n",
    "$$s=\\sqrt{\\frac{SSR}{n-2}}$$\n",
    "\n",
    "und hernach\n",
    "\n",
    "$$Var(\\hat{b}) = s^2(\\frac{1}{n}+\\frac{\\bar{x}^2}{S_{xx}})$$\n",
    "\n",
    "Die Teststatistik ist dann\n",
    "\n",
    "$$T = \\frac{\\hat{b}}{\\sqrt{Var(\\hat{b})}} ~ t_{n-2}$$\n",
    "\n",
    "Setzen wir die Zahlen ein:"
   ]
  },
  {
   "cell_type": "code",
   "execution_count": 21,
   "metadata": {},
   "outputs": [
    {
     "name": "stdout",
     "output_type": "stream",
     "text": [
      "=== Manuelle Testrechnung (b=0) ===\n",
      "b_hat              = -1.4313\n",
      "SE(b_hat)          = 1.9227\n",
      "T-Wert             = -0.7444\n",
      "t(krit; 90%-zweiseitig, df=12) = ±1.7823\n",
      "p-Wert             = 0.4710\n",
      "Ergebnis: |T| < t_crit => H0 (b=0) wird NICHT verworfen (alpha=0.1).\n"
     ]
    }
   ],
   "source": [
    "x = np.array([26.0, 25.6, 25.5, 25.6, 25.3, 25.6, 25.7, 25.9, 26.0, 26.1, 26.3, 26.6, 26.9, 27.0])\n",
    "y = np.array([23.7, 23.0, 22.9, 22.9, 22.7, 22.9, 22.9, 23.1, 23.2, 23.4, 23.6, 23.8, 24.1, 24.4])\n",
    "\n",
    "n = len(x)\n",
    "\n",
    "\n",
    "x_mean = np.mean(x)\n",
    "y_mean = np.mean(y)\n",
    "\n",
    "S_xx = np.sum((x - x_mean)**2)\n",
    "S_xy = np.sum((x - x_mean)*(y - y_mean))\n",
    "\n",
    "a_hat = S_xy / S_xx\n",
    "b_hat = y_mean - a_hat * x_mean\n",
    "\n",
    "residuals = y - (a_hat * x + b_hat)\n",
    "SSR = np.sum(residuals**2)\n",
    "\n",
    "s2_unbiased = SSR / (n - 2)\n",
    "\n",
    "Var_b = s2_unbiased * (1.0/n + (x_mean**2) / S_xx)\n",
    "SE_b = np.sqrt(Var_b)\n",
    "\n",
    "T_value = b_hat / SE_b\n",
    "\n",
    "df = n - 2\n",
    "\n",
    "alpha = 0.10\n",
    "t_crit = stats.t.ppf(1 - alpha/2, df)\n",
    "\n",
    "p_value = 2 * (1 - stats.t.cdf(abs(T_value), df))\n",
    "\n",
    "print(\"=== Manuelle Testrechnung (b=0) ===\")\n",
    "print(f\"b_hat              = {b_hat:.4f}\")\n",
    "print(f\"SE(b_hat)          = {SE_b:.4f}\")\n",
    "print(f\"T-Wert             = {T_value:.4f}\")\n",
    "print(f\"t(krit; 90%-zweiseitig, df={df}) = ±{t_crit:.4f}\")\n",
    "print(f\"p-Wert             = {p_value:.4f}\")\n",
    "if abs(T_value) > t_crit:\n",
    "    print(f\"Ergebnis: |T| > t_crit => H0 (b=0) wird verworfen (alpha={alpha}).\")\n",
    "else:\n",
    "    print(f\"Ergebnis: |T| < t_crit => H0 (b=0) wird NICHT verworfen (alpha={alpha}).\")"
   ]
  },
  {
   "cell_type": "markdown",
   "metadata": {},
   "source": [
    "### Aufgabe 2"
   ]
  },
  {
   "cell_type": "markdown",
   "metadata": {},
   "source": [
    "Wird ein Kondensator mit der Kapazität $C$ über einen Stromkreis mit dem Ohmschen Widerstand $R$ entladen, so ändert sich die Spannung in Abhängigkeit von der Zeit $t$ und der angelegten Anfangsspannung $U_0$ gemäß der Gleichung\n",
    "\n",
    "$$U(t)=U_0\\cdot e^{-t/(R\\cdot C)}, t\\geq0$$\n",
    "\n",
    "Aufgrund dieser Gesetzmäßigkeit kann man über Spannungsmessungen das Produkt $R\\cdot C$ ermitteln. Die tatsächlich gemessenen Spannungen sind jedoch aufgrund von Messfehlern und zufälligen Störungen nicht exakt durch dieses deterministische Gesetz gegeben, sondern weisen zufällige Abweichungen auf.\n",
    "\n",
    "Der Entladungsvorgang sei durch folgendes Modell angemessen beschrieben: Werden $n$ Kondensatoren einer bestimmten Serie über denselben Stromkreis entladen und wird für das $i$-te Exemplar $t_i$ Sekunden nach Beginn des Entladungsvorganges die Spannung $u_i$ gemessen, so lassen sich die Zahlen $y_i=\\ln{u_i},i=1,\\ldots,n$, als Realisierung von unabhängigen normalverteilten Zufallsvariablen $Y_i, i=1,\\ldots,n$, auffassen mit\n",
    "\n",
    "$$E(Y_i)=\\ln{U_0}-\\frac{t_i}{R\\cdot C}, Var(Y_i)=\\sigma^2, i=1,\\ldots,n$$\n",
    "\n",
    "Ausgehend von folgenden Messergebnissen bestimme man mit den Methoden der linearen Regression konkrete Schätzintervalle zum Niveau 0.95 für $U_0$ und $R\\cdot C$ sowie für die Varianz $\\sigma^2$:\n",
    "\n",
    "$$\n",
    "\\begin{array}{|c|c|c|c|c|c|c|c|c|c|c|c|c|}\n",
    "  \\hline\n",
    "  % after \\\\: \\hline or \\cline{col1-col2} \\cline{col3-col4} ...\n",
    "  t_i & 2.0 & 2.0 & 2.0 & 2.0 & 4.0 & 4.0 & 4.0 & 4.0 & 6.0 & 6.0 & 6.0 & 6.0 \\\\ \\hline\n",
    "  u_i & 5.10 & 5.12 & 5.13 & 4.98 & 3.43 & 3.40 & 3.41 & 3.46 & 2.24 & 2.25 & 2.30 & 2.35 \\\\\n",
    "  \\hline\n",
    "\\end{array}\n",
    "$$"
   ]
  },
  {
   "cell_type": "code",
   "execution_count": null,
   "metadata": {},
   "outputs": [],
   "source": [
    "t = c(2.0, 2.0, 2.0, 2.0, 4.0, 4.0, 4.0, 4.0, 6.0, 6.0, 6.0, 6.0)\n",
    "u = c(5.10, 5.12, 5.13, 4.98, 3.43, 3.40, 3.41, 3.46, 2.24, 2.25, 2.30, 2.35)"
   ]
  },
  {
   "cell_type": "markdown",
   "metadata": {},
   "source": [
    "### Aufgabe 3"
   ]
  },
  {
   "cell_type": "markdown",
   "metadata": {},
   "source": [
    "Es sei $X_1$ die Anzahl der in Gebrauch befindlichen Autos (Millionen), $X_2$ die Anzahl der in Gebrauch befindlichen Lastwagen (Millionen) und $Y$ der Benzinverbrauch in Millionen Barrels. Wir möchten die Regression von $Y$ auf $X_1$ und $X_2$ ermitteln, d.h.: $y_c=a+b_1x_1+b_2x_2$.\n",
    "\n",
    "$$\n",
    "\\begin{array}{|r|r|r|}\n",
    "  \\hline\n",
    "  X_1 & X_2 & Y \\\\ \\hline\n",
    "%   after \\\\: \\hline or \\cline{col1-col2} \\cline{col3-col4} ...\n",
    "  36 & 8 & 990   \\\\ \n",
    "  40 & 8 & 1140   \\\\ \n",
    "  44 & 9 & 1230   \\\\ \n",
    "  47 & 9 & 1320   \\\\ \n",
    "  50 & 10 & 1370   \\\\ \n",
    "  \\hline\n",
    "\\end{array}\n",
    "$$\n",
    "\n",
    "a) Man schätze $a$, $b_1$, $b_2$.  \n",
    "b) Man schätze $\\sigma^2$.  \n",
    "c) Man schätze $Var(b_1)$ und $Var(b_2)$."
   ]
  },
  {
   "cell_type": "code",
   "execution_count": null,
   "metadata": {},
   "outputs": [],
   "source": [
    "x1 <- c(36, 40, 44, 47, 50)\n",
    "x2 <- c(8, 8, 9, 9, 10)\n",
    "y <- c(990, 1140, 1230, 1320, 1370)"
   ]
  },
  {
   "cell_type": "markdown",
   "metadata": {},
   "source": [
    "1) Schätzung von $a$, $b_1$ und $b_2$\n",
    "\n",
    "In der klassischen linearen Regression werden die Parameter durch das Kleinste-Quadrate-Verfahren bestimmt.\n",
    "\n",
    "$$\\beta  =  (X^TX)^{-1} X^⊤y,$$\n",
    "\n",
    "wobei\n",
    "\n",
    "$\\beta=(a,b_1,b_2)^⊤$ der (unbekannte) Parametervektor ist,\n",
    "\n",
    "$X$ die Designmatrix ist, die in Spalte 1 nur Einsen (für den Intercept aa) hat, in Spalte 2 die Werte von $X_1$, in Spalte 3 die Werte von $X_2$,\n",
    "\n",
    "$y$ der Vektor der beobachteten $Y$-Werte ist."
   ]
  },
  {
   "cell_type": "code",
   "execution_count": 35,
   "metadata": {},
   "outputs": [
    {
     "name": "stdout",
     "output_type": "stream",
     "text": [
      "Geschätztes a (Intercept)  = 195.26066350718145\n",
      "Geschätztes b1            = 35.40284360189478\n",
      "Geschätztes b2            = -59.28909952604321\n"
     ]
    }
   ],
   "source": [
    "X1 = np.array([36, 40, 44, 47, 50], dtype=float)\n",
    "X2 = np.array([ 8,  8,  9,  9, 10], dtype=float)\n",
    "Y  = np.array([990, 1140, 1230, 1320, 1370], dtype=float)\n",
    "\n",
    "n = len(Y) \n",
    "\n",
    "X = np.column_stack((np.ones(n), X1, X2))\n",
    "\n",
    "XtX = X.T @ X\n",
    "Xty = X.T @ Y\n",
    "\n",
    "beta_hat = np.linalg.inv(XtX) @ Xty\n",
    "\n",
    "a_hat, b1_hat, b2_hat = beta_hat\n",
    "\n",
    "print(\"Geschätztes a (Intercept)  =\", a_hat)\n",
    "print(\"Geschätztes b1            =\", b1_hat)\n",
    "print(\"Geschätztes b2            =\", b2_hat)"
   ]
  },
  {
   "cell_type": "markdown",
   "metadata": {},
   "source": [
    "2) Schätzung von $\\sigma^2$\n",
    "Mathematische Herleitung\n",
    "\n",
    "Die geschätzten (oder gefitteten) Werte $\\hat{y}_i$ für jeden Datenpunkt ergeben sich aus:\n",
    "\n",
    "$$\\hat{y}_i = \\hat{a}+\\hat{b}_1x_{1,i}+\\hat{b}_2x_{2,i} <=> \\hat{y} = X\\hat{\\beta}$$\n",
    "\n",
    "Die Residuen (Abweichungen) sind:\n",
    "\n",
    "$$e_i = y_i-\\hat{y}_i$$\n",
    "\n",
    "Die Summe der Residuenquadrate ($SSE$) ist:\n",
    "$$SSE = \\sum\\limits^n_{i=1}(y_i-\\hat{y}_i)^2 = \\sum\\limits^n_{i=1}e^2_i$$\n",
    "\n",
    "\n",
    "Zur Schätzung der Fehlervarianz σ2σ2 benutzt man:\n",
    "\n",
    "$$\\sigma^2 = \\frac{SSE}{n-p}$$\n",
    "\n",
    "wobei $p$ die Anzahl geschätzter Parameter ist (hier $p=3$ für $a,b_1,b_2$)."
   ]
  },
  {
   "cell_type": "code",
   "execution_count": 34,
   "metadata": {},
   "outputs": [
    {
     "name": "stdout",
     "output_type": "stream",
     "text": [
      "\n",
      "SSE = 188.6255924170582\n",
      "Geschätzte Residuenvarianz σ^2 = 94.3127962085291\n"
     ]
    }
   ],
   "source": [
    "y_hat = X @ beta_hat\n",
    "\n",
    "residuals = Y - y_hat\n",
    "\n",
    "SSE = np.sum(residuals**2)\n",
    "\n",
    "p = 3  \n",
    "sigma2_hat = SSE / (n - p)\n",
    "\n",
    "print(\"\\nSSE =\", SSE)\n",
    "print(\"Geschätzte Residuenvarianz σ^2 =\", sigma2_hat)"
   ]
  },
  {
   "cell_type": "markdown",
   "metadata": {},
   "source": [
    "3) Schätzung von $Var(\\hat{b}_1)$ und $Var(\\hat{b}_2)$\n",
    "\n",
    "Aus der Theorie der linearen Regression weiß man:\n",
    "\n",
    "$$Cov(\\hat{\\beta}) = \\sigma^2(X^TX)^{-1}$$\n",
    "\n",
    "Die diagonalen Elemente dieser Kovarianzmatrix liefern die Varianzen der jeweiligen Parameter:\n",
    "\n",
    "$$Var(\\hat{a}) = \\hat{\\sigma}^2⋅[(X^TX)^{−1}]_{11}, Var(\\hat{b}_1) = \\hat{\\sigma}^2⋅[(X^TX)^{−1}]_{22}, Var(\\hat{b}_2) = \\hat{\\sigma}^2⋅[(X^TX)^{−1}]_{33}$$"
   ]
  },
  {
   "cell_type": "code",
   "execution_count": 33,
   "metadata": {},
   "outputs": [
    {
     "name": "stdout",
     "output_type": "stream",
     "text": [
      "[[36.30805687  0.74881517 -7.79620853]\n",
      " [ 0.74881517  0.06635071 -0.41232227]\n",
      " [-7.79620853 -0.41232227  2.91943128]]\n",
      "Var(a_hat)  = 3424.3143685002237\n",
      "Var(b1_hat) = 6.257721075447518\n",
      "Var(b2_hat) = 275.3397273196913\n"
     ]
    }
   ],
   "source": [
    "XtX_inv = np.linalg.inv(XtX)\n",
    "print(XtX_inv)\n",
    "cov_beta = sigma2_hat * XtX_inv\n",
    "\n",
    "var_a_hat  = cov_beta[0,0]\n",
    "var_b1_hat = cov_beta[1,1]\n",
    "var_b2_hat = cov_beta[2,2]\n",
    "\n",
    "print(\"Var(a_hat)  =\", var_a_hat)\n",
    "print(\"Var(b1_hat) =\", var_b1_hat)\n",
    "print(\"Var(b2_hat) =\", var_b2_hat)"
   ]
  },
  {
   "cell_type": "markdown",
   "metadata": {},
   "source": [
    "Zusammenfassung der Ergebnisse\n",
    "\n",
    "Regressionsgleichung\n",
    "\n",
    "$$\\hat{y} = 195.3+35.4x_1-59.3x_2$$\n",
    "\n",
    "Residuenvarianz\n",
    "\n",
    "$$\\hat{\\sigma}^2 \\approx 94.3$$\n",
    "\n",
    "Varianzen von $\\hat{b}_1$ und $\\hat{b}_1$\n",
    "\n",
    "$$Var(\\hat{b}_1) \\approx 6.26, Var(\\hat{b}_2) \\approx 275.34$$"
   ]
  },
  {
   "cell_type": "markdown",
   "metadata": {},
   "source": [
    "### Aufgabe 4"
   ]
  },
  {
   "cell_type": "markdown",
   "metadata": {},
   "source": [
    "\n",
    "$X\\ldots$ Produktionsmenge, $Y\\ldots$ Gesamtkosten\n",
    "\n",
    "$$\n",
    "\\begin{array}{|l|r|r|r|r|r|r|r|r|r|r|r|r|r|r|}\n",
    "  \\hline\n",
    "%   after \\\\: \\hline or \\cline{col1-col2} \\cline{col3-col4} ...\n",
    "  X & 49 & 25 & 60 & 30 & 58 & 65 & 55 & 20 & 40 & 35 & 30 & 45 \\\\ \\hline\n",
    "  Y & 214 & 112 & 265 & 142 & 250 & 275 & 240 & 104 & 175 & 165 & 128 & 205 \\\\\n",
    "  \\hline\n",
    "\\end{array}\n",
    "$$\n",
    "\n",
    "Bestimmen Sie:\n",
    "\n",
    "a) $\\hat{y}=a+bx$  \n",
    "b) das Bestimmtheitsmaß  \n",
    "c) ein 99\\% Konfidenzintervall für die durchschnittlichen Gesamtkosten mit einer Produktionsmenge von $x_0=52$ Stück  \n",
    "d) ein 95\\% Prognoseintervall für die Gesamtkosten mit einer Produktionsmenge von $x_0=70$ Stück\n"
   ]
  },
  {
   "cell_type": "code",
   "execution_count": null,
   "metadata": {},
   "outputs": [],
   "source": [
    "x <- c(49, 25, 60, 30, 58, 65, 55, 20, 40, 35, 30, 45)\n",
    "y <- c(214, 112, 265, 142, 250, 275, 240, 104, 175, 165, 128, 205)"
   ]
  },
  {
   "cell_type": "markdown",
   "metadata": {},
   "source": [
    "### Aufgabe 5"
   ]
  },
  {
   "cell_type": "markdown",
   "metadata": {},
   "source": [
    "$$\n",
    "\\begin{array}{|l|r|r|r|r|r|}\n",
    "  \\hline\n",
    "%   after \\\\: \\hline or \\cline{col1-col2} \\cline{col3-col4} ...\n",
    "  X & 0 & 1 & 2 & 3 & 4    \\\\ \\hline\n",
    "  Y & 130 & 145 & 150 & 165 & 170 \\\\\n",
    "  \\hline\n",
    "\\end{array}\n",
    "$$\n",
    "\n",
    "a) Berechnen Sie das Bestimmtheitsmaß.  \n",
    "b) Testen Sie mit Hilfe eines F-Tests ($\\alpha=0.05$) die Hypothese, dass in der Grundgesamtheit kein Zusammenhang zwischen den Variablen $X$ und $Y$ besteht."
   ]
  },
  {
   "cell_type": "code",
   "execution_count": null,
   "metadata": {},
   "outputs": [],
   "source": [
    "x <- seq(0,4)\n",
    "y <- c(130, 145, 150, 165, 170)"
   ]
  },
  {
   "cell_type": "code",
   "execution_count": 37,
   "metadata": {},
   "outputs": [
    {
     "name": "stdout",
     "output_type": "stream",
     "text": [
      "a_hat = 132.00000000000006\n",
      "b_hat = 9.999999999999991\n",
      "\n",
      "SST = 1030.0\n",
      "SSE = 29.999999999999943\n",
      "SSR = 1000.0\n",
      "R^2 = 0.970873786407767\n",
      "\n",
      "F = 100.0000000000002\n",
      "F_crit(0.05; 1,3) = 10.127964486013928\n",
      "Ergebnis: H0 wird verworfen => Es besteht ein signifikanter linearer Zusammenhang.\n"
     ]
    }
   ],
   "source": [
    "import numpy as np\n",
    "from scipy.stats import f\n",
    "\n",
    "# ============================\n",
    "# 1) Daten\n",
    "# ============================\n",
    "X_data = np.array([0, 1, 2, 3, 4], dtype=float)\n",
    "Y_data = np.array([130, 145, 150, 165, 170], dtype=float)\n",
    "\n",
    "n = len(Y_data)\n",
    "\n",
    "# ============================\n",
    "# 2) Designmatrix\n",
    "# ============================\n",
    "X_mat = np.column_stack((np.ones(n), X_data))\n",
    "\n",
    "# ============================\n",
    "# 3) OLS-Schätzung\n",
    "# ============================\n",
    "XtX = X_mat.T @ X_mat\n",
    "Xty = X_mat.T @ Y_data\n",
    "beta_hat = np.linalg.inv(XtX) @ Xty\n",
    "\n",
    "a_hat, b_hat = beta_hat\n",
    "\n",
    "print(\"a_hat =\", a_hat)\n",
    "print(\"b_hat =\", b_hat)\n",
    "\n",
    "# ============================\n",
    "# 4) Bestimmtheitsmaß R^2\n",
    "# ============================\n",
    "Y_hat = X_mat @ beta_hat\n",
    "Y_mean = np.mean(Y_data)\n",
    "\n",
    "SST = np.sum((Y_data - Y_mean)**2)\n",
    "SSE = np.sum((Y_data - Y_hat)**2)\n",
    "SSR = SST - SSE\n",
    "\n",
    "R2 = SSR / SST\n",
    "\n",
    "print(\"\\nSST =\", SST)\n",
    "print(\"SSE =\", SSE)\n",
    "print(\"SSR =\", SSR)\n",
    "print(\"R^2 =\", R2)\n",
    "\n",
    "# 5) F-Test\n",
    "\n",
    "df_reg = 1      # wir haben nur 1 Regressor\n",
    "df_err = n - 2  # Schätzung von a und b\n",
    "\n",
    "MSR = SSR / df_reg\n",
    "MSE = SSE / df_err\n",
    "\n",
    "F_stat = MSR / MSE\n",
    "\n",
    "print(\"\\nF =\", F_stat)\n",
    "\n",
    "alpha = 0.05\n",
    "F_crit = f.ppf(1 - alpha, df_reg, df_err)\n",
    "print(\"F_crit(0.05; 1,3) =\", F_crit)\n",
    "\n",
    "if F_stat > F_crit:\n",
    "    print(\"Ergebnis: H0 wird verworfen => Es besteht ein signifikanter linearer Zusammenhang.\")\n",
    "else:\n",
    "    print(\"Ergebnis: H0 kann nicht verworfen werden => Kein signifikanter Zusammenhang.\")"
   ]
  },
  {
   "cell_type": "markdown",
   "metadata": {},
   "source": [
    "### Aufgabe 6"
   ]
  },
  {
   "cell_type": "markdown",
   "metadata": {},
   "source": [
    "In Wien werden seit 1775 monatliche Durchschnittstemperaturen registriert. Seien $x_1,\\ldots,$ $x_{201}$ bzw. $y_1,\\ldots,y_{201}$ die Durchschnittstemperaturen in $^\\circ$C für die Monate Januar bzw. Februar in den Jahren 1775 bis einschließlich 1975. Wir nehmen an, dass die Messreihe $y_1,\\ldots,y_{201}$ eine Realisierung von unabhängigen normalverteilten Zufallsvariablen $Y_1,\\ldots,$ $Y_{201}$ ist und dass für $i=1,\\ldots,201$\n",
    "\n",
    "$$E(Y_i)=a\\cdot x_i+b, Var(Y_i)=\\sigma^2$$\n",
    "\n",
    "gilt. Die 201 Messungen lieferten folgende Kennzahlen\n",
    "\n",
    "$$\\overline{x}=-1.569,\\overline{y}=0.051,\\sum_{i=1}^{201}(x_i-\\overline{x})^2=1649.7, \\sum_{i=1}^{201}(y_i-\\overline{y})^2=1567.9, \\sum_{i=1}^{201}(x_i-\\overline{x})(y_i-\\overline{y})=513.0$$\n",
    "\n",
    "Man berechne mit Hilfe der linearen Regression ein Prognoseintervall zum Niveau 0.9 für die durchschnittliche Februartemperatur, wenn im Januar durchschnittlich $-2^\\circ$C beobachtet wurde."
   ]
  },
  {
   "cell_type": "markdown",
   "metadata": {},
   "source": [
    "### Aufgabe 7"
   ]
  },
  {
   "cell_type": "markdown",
   "metadata": {},
   "source": [
    "In Fortsetzung der vorangegangenen Aufgabe berechne man ein Prognoseintervall ohne Berücksichtigung der Information über die Temperatur im Januar. Man setze lediglich voraus, dass die Zufallsvariablen $Y_1,\\ldots,Y_{201}$ unabhängig und identisch normalverteilt sind.\n",
    "\n",
    "*Hinweis:* Man zeige zunächst: Sind $Y$ und $Y_1,\\ldots,Y_{201}$ unabhängig und besitzt $Y$ dieselbe Verteilung wie $Y_1,\\ldots,Y_{201}$, so gilt mit Wahrscheinlichkeit $1-\\alpha$\n",
    "\n",
    "$$\\overline{Y}-V\\leq Y\\leq \\overline{Y}+V$$\n",
    "\n",
    "wobei $V=t_{200;0.95}\\cdot\\sqrt{\\frac{202}{201\\cdot200}\\cdot\\sum_{i=1}^{201}(y_i-\\overline{y})^2}$ zu setzen ist."
   ]
  },
  {
   "cell_type": "markdown",
   "metadata": {},
   "source": [
    "Zufallsgrößen und Verteilungen\n",
    "\n",
    "$\\bar{Y}$ ist normalverteilt mit\n",
    "\n",
    "$$\\bar{Y} ∼ N⁣(\\mu,  \\frac{\\sigma^2}{n})$$\n",
    "\n",
    "$Y$ ist ebenfalls $N⁣(\\mu,  \\frac{\\sigma^2}{n})$ verteilt und unabhängig von $\\bar{Y}$\n",
    "\n",
    "Der Unterschied $Y−\\bar{Y}$ folgt einer Normalverteilung mit:\n",
    "    $$Y−\\bar{Y} ∼ N⁣(\\mu,  \\sigma^2 +\\frac{\\sigma^2}{n})  =  N⁣(\\mu,  \\sigma^2 (1 +\\frac{1}{n}))$$\n",
    "\n",
    "Wir wollen ein Intervall $\\bar{Y} \\pm V$ so bestimmen, dass\n",
    "\n",
    "$$P(\\overline{Y}-V\\leq Y\\leq \\overline{Y}+V) = 1-\\alpha$$\n",
    "\n",
    "Das ist äquivalent zu\n",
    "\n",
    "$$P(|Y-\\overline{Y}|\\leq V) = 1-\\alpha$$\n",
    "P(∣Y−Y∣≤V)=1−α.\n",
    "\n",
    "\n",
    "\n",
    "Ersetzen von $\\sigma^2$ durch die Stichprobenvarianz\n",
    "\n",
    "Da $\\sigma^2$ unbekannt ist, verwenden wir den Schätzer $S_2$. Für eine i.i.d. normalverteilte Stichprobe gilt bekanntlich:\n",
    "\n",
    "$$\\frac{(n-1)S^2}{\\sigma^2} ~ \\chi^2_{n-1}$$\n",
    "\n",
    "Außerdem führt man den sogenannten t-Statistik-Ansatz ein:\n",
    "\n",
    "$$T = \\frac{Y-\\bar{Y}/\\sqrt{1+\\frac{1}{n}}}{\\sqrt{S^2}}$$\n",
    "\n",
    "denn $Y-\\bar{Y}$ ist normalverteilt mit Varianz $\\sigma^2(1+\\frac{1}{n})$, und $\\frac{S^2}{\\sigma^2}$ ist $\\chi^2$-verteilt (unabhängig von $Y-\\bar{Y}$). Daraus ergibt sich die t-Verteilung mit $n−1$ Freiheitsgraden.\n",
    "\n",
    "\n",
    "\n",
    "Konfidenzbereich / Prognosebereich\n",
    "\n",
    "Aus der t-Verteilung folgt für ein zweiseitiges Konfidenzniveau $1−\\alpha$:\n",
    "\n",
    "$$P ⁣(−t_{n−1;1−\\alpha/2}  \\leq  T  ≤  + t_{n−1;1−\\alpha/2})  =  1−\\alpha$$\n",
    "\n",
    "Das bedeutet\n",
    "\n",
    "$$∣T∣ ≤ t_{n−1;1−\\alpha/2} <=> ∣Y-\\bar{Y}∣  \\leq  t_{n−1;1−\\alpha/2}\\sqrt{S^2 (1+\\frac{1}{n})}$$\n",
    "\n",
    "Bezeichnet man nun\n",
    "\n",
    "\n",
    "$$V = t_{n−1;1−\\alpha/2}\\sqrt{S^2 (1+\\frac{1}{n})}$$\n",
    "\n",
    "dann ist\n",
    "\n",
    "$$P(\\overline{Y}-V\\leq Y\\leq \\overline{Y}+V) = 1-\\alpha$$\n",
    "\n",
    "2.4 Spezialisierung auf n=201n=201\n",
    "\n",
    "Im konkreten Fall haben wir $n=201$. Dann:\n",
    "\n",
    "$\\bar{Y} = \\frac{1}{201}\\sum\\limits^{201}_{i=1}y_i$\n",
    "\n",
    "$S^2 = \\frac{1}{200}\\sum\\limits^{201}_{i=1}(y_i-\\bar{y}_i)^2$\n",
    "\n",
    "$1+\\frac{1}{n} = \\frac{202}{201}$\n",
    "\n",
    "Daher\n",
    "\n",
    "$$V = t_{200;1−\\alpha/2}\\sqrt{\\frac{1}{200}\\sum\\limits^{201}_{i=1}(y_i-\\bar{y}_i)^2 * \\frac{202}{201}}$$\n",
    "\n",
    "Rechnet man den Vorfaktor zusammen, erhält man genau\n",
    "\n",
    "$$V = t_{200;0.95}\\sqrt{\\frac{202}{201*200}\\sum\\limits^{201}_{i=1}(y_i-\\bar{y}_i)^2}$$"
   ]
  },
  {
   "cell_type": "markdown",
   "metadata": {},
   "source": [
    "### Aufgabe 8"
   ]
  },
  {
   "cell_type": "markdown",
   "metadata": {},
   "source": [
    "Gegeben sei eine Stichprobe folgender Wertpaare:\n",
    "\n",
    "$x_i$: 5.5 2.4 4.8 12.9 9.4 7.8 14.9 11.2 12.9 12.1 9.8 3.1\n",
    "\n",
    "$y_i$: 31.5 15.2 31.6 76.8 57.7 43.3 83.5 70.2 70.1 68.5 52.7 29.3\n",
    "\n",
    "a) Man berechne die lineare Regressionsfunktion. Plotten Sie die Datenpunkte und fügen Sie die Regressionsgerade hinzu.  \n",
    "b) Man überprüfe mittels Kolmogoroff-Smirnov-Test ($\\alpha=0.05$), ob die Abweichungen von der Regressionsgeraden normalverteilt sind."
   ]
  },
  {
   "cell_type": "code",
   "execution_count": null,
   "metadata": {},
   "outputs": [],
   "source": [
    "x <- c(5.5, 2.4, 4.8, 12.9, 9.4, 7.8, 14.9, 11.2, 12.9, 12.1, 9.8, 3.1)\n",
    "y <- c(31.5, 15.2, 31.6, 76.8, 57.7, 43.3, 83.5, 70.2, 70.1, 68.5, 52.7, 29.3)"
   ]
  }
 ],
 "metadata": {
  "kernelspec": {
   "display_name": "Python 3 (ipykernel)",
   "language": "python",
   "name": "python3"
  },
  "language_info": {
   "codemirror_mode": {
    "name": "ipython",
    "version": 3
   },
   "file_extension": ".py",
   "mimetype": "text/x-python",
   "name": "python",
   "nbconvert_exporter": "python",
   "pygments_lexer": "ipython3",
   "version": "3.10.10"
  }
 },
 "nbformat": 4,
 "nbformat_minor": 4
}
