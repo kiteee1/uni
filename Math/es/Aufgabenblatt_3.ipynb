{
 "cells": [
  {
   "cell_type": "markdown",
   "metadata": {},
   "source": [
    "# Aufgabenblatt 3"
   ]
  },
  {
   "cell_type": "markdown",
   "metadata": {},
   "source": [
    "## Laplace-Wahrscheinlichkeiten"
   ]
  },
  {
   "cell_type": "markdown",
   "metadata": {},
   "source": [
    "### Aufgabe 1"
   ]
  },
  {
   "cell_type": "markdown",
   "metadata": {},
   "source": [
    "Neun Personen besteigen einen Zug mit drei Wagen. Jede Person wählt zufällig und unabhängig von den anderen Personen einen Wagen. Wie groß ist unter geeigneter Laplace-Annahme die Wahrscheinlichkeit dafür, dass\n",
    "\n",
    "a) genau drei Personen in den ersten Wagen steigen,  \n",
    "b) jeweils drei Personen in jeden Wagen steigen,  \n",
    "c) die neun Personen sich in Gruppen zu zwei, drei und vier Personen auf die drei Wagen aufteilen?"
   ]
  },
  {
   "cell_type": "markdown",
   "metadata": {},
   "source": [
    "Wir verwenden die multinomiale Verteilung $P(X_1 = x_1, X_2 = x_2,...,X_k = x_k,)=\\frac{n!}{x_1!x_2!...x_k!}*(p_1)^{x_1}*(p_2)^{x_2}*...*(p_k)^{x_k}$"
   ]
  },
  {
   "cell_type": "markdown",
   "metadata": {},
   "source": [
    "a) $P(X_1 = 3, X_2 = 6)=\\frac{9!}{3!6!}*(\\frac{1}{3})^3*(\\frac{2}{3})^6 \\approx0,2731$"
   ]
  },
  {
   "cell_type": "markdown",
   "metadata": {},
   "source": [
    "b) $P(X_1 = 3, X_2 = 3, X_3=3)=\\frac{9!}{3!3!3!}*(\\frac{1}{3})^3*(\\frac{1}{3})^3*(\\frac{1}{3})^3 \\approx0,08535$"
   ]
  },
  {
   "cell_type": "markdown",
   "metadata": {},
   "source": [
    "c) $P(X_1 = 3, X_2 = 6)=\\frac{9!}{2!3!4!}*(\\frac{1}{3})^2*(\\frac{1}{3})^3*(\\frac{1}{3})^4 \\approx0,064$"
   ]
  },
  {
   "cell_type": "markdown",
   "metadata": {},
   "source": [
    "### Aufgabe 2"
   ]
  },
  {
   "cell_type": "markdown",
   "metadata": {},
   "source": [
    "Aus einer Tabelle (einstelliger) Zufallsziffern werden nacheinander Ziffern entnommen. Wie viele Ziffern muss man mindestens entnehmen, damit unter ihnen mit einer Wahrscheinlichkeit $\\geq 0.95$ mindestens eine ungerade ist."
   ]
  },
  {
   "cell_type": "markdown",
   "metadata": {},
   "source": [
    "Die Wahrscheinlichkeit, dass eine einzelne Ziffer gerade ist, beträgt 0,5"
   ]
  },
  {
   "cell_type": "markdown",
   "metadata": {},
   "source": [
    "Da jede Ziffer unabhängig ausgewählt wird, beträgt die Wahrscheinlichkeit, dass alle nn Ziffern gerade sind, $(0,5)^n$."
   ]
  },
  {
   "cell_type": "markdown",
   "metadata": {},
   "source": [
    "Wir wollen, dass die Wahrscheinlichkeit, dass mindestens eine Ziffer ungerade ist, mindestens $0,95$ beträgt. Daher sollte die Wahrscheinlichkeit, dass alle Ziffern gerade sind, höchstens $0,05$ betragen:"
   ]
  },
  {
   "cell_type": "markdown",
   "metadata": {},
   "source": [
    "$$(0,5)^n\\leq0,05$$"
   ]
  },
  {
   "cell_type": "markdown",
   "metadata": {},
   "source": [
    "$$(\\frac{1}{2})^n\\leq \\frac{1}{20}$$"
   ]
  },
  {
   "cell_type": "markdown",
   "metadata": {},
   "source": [
    "$$n \\geq \\log_2{(20)}$$"
   ]
  },
  {
   "cell_type": "markdown",
   "metadata": {},
   "source": [
    "$$n \\geq 4,3219$$"
   ]
  },
  {
   "cell_type": "markdown",
   "metadata": {},
   "source": [
    "Da $n$ eine Ganzzahl und größer als $4,3219$ sein muss, ist die kleinste Ganzzahl, die die Bedingung erfüllt, $5$.\n",
    "\n",
    "Antwort: $5$"
   ]
  },
  {
   "cell_type": "markdown",
   "metadata": {},
   "source": [
    "### Aufgabe 3"
   ]
  },
  {
   "cell_type": "markdown",
   "metadata": {},
   "source": [
    "Ein Produktionsverfahren zur Herstellung von bestimmten elektronischen Bauteilen liefert im Mittel 10\\% Ausschuss, 40\\% Produkte zweiter und 50\\% Produkte erster Wahl. Aus der laufenden Fertigung werden 4 Bauteile entnommen. Unter geeigneten Annahmen (\"Ziehen mit Zurücklegen\") berechne man die Wahrscheinlichkeit dafür, dass sich unter den 4 entnommenen Bauteilen\n",
    "\n",
    "a) ausschließlich Bauteile erster Wahl befinden,  \n",
    "b) kein Ausschuss und höchstens ein Bauteil zweiter Wahl befindet,  \n",
    "c) mindestens drei Bauteile erster Wahl befinden."
   ]
  },
  {
   "cell_type": "markdown",
   "metadata": {},
   "source": [
    "<table ><tr><th >Typ <th><th> Ausschuss <th><th> Zweiter <th><th> Erster <tr><tr>\n",
    "<tr><td> Wahrshceinlichkeit <td><td> 10% <td><td> 40% <td><td> 50% <td><tr><table>"
   ]
  },
  {
   "cell_type": "markdown",
   "metadata": {},
   "source": [
    "a) $(0,5)^4=0,0625$"
   ]
  },
  {
   "cell_type": "markdown",
   "metadata": {},
   "source": [
    "b) Alle 4 nicht Ausschuss: $(1-0,1)^4=0,6561$"
   ]
  },
  {
   "cell_type": "markdown",
   "metadata": {},
   "source": [
    "Vorausgesetzt, ein Artikel ist nicht defekt, werden die Wahrscheinlichkeiten angepasst: "
   ]
  },
  {
   "cell_type": "markdown",
   "metadata": {},
   "source": [
    "$$P(Zw \\wedge nicht Aus) = \\frac{0,4}{0,9} = \\frac{4}{9}$$"
   ]
  },
  {
   "cell_type": "markdown",
   "metadata": {},
   "source": [
    "$$P(Erst \\wedge nicht Aus) = \\frac{0,5}{0,9} = \\frac{5}{9}$$"
   ]
  },
  {
   "cell_type": "markdown",
   "metadata": {},
   "source": [
    "Fall 1: Alle vier sind Produkte erster Wahl:"
   ]
  },
  {
   "cell_type": "markdown",
   "metadata": {},
   "source": [
    "$$(\\frac{5}{9})^4 = \\frac{625}{6561}$$"
   ]
  },
  {
   "cell_type": "markdown",
   "metadata": {},
   "source": [
    "Fall 2: Genau einer ist zweite Wahl und drei sind erste Wahl:"
   ]
  },
  {
   "cell_type": "markdown",
   "metadata": {},
   "source": [
    "$$P(X_1 = 1, X_2 = 3)=\\frac{4!}{1!3!}*(\\frac{4}{9})^1*(\\frac{5}{9})^3 = \\frac{2000}{6561}$$"
   ]
  },
  {
   "cell_type": "markdown",
   "metadata": {},
   "source": [
    "Gesamtwahrscheinlichkeit für höchstens ein B-Ware unter den fehlerfreien Artikeln:"
   ]
  },
  {
   "cell_type": "markdown",
   "metadata": {},
   "source": [
    "$$\\frac{625}{6561}+\\frac{2000}{6561}=\\frac{2625}{6561}$$"
   ]
  },
  {
   "cell_type": "markdown",
   "metadata": {},
   "source": [
    "Kombinierte Wahrscheinlichkeit:"
   ]
  },
  {
   "cell_type": "markdown",
   "metadata": {},
   "source": [
    "$$\\frac{2625}{6561}*0,6561=\\frac{21}{80}=0,2625$$"
   ]
  },
  {
   "cell_type": "markdown",
   "metadata": {},
   "source": [
    "c)"
   ]
  },
  {
   "cell_type": "markdown",
   "metadata": {},
   "source": [
    "Fall 1: Genau vier Produkte erster Wahl:"
   ]
  },
  {
   "cell_type": "markdown",
   "metadata": {},
   "source": [
    "$$(0,5)^4 = 0,0625$$"
   ]
  },
  {
   "cell_type": "markdown",
   "metadata": {},
   "source": [
    "Fall 2: Genau drei Produkte erster Wahl:"
   ]
  },
  {
   "cell_type": "markdown",
   "metadata": {},
   "source": [
    "$$P(X_1 = 1, X_2 = 3)=\\frac{4!}{1!3!}*(0,5)^1*(0,5)^3 = 0,25$$"
   ]
  },
  {
   "cell_type": "markdown",
   "metadata": {},
   "source": [
    "Gesamte Wahrscheinlichkeit:"
   ]
  },
  {
   "cell_type": "markdown",
   "metadata": {},
   "source": [
    "$$0,0625+0,25=0,3125$$"
   ]
  },
  {
   "cell_type": "markdown",
   "metadata": {},
   "source": [
    "### Aufgabe 4"
   ]
  },
  {
   "cell_type": "markdown",
   "metadata": {},
   "source": [
    "Das Ergebnis eines Roulette-Spieles ist eine der Zahlen 1 bis 36 oder die 0, die alle mit gleicher Wahrscheinlichkeit auftreten. Man kann bei einfacher Gewinnchance auf die geraden Zahlen ($2,4,\\ldots,36$; \"Pair\") oder die ungeraden Zahlen ($1,3,5,\\ldots,35$; \"Impair\") setzen. Ein Spieler setze immer auf \"Pair\".\n",
    "\n",
    "a) Wie groß ist die Wahrscheinlichkeit dafür, dass er bei 10 Spielen genau 2-mal bzw. genau 3-mal Erfolg hat?  \n",
    "b) Man bestimme die Wahrscheinlichkeit $p_k$ dafür, dass der Spieler beim $k$-ten Spiel ($k \\in \\mathbb{N}$) zum ersten Erfolg kommt, und berechne diese Wahrscheinlichkeit für $k=1,2,3$ bzw. $k=10$.  \n",
    "c) Das Einsatzlimit betrage 5000 Euro. Der Spieler beginnt mit einem Einsatz von 5 Euro und nimmt sich vor, bei Verlust seinen Einsatz im jeweils nächsten Spiel zu verdoppeln und bei Gewinn aufzuhören. Wie groß ist die Wahrscheinlichkeit dafür, dass er wegen Überschreitung des Limits aufhören muss, bevor er einen Gewinn realisieren kann?"
   ]
  },
  {
   "cell_type": "markdown",
   "metadata": {},
   "source": [
    "Verlust Wahrscheinlichkeit: $\\frac{19}{37}$\n",
    "\n"
   ]
  },
  {
   "cell_type": "markdown",
   "metadata": {},
   "source": [
    "a)\n",
    "\n",
    "Genau 2-mal Erfolg: $P(X_1=2, X_2=8) = \\frac{10!}{2!8!}*(\\frac{18}{37})^2*(\\frac{19}{37})^8 \\approx 0,0515$\n",
    "\n",
    "Genau 3-mal Erfolg: $P(X_1=3, X_2=7) = \\frac{10!}{3!7!}*(\\frac{18}{37})^3*(\\frac{19}{37})^7\\approx 0,13$\n"
   ]
  },
  {
   "cell_type": "markdown",
   "metadata": {},
   "source": [
    "b) Wir nutzen geometrische Wahrscheinlichkeit Formel: $p_k=\n",
    "q^{(k-1)}*p$\n",
    "\n",
    "$p_1=q^0*p=1*\\frac{18}{37} \\approx 0,4865$\n",
    "\n",
    "$p_2=q^1*p=(\\frac{19}{37})^1*\\frac{18}{37} \\approx 0,25$\n",
    "\n",
    "$p_3=q^2*p=(\\frac{19}{37})^2*\\frac{18}{37} \\approx 0,128$\n",
    "\n",
    "$p_{10}=q^9*p=(\\frac{19}{37})^9*\\frac{18}{37} \\approx 0,0012$\n",
    "\n",
    "\n"
   ]
  },
  {
   "cell_type": "markdown",
   "metadata": {},
   "source": [
    "c) $NaechsteSpiel = 5*2^N$\n",
    "\n",
    "$5*2^N \\leq 5000$\n",
    "\n",
    "$N \\lessapprox 9,9658$\n",
    "\n",
    "Der Spieler kann also biz zu 9 Mal verlieren, bevor der naechste erforderliche Einsatz das Limit ueberschreitet.\n",
    "\n",
    "Wahrscheinlichkeit von 10 Verlusten: $(\\frac{19}{37})^{10} \\approx 0,00128$\n",
    "\n",
    "\n"
   ]
  },
  {
   "cell_type": "markdown",
   "metadata": {},
   "source": [
    "### Aufgabe 5\n"
   ]
  },
  {
   "cell_type": "markdown",
   "metadata": {},
   "source": [
    "Bei einer Nikolausfeier im Kindergarten bringt jedes der 12 Kinder ein Päckchen mit, das der Nikolaus in seinen Sack steckt. Später verteilt er die 12 Päckchen wieder zufällig an die Kinder. Wie groß ist (unter geeigneter Laplace-Annahme) die Wahrscheinlichkeit dafür, dass keines der Kinder sein eigenes Päckchen zurückbekommt?\n"
   ]
  },
  {
   "cell_type": "markdown",
   "metadata": {},
   "source": [
    "\n",
    "1) Wir muessen die Anzahl möglicher fixpunktfreier Permutationen einer Menge mit $n$ Elementen, was wird durch die Subfakultät $!n$ angegeben.\n",
    "2) Um die Wahrsvheinlichkeit zu bestimmen, dividieren wir die Anzahl möglicher fixpunktfreier Permutationen durch die Anzahl aller Permutationen"
   ]
  },
  {
   "cell_type": "markdown",
   "metadata": {},
   "source": [
    "$$!n = n!\\sum\\limits_{i=0}^n\\frac{(-1)^i}{i!}$$\n",
    "$$Antwort = \\frac{!12}{12!}=\\frac{176.214.841}{479.001.600}\\approx\\frac{1}{e}\\approx 0,3679$$\n"
   ]
  },
  {
   "cell_type": "markdown",
   "metadata": {},
   "source": [
    "### Aufgabe 6"
   ]
  },
  {
   "cell_type": "markdown",
   "metadata": {},
   "source": [
    "Beim \"Doppelkopf-Spiel\" wird ein Kartenspiel mit 48 Karten durchgemischt und es werden an vier Spieler je zwölf Karten verteilt. Acht der 48 Karten heißen \"Damen\", zwei der acht Damen heißen \"Kreuz-Damen\". Man berechne unter der Laplace-Annahme die Wahrscheinlichkeit für folgendes Ereignis: Ein Spieler erhält beide Kreuz-Damen."
   ]
  },
  {
   "cell_type": "markdown",
   "metadata": {},
   "source": [
    "### Aufgabe 7"
   ]
  },
  {
   "cell_type": "markdown",
   "metadata": {},
   "source": [
    "In Fortsetzung der vorangegangenen Aufgabe berechne man unter der Laplace-Annahme die Wahrscheinlichkeit für folgendes Ereignis: Ein Spieler erhält beide Kreuz-Damen und mindestens drei weitere Damen."
   ]
  },
  {
   "cell_type": "markdown",
   "metadata": {},
   "source": [
    "### Aufgabe 8"
   ]
  },
  {
   "cell_type": "markdown",
   "metadata": {},
   "source": [
    "In Fortsetzung der vorangegangenen Aufgabe berechne man unter der Laplace-Annahme die Wahrscheinlichkeit für folgendes Ereignis: Zwei Spieler erhalten je eine Kreuz-Dame und mindestens zwei weitere Damen."
   ]
  }
 ],
 "metadata": {
  "kernelspec": {
   "display_name": "R",
   "language": "R",
   "name": "ir"
  },
  "language_info": {
   "codemirror_mode": "r",
   "file_extension": ".r",
   "mimetype": "text/x-r-source",
   "name": "R",
   "pygments_lexer": "r",
   "version": "4.4.1"
  }
 },
 "nbformat": 4,
 "nbformat_minor": 4
}
