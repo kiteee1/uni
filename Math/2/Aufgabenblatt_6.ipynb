{
 "cells": [
  {
   "cell_type": "markdown",
   "metadata": {},
   "source": [
    "# Aufgabenblatt 6"
   ]
  },
  {
   "cell_type": "markdown",
   "metadata": {},
   "source": [
    "## Eindimensionale Analysis – Unbestimmte Integrale"
   ]
  },
  {
   "cell_type": "markdown",
   "metadata": {},
   "source": [
    "### Aufgabe 1\n",
    "\n",
    "Berechnen Sie folgendes unbestimmtes Integral:\n",
    "\n",
    "$$\n",
    "\\int \\frac{dx}{x\\log{x}}\n",
    "$$"
   ]
  },
  {
   "cell_type": "markdown",
   "metadata": {},
   "source": [
    "Lass $t=\\ln{x}$, dann mit $dx = \\frac{1}{t'}*dt; t' = \\frac{1}{x}$"
   ]
  },
  {
   "cell_type": "markdown",
   "metadata": {},
   "source": [
    "$$\n",
    "\\int \\frac{1}{x\\log{x}}*\\frac{1}{\\frac{1}{x}}dt\n",
    "$$"
   ]
  },
  {
   "cell_type": "markdown",
   "metadata": {},
   "source": [
    "$$\\int \\frac{1}{\\log{x}}dt$$"
   ]
  },
  {
   "cell_type": "markdown",
   "metadata": {},
   "source": [
    "$$\\int \\frac{1}{t}dt$$"
   ]
  },
  {
   "cell_type": "markdown",
   "metadata": {},
   "source": [
    "$$\\ln{|t|}+C,C\\in\\mathbb{R}$$"
   ]
  },
  {
   "cell_type": "markdown",
   "metadata": {},
   "source": [
    "$$\\ln{|\\ln{x}|}+C,C\\in\\mathbb{R}$$"
   ]
  },
  {
   "cell_type": "markdown",
   "metadata": {},
   "source": [
    "### Aufgabe 2\n",
    "\n",
    "Berechnen Sie mittels partieller Integration:\n",
    "\n",
    "$$\n",
    "\\int \\sin{x}\\cos{x}dx\n",
    "$$"
   ]
  },
  {
   "cell_type": "markdown",
   "metadata": {},
   "source": [
    "$$\\int udv = uv - \\int vdu$$"
   ]
  },
  {
   "cell_type": "markdown",
   "metadata": {},
   "source": [
    "$$u = \\sin{x}; du=\\cos{x}dx$$\n",
    "$$dv=\\cos{x}dx; v = \\sin{x}$$\n",
    "$$\n",
    "\\int \\sin{x}\\cos{x}dx = \\sin^2{x}-\\int \\sin{s}\\cos{x}dx\n",
    "$$"
   ]
  },
  {
   "cell_type": "markdown",
   "metadata": {},
   "source": [
    "\n",
    "$$\n",
    "2\\int \\sin{x}\\cos{x}dx = \\sin^2{x}\n",
    "$$"
   ]
  },
  {
   "cell_type": "markdown",
   "metadata": {},
   "source": [
    "\n",
    "$$\n",
    "\\int \\sin{x}\\cos{x}dx = \\frac{\\sin^2{x}}{2}\n",
    "$$"
   ]
  },
  {
   "cell_type": "markdown",
   "metadata": {},
   "source": [
    "### Aufgabe 3\n",
    "\n",
    "Berechnen Sie mittels partieller Integration:\n",
    "\n",
    "$$\n",
    "\\int x\\arctan{x}dx\n",
    "$$"
   ]
  },
  {
   "cell_type": "markdown",
   "metadata": {},
   "source": [
    "$$u = \\arctan{x}; du=\\frac{1}{1+x^2}dx$$\n",
    "$$dv=xdx; v = \\frac{x^2}{2}$$\n",
    "$$\n",
    "\\int x\\arctan{x}dx = \\frac{x^2}{2}\\arctan{x}- \\int \\frac{x^2}{2}*\\frac{1}{1+x^2}dx\n",
    "$$"
   ]
  },
  {
   "cell_type": "markdown",
   "metadata": {},
   "source": [
    "$$\n",
    "\\frac{x^2}{2}\\arctan{x}- \\frac{1}{2}\\int \\frac{x^2}{1+x^2}dx\n",
    "$$"
   ]
  },
  {
   "cell_type": "markdown",
   "metadata": {},
   "source": [
    "$$\n",
    "\\frac{x^2}{2}\\arctan{x}- \\frac{1}{2}(\\int \\frac{x^2+1}{1+x^2}dx - \\int\\frac{1}{1+x^2}dx)\n",
    "$$"
   ]
  },
  {
   "cell_type": "markdown",
   "metadata": {},
   "source": [
    "$$\n",
    "\\frac{x^2}{2}\\arctan{x}- \\frac{1}{2}(x - \\arctan{x})\n",
    "$$"
   ]
  },
  {
   "cell_type": "markdown",
   "metadata": {},
   "source": [
    "$$\n",
    "\\frac{x^2\\arctan{x}+\\arctan{x}}{2}-\\frac{1}{2}x+C, C\\in\\mathbb R\n",
    "$$"
   ]
  },
  {
   "cell_type": "markdown",
   "metadata": {},
   "source": [
    "### Aufgabe 4\n",
    "\n",
    "Berechnen Sie mittels partieller Integration:\n",
    "\n",
    "$$\n",
    "\\int x^2\\sin{x}dx\n",
    "$$"
   ]
  },
  {
   "cell_type": "markdown",
   "metadata": {},
   "source": [
    "$$u = x^2; du=2xdx$$\n",
    "$$dv=\\sin{x}dx; v = -\\cos{x}$$\n",
    "$$\n",
    "-x^2\\cos{x}+2\\int x\\cos{x}dx\n",
    "$$"
   ]
  },
  {
   "cell_type": "markdown",
   "metadata": {},
   "source": [
    "$$u = x; du=dx$$\n",
    "$$dv=\\cos{x}dx; v = \\sin{x}$$"
   ]
  },
  {
   "cell_type": "markdown",
   "metadata": {},
   "source": [
    "$$\n",
    "-x^2\\cos{x}+2(x\\sin{x}-\\int \\sin{x}dx)\n",
    "$$"
   ]
  },
  {
   "cell_type": "markdown",
   "metadata": {},
   "source": [
    "$$\n",
    "-x^2\\cos{x}+2(x\\sin{x}+\\cos{x})\n",
    "$$"
   ]
  },
  {
   "cell_type": "markdown",
   "metadata": {},
   "source": [
    "$$\n",
    "-x^2\\cos{x}+2x\\sin{x}+2\\cos{x}+C, C\\in\\mathbb R\n",
    "$$"
   ]
  },
  {
   "cell_type": "markdown",
   "metadata": {},
   "source": [
    "### Aufgabe 5\n",
    "\n",
    "Berechnen Sie mittels partieller Integration:\n",
    "\n",
    "$$\n",
    "\\int \\log{x}dx\n",
    "$$"
   ]
  },
  {
   "cell_type": "markdown",
   "metadata": {},
   "source": [
    "$$u = \\log{x}; du=\\frac{1}{x}dx$$\n",
    "$$dv=dx; v = x$$"
   ]
  },
  {
   "cell_type": "markdown",
   "metadata": {},
   "source": [
    "$$\n",
    "\\int \\log{x}dx = x\\log{x}-\\int x*\\frac{1}{x}dx=x\\log{x}-x+C, C\\in\\mathbb R\n",
    "$$"
   ]
  },
  {
   "cell_type": "markdown",
   "metadata": {},
   "source": [
    "### Aufgabe 6\n",
    "\n",
    "Berechnen Sie $\\int \\frac{dx}{\\sin{x}}$. Hinweis: Verwenden Sie die\n",
    "Substitution: $u=\\tan{\\frac{x}{2}}$."
   ]
  },
  {
   "cell_type": "markdown",
   "metadata": {},
   "source": [
    "$$u=\\tan{\\frac{x}{2}}; dx = \\frac{1}{u'}du$$\n",
    "$$u'=\\frac{1}{2\\cos^2{\\frac{x}{2}}}$$"
   ]
  },
  {
   "cell_type": "markdown",
   "metadata": {},
   "source": [
    "$$\\int \\frac{2\\cos^2{\\frac{x}{2}}}{\\sin{x}}du=\\int \\frac{2\\cos^2{\\frac{x}{2}}}{2\\sin{\\frac{x}{2}}\\cos{\\frac{x}{2}}}du=\\int \\frac{\\cos{\\frac{x}{2}}}{\\sin{\\frac{x}{2}}}du=\\int \\frac{1}{\\tan{\\frac{x}{2}}}du=\\int \\frac{1}{u}du=\\ln{(|u|)}+C, C\\in\\mathbb R$$"
   ]
  },
  {
   "cell_type": "markdown",
   "metadata": {},
   "source": [
    "$$\\ln{(|\\tan{\\frac{x}{2}}|)}+C, C\\in\\mathbb R$$"
   ]
  },
  {
   "cell_type": "markdown",
   "metadata": {},
   "source": [
    "### Aufgabe 7\n",
    "\n",
    "Berechnen Sie $\\int x^2\\sqrt{1-x^2}dx$. Hinweis: Verwenden Sie die\n",
    "Substitution: $x=\\sin{t}$."
   ]
  },
  {
   "cell_type": "markdown",
   "metadata": {},
   "source": [
    "$$x=\\sin{t}; dx = \\cos{t}dt$$\n",
    "$$t=\\arcsin{x}$$"
   ]
  },
  {
   "cell_type": "markdown",
   "metadata": {},
   "source": [
    "$$\\int \\sin^2{t}\\sqrt{1-\\sin^2{t}}\\cos{t}dt=\\int \\sin^2{t}\\cos^2{t}dt=\\frac{1}{4}\\int \\sin^2{2t}dt=$$"
   ]
  },
  {
   "cell_type": "markdown",
   "metadata": {},
   "source": [
    "$$u=2t$$\n",
    "$$dt=\\frac{1}{u'}du$$\n",
    "$$u'=2$$"
   ]
  },
  {
   "cell_type": "markdown",
   "metadata": {},
   "source": [
    "$$=\\frac{1}{4}\\int \\frac{1}{2}\\sin^2{2t}du=\\frac{1}{8}\\int \\sin^2{u}du=\\frac{1}{8}\\int \\frac{1-\\cos{2u}}{2}du=\\frac{1}{16}\\int 1-\\cos{2u}du=\\frac{1}{16}(\\int1du-\\int\\cos{2u}du)$$"
   ]
  },
  {
   "cell_type": "markdown",
   "metadata": {},
   "source": [
    "$$v=2u$$\n",
    "$$v'=2$$"
   ]
  },
  {
   "cell_type": "markdown",
   "metadata": {},
   "source": [
    "$$\\int\\cos{2u}du=\\int \\frac{\\cos{v}}{2}dv=\\frac{1}{2}\\sin{v}=\\frac{1}{2}\\sin{2u}$$"
   ]
  },
  {
   "cell_type": "markdown",
   "metadata": {},
   "source": [
    "$$\\frac{1}{16}(u-\\frac{\\sin{2u}}{2})=\\frac{1}{16}(2t-\\frac{\\sin{4t}}{2})=\\frac{1}{16}(2\\arcsin{x}-\\frac{\\sin{(4\\arcsin{x}})}{2})=\\frac{1}{8}\\arcsin{x}-\\frac{1}{32}\\sin{(4\\arcsin{x})}+C, C\\in\\mathbb R$$"
   ]
  },
  {
   "cell_type": "markdown",
   "metadata": {},
   "source": [
    "### Aufgabe 8\n",
    "\n",
    "Berechnen Sie $\\int x\\sqrt{1+x^2}dx$. Hinweis: Verwenden Sie die\n",
    "Substitution: $x=\\sinh{t}$."
   ]
  },
  {
   "cell_type": "markdown",
   "metadata": {},
   "source": [
    "$$\\DeclareMathOperator{\\arcsinh}{arcsinh}$$\n",
    "$$x=\\sinh{t}; dx = \\cosh{t}dt$$\n",
    "$$t=\\arcsinh{x}$$"
   ]
  },
  {
   "cell_type": "markdown",
   "metadata": {},
   "source": [
    "$$\\int \\sinh{t}\\sqrt{1-\\sinh^2{t}}\\cosh{t}dt= \\int \\sinh{t}\\cosh^2{t}dt$$"
   ]
  },
  {
   "cell_type": "markdown",
   "metadata": {},
   "source": [
    "$$u=\\cosh{t}$$\n",
    "$$dt=\\frac{1}{u'}du$$\n",
    "$$u'=\\sinh{t}$$"
   ]
  },
  {
   "cell_type": "markdown",
   "metadata": {},
   "source": [
    "$$\\int \\sinh{t}\\cosh^2{t}\\frac{1}{\\sinh{t}}du=\\int \\cosh^2{t}du=\\int u^2du=\\frac{u^3}{3}=\\frac{\\cosh{t}}{3}=\\frac{\\cosh{(\\arcsinh{x})}}{3}+C, C\\in\\mathbb R$$"
   ]
  },
  {
   "cell_type": "markdown",
   "metadata": {},
   "source": [
    "Die Antwort kann in dieser Form belassen werden, ich werde sie jedoch in eine andere Form übersetzen mittels:"
   ]
  },
  {
   "cell_type": "markdown",
   "metadata": {},
   "source": [
    "$$\\cosh^2{y}-\\sinh^2{y}=1$$\n",
    "$$\\cosh^2{(\\arcsinh{h})}-\\sinh^2{(\\arcsinh{h})}=1$$\n",
    "$$\\cosh^2{(\\arcsinh{h})}-h^2=1$$\n",
    "$$\\cosh{(\\arcsinh{h})}=\\sqrt{1+h^2}$$"
   ]
  },
  {
   "cell_type": "markdown",
   "metadata": {},
   "source": [
    "$$\\frac{\\sqrt{1+x^2}^3}{3}=\\frac{(1+x^2)\\sqrt{1+x^2}}{3}+C, C\\in\\mathbb R$$"
   ]
  },
  {
   "cell_type": "code",
   "execution_count": null,
   "metadata": {},
   "outputs": [],
   "source": []
  }
 ],
 "metadata": {
  "kernelspec": {
   "display_name": "Python 3 (ipykernel)",
   "language": "python",
   "name": "python3"
  },
  "language_info": {
   "codemirror_mode": {
    "name": "ipython",
    "version": 3
   },
   "file_extension": ".py",
   "mimetype": "text/x-python",
   "name": "python",
   "nbconvert_exporter": "python",
   "pygments_lexer": "ipython3",
   "version": "3.10.10"
  }
 },
 "nbformat": 4,
 "nbformat_minor": 4
}
