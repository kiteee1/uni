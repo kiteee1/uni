{
 "cells": [
  {
   "cell_type": "markdown",
   "metadata": {},
   "source": [
    "# Aufgabenblatt 9"
   ]
  },
  {
   "cell_type": "markdown",
   "metadata": {},
   "source": [
    "## Mehrdimensionale Analysis – Partielle Ableitungen 2"
   ]
  },
  {
   "cell_type": "markdown",
   "metadata": {},
   "source": [
    "### Aufgabe 1\n",
    "\n",
    "Stellen Sie die Gleichung der Tangentialebene von $f(x,y)=x^2y^3$ im\n",
    "Punkt $P(1|-1)$ auf."
   ]
  },
  {
   "cell_type": "markdown",
   "metadata": {},
   "source": [
    "$$F = f(x_0;y_0) +f_x(x_0;y_0)(x-x_0)+f_y(x_0;y_0)(y-y_0)$$"
   ]
  },
  {
   "cell_type": "markdown",
   "metadata": {},
   "source": [
    "$$f_x=2xy^3; f_y=3x^2y^2$$ \n"
   ]
  },
  {
   "cell_type": "markdown",
   "metadata": {},
   "source": [
    "$$F = 1^2*(-1)^3+2*1^2*(-1)^3(x-1)+3*1*(-1)^2(y+1) = -2x+3y+4$$"
   ]
  },
  {
   "cell_type": "markdown",
   "metadata": {},
   "source": [
    "### Aufgabe 2\n",
    "\n",
    "Die Gleichung einer Fläche $F$ lautet $x^2yz+3y^2-2xz^2+8z=0$.\n",
    "\n",
    "a) Wie lautet die Gleichung der Normalen im Punkt $(1,2,-1)$?  \n",
    "b) Wie lautet die Gleichung der Tangentialebene im Punkt\n",
    "$(1,2,-1)$? Hinweis: Gleichung der Tangentialebene: $\\nabla\n",
    "F(x_0)(x-x_0)=0.$ "
   ]
  },
  {
   "cell_type": "markdown",
   "metadata": {},
   "source": [
    "b)"
   ]
  },
  {
   "cell_type": "markdown",
   "metadata": {},
   "source": [
    "$$f_x=2xyz-2z^2; f_y=x^2z+6y; f_z=x^2y-4xz+8$$ "
   ]
  },
  {
   "cell_type": "markdown",
   "metadata": {},
   "source": [
    "$$f(x_0;y_0) = 1^2*2*(-1)+3*2^2-2*1*(-1)^2+8*(-1)=0$$"
   ]
  },
  {
   "cell_type": "markdown",
   "metadata": {},
   "source": [
    "$$F=0 + (2*1*2(-1)-2*(-1)^2)(x-1)+(1^2*(-1)+6*2)(y-2)+(1^2*2-4*1*(-1)+8)(z+1) = -6x+11y+16z$$"
   ]
  },
  {
   "cell_type": "markdown",
   "metadata": {},
   "source": [
    "a)"
   ]
  },
  {
   "cell_type": "markdown",
   "metadata": {},
   "source": [
    "Normalenvektor der Tangentenebene$$\\vec{n}((F'_x(M_0),F'_y(M_0),)F'_z(M_0))$$"
   ]
  },
  {
   "cell_type": "markdown",
   "metadata": {},
   "source": [
    "in unserem fall $F'_x(M_0) = -6; F'_y(M_0)=11; F'_z(M_0)=16$"
   ]
  },
  {
   "cell_type": "markdown",
   "metadata": {},
   "source": [
    "kanonische Normalgleichungen für einen Punkt und einen Richtungsvektor\n",
    "$$\\frac{x-x_0}{F'_x(M_0)} = \\frac{y-y_0}{F'_y(M_0)} = \\frac{z-z_0}{F'_z(M_0)}$$"
   ]
  },
  {
   "cell_type": "markdown",
   "metadata": {},
   "source": [
    "$$-\\frac{x-1}{6} = \\frac{y-2}{11} = \\frac{z+1}{16}$$"
   ]
  },
  {
   "cell_type": "markdown",
   "metadata": {},
   "source": [
    "### Aufgabe 3\n",
    "\n",
    "Es sei folgendes Vektorfeld gegeben:\n",
    "\n",
    "$$\n",
    "\\mathbf{V}=\\left(\n",
    "\\begin{array}{c}\n",
    " x^2z \\\\\n",
    " -2y^3z^2\\\\\n",
    "xy^2z\n",
    "  \\end{array} \\right)\n",
    "$$\n",
    "\n",
    "Die Divergenz eines Vektorfeldes $\\mathbf{V}$ ist definiert als das\n",
    "skalare Produkt des Nabla-Operators mit $\\mathbf{V}$:\n",
    "div$\\mathbf{V}=\\nabla\\cdot \\mathbf{V}$. Bestimmen Sie\n",
    "div$\\mathbf{V}$ im Punkt $(1,-1,1)$.\n"
   ]
  },
  {
   "cell_type": "markdown",
   "metadata": {},
   "source": [
    "$$divV=\\frac{\\delta v_x}{\\delta x}+\\frac{\\delta v_y}{\\delta y}+\\frac{\\delta v_z}{\\delta z}$$"
   ]
  },
  {
   "cell_type": "markdown",
   "metadata": {},
   "source": [
    "$$\\frac{\\delta v_x}{\\delta x} = \\frac{\\delta}{\\delta x}(x^2z)=2zx$$"
   ]
  },
  {
   "cell_type": "markdown",
   "metadata": {},
   "source": [
    "$$\\frac{\\delta v_y}{\\delta y} = \\frac{\\delta}{\\delta y}(-2y^3z^2)=-6z^2y^2$$"
   ]
  },
  {
   "cell_type": "markdown",
   "metadata": {},
   "source": [
    "$$\\frac{\\delta v_z}{\\delta z} = \\frac{\\delta}{\\delta z}(xy^2z)=xy^2$$"
   ]
  },
  {
   "cell_type": "markdown",
   "metadata": {},
   "source": [
    "$$divV=2zx+-6z^2y^2+xy^2$$"
   ]
  },
  {
   "cell_type": "markdown",
   "metadata": {},
   "source": [
    "im P(1;-1;1) $$divV=2*1*1+-6*1^2*(-1)^2+1*(-1)^2=-3$$"
   ]
  },
  {
   "cell_type": "markdown",
   "metadata": {},
   "source": [
    "### Aufgabe 4\n",
    "\n",
    "Es sei folgendes Vektorfeld gegeben:\n",
    "\n",
    "$$\n",
    "\\mathbf{V}=\\left(\n",
    "\\begin{array}{c}\n",
    " xz^3 \\\\\n",
    " -2x^2yz\\\\\n",
    "2yz^4\n",
    "  \\end{array} \\right)\n",
    "$$\n",
    "\n",
    "Die Rotation eines Vektorfeldes $\\mathbf{V}$ ist definiert als das\n",
    "vektorielle Produkt des Nabla-Operators mit $\\mathbf{V}$:\n",
    "rot$\\mathbf{V}=\\nabla\\times \\mathbf{V}$. Bestimmen Sie\n",
    "rot$\\mathbf{V}$ im Punkt $(1,-1,1)$.\n"
   ]
  },
  {
   "cell_type": "markdown",
   "metadata": {},
   "source": [
    "$$rotV=\\left(\n",
    "\\begin{array}{c}\n",
    "\\delta_y v_z - \\delta_x v_y \\\\\n",
    "\\delta_z v_x - \\delta_x v_z \\\\\n",
    "\\delta_x v_y - \\delta_y v_x\n",
    "  \\end{array} \\right)$$"
   ]
  },
  {
   "cell_type": "markdown",
   "metadata": {},
   "source": [
    "$$rotV=\\left(\n",
    "\\begin{array}{c}\n",
    "\\frac{\\delta}{\\delta y}(2yz^4)- \\frac{\\delta}{\\delta z}(-2x^2yz) \\\\\n",
    "\\frac{\\delta}{\\delta z}(xz^3)- \\frac{\\delta}{\\delta x}(2yz^4) \\\\\n",
    "\\frac{\\delta}{\\delta x}(-2x^2yz)- \\frac{\\delta}{\\delta y}(xz^3)\n",
    "  \\end{array} \\right)$$"
   ]
  },
  {
   "cell_type": "markdown",
   "metadata": {},
   "source": [
    "$$rotV=\\left(\n",
    "\\begin{array}{c}\n",
    "2z^4+2x^2y \\\\\n",
    "3xz^2 \\\\\n",
    "-4xyz\n",
    "  \\end{array} \\right)$$"
   ]
  },
  {
   "cell_type": "markdown",
   "metadata": {},
   "source": [
    "im P(1;-1;1) $$rotV=\\left(\n",
    "\\begin{array}{c}\n",
    "2*1^4+2*1^2*(-1) \\\\\n",
    "3*1*1^2 \\\\\n",
    "-4*1*(-1)*1\n",
    "  \\end{array} \\right) =\\left(\n",
    "\\begin{array}{c}\n",
    "0 \\\\\n",
    "3 \\\\\n",
    "4\n",
    "  \\end{array} \\right)$$"
   ]
  },
  {
   "cell_type": "markdown",
   "metadata": {},
   "source": [
    "### Aufgabe 5\n",
    "\n",
    "Bilden Sie das vollständige Differential nachstehender Funktionen:\n",
    "\n",
    "a) $f(x,y)=x^2y$  \n",
    "b) $f(x,y)=e^{x/y}$  \n",
    "c) $f(x,y)=\\sqrt{x^2+y^2}$\n"
   ]
  },
  {
   "cell_type": "markdown",
   "metadata": {},
   "source": [
    "$$df(x,y)=\\frac{\\delta f(x,y)}{\\delta x}dx +\\frac{\\delta f(x,y)}{\\delta y}dy$$"
   ]
  },
  {
   "cell_type": "markdown",
   "metadata": {},
   "source": [
    "a)"
   ]
  },
  {
   "cell_type": "markdown",
   "metadata": {},
   "source": [
    "$$\\frac{\\delta f(x,y)}{\\delta x}=2yx$$"
   ]
  },
  {
   "cell_type": "markdown",
   "metadata": {},
   "source": [
    "$$\\frac{\\delta f(x,y)}{\\delta y}=x^2$$"
   ]
  },
  {
   "cell_type": "markdown",
   "metadata": {},
   "source": [
    "$$df(x,y) = 2yxdx+x^2dy$$"
   ]
  },
  {
   "cell_type": "markdown",
   "metadata": {},
   "source": [
    "b)"
   ]
  },
  {
   "cell_type": "markdown",
   "metadata": {},
   "source": [
    "$$\\frac{\\delta f(x,y)}{\\delta x}=\\frac{e^{\\frac{x}{y}}}{y}$$"
   ]
  },
  {
   "cell_type": "markdown",
   "metadata": {},
   "source": [
    "$$\\frac{\\delta f(x,y)}{\\delta y}=-\\frac{xe^{\\frac{x}{y}}}{y^2}$$"
   ]
  },
  {
   "cell_type": "markdown",
   "metadata": {},
   "source": [
    "$$df(x,y) = \\frac{e^{\\frac{x}{y}}}{y}dx-\\frac{xe^{\\frac{x}{y}}}{y^2}dy$$"
   ]
  },
  {
   "cell_type": "markdown",
   "metadata": {},
   "source": [
    "c)"
   ]
  },
  {
   "cell_type": "markdown",
   "metadata": {},
   "source": [
    "$$\\frac{\\delta f(x,y)}{\\delta x}=\\frac{x}{\\sqrt{x^2+y^2}}$$"
   ]
  },
  {
   "cell_type": "markdown",
   "metadata": {},
   "source": [
    "$$\\frac{\\delta f(x,y)}{\\delta y}=\\frac{y}{\\sqrt{x^2+y^2}}$$"
   ]
  },
  {
   "cell_type": "markdown",
   "metadata": {},
   "source": [
    "$$df(x,y) = \\frac{x}{\\sqrt{x^2+y^2}}dx + \\frac{y}{\\sqrt{x^2+y^2}}dy$$"
   ]
  },
  {
   "cell_type": "markdown",
   "metadata": {},
   "source": [
    "### Aufgabe 6\n",
    "\n",
    "Der Flächeninhalt eines Kreisabschnitts ergibt sich aus\n",
    "$A=\\frac{r^2}{2}(\\alpha-\\sin{\\alpha})$ für $\\alpha$ im Bogenmaß. Wie\n",
    "groß ist der maximale Fehler von $A$, wenn $r=(8.2\\pm0.05)$ cm und\n",
    "$\\alpha=(126\\pm1)^\\circ$ gemessen wurden.\n"
   ]
  },
  {
   "cell_type": "markdown",
   "metadata": {},
   "source": [
    "$$\\Delta A(r,\\alpha) = |\\frac{\\delta A(r,\\alpha)}{\\delta r}| \\Delta r + |\\frac{\\delta A(r,\\alpha)}{\\delta \\alpha}| \\Delta \\alpha$$"
   ]
  },
  {
   "cell_type": "markdown",
   "metadata": {},
   "source": [
    "$$\\frac{\\delta A(r,\\alpha)}{\\delta r} = r(\\alpha - \\sin{\\alpha})$$"
   ]
  },
  {
   "cell_type": "markdown",
   "metadata": {},
   "source": [
    "$$\\frac{\\delta A(r,\\alpha)}{\\delta \\alpha} = \\frac{r^2}{2}(1-\\cos{\\alpha})$$"
   ]
  },
  {
   "cell_type": "markdown",
   "metadata": {},
   "source": [
    "$$\\Delta A(r,\\alpha) = |r(\\alpha - \\sin{\\alpha})| \\Delta r + |\\frac{r^2}{2}(1-\\cos{\\alpha})| \\Delta \\alpha$$"
   ]
  },
  {
   "cell_type": "markdown",
   "metadata": {},
   "source": [
    "$$\\Delta A(r,\\alpha) = |8.2(2.2 - \\sin{2.2})| *0.05 + |\\frac{8.2^2}{2}(1-\\cos{2.2})| * 0.017 \\approx 1.47841 cm^2$$"
   ]
  },
  {
   "cell_type": "markdown",
   "metadata": {},
   "source": [
    "### Aufgabe 7\n",
    "\n",
    "In einem Gleichstromkreis wurden $U=(220\\pm3) \\textrm{V}$,$R_1=(78\\pm1) \\Omega$\n",
    "und $R_2=(54\\pm1) \\Omega$ gemessen. Wie groß ist der maximale Fehler\n",
    "der Stromstärke $I$ bei Serienschaltung:\n",
    "\n",
    "$$\n",
    "I=U/(R_1+R_2)\n",
    "$$\n",
    "\n"
   ]
  },
  {
   "cell_type": "markdown",
   "metadata": {},
   "source": [
    "$$\\Delta I(U,R_1,R_2) = |\\frac{\\delta I(U,R_1,R_2)}{\\delta U}| \\Delta U + |\\frac{\\delta I(U,R_1,R_2)}{\\delta R_1}| \\Delta R_1 + |\\frac{\\delta I(U,R_1,R_2)}{\\delta R_2}| \\Delta R_2$$"
   ]
  },
  {
   "cell_type": "markdown",
   "metadata": {},
   "source": [
    "$$\\frac{\\delta I(U,R_1,R_2)}{\\delta U} = \\frac{1}{R_1+R_2}$$"
   ]
  },
  {
   "cell_type": "markdown",
   "metadata": {},
   "source": [
    "$$\\frac{\\delta I(U,R_1,R_2)}{\\delta R_1} = -\\frac{U}{(R_1+R_2)^2}$$"
   ]
  },
  {
   "cell_type": "markdown",
   "metadata": {},
   "source": [
    "$$\\frac{\\delta I(U,R_1,R_2)}{\\delta R_2} = -\\frac{U}{(R_1+R_2)^2}$$"
   ]
  },
  {
   "cell_type": "markdown",
   "metadata": {},
   "source": [
    "$$\\Delta I(U,R_1,R_2) = |\\frac{1}{R_1+R_2}| \\Delta U + |-\\frac{U}{(R_1+R_2)^2}| \\Delta R_1 + |-\\frac{U}{(R_1+R_2)^2}| \\Delta R_2$$"
   ]
  },
  {
   "cell_type": "markdown",
   "metadata": {},
   "source": [
    "$$\\Delta I(U,R_1,R_2) = |\\frac{1}{78+54}|* 3 + |-\\frac{200}{(78+54)^2}| *1 + |-\\frac{200}{(78+54)^2}| *1 \\approx \\pm 0.048$$"
   ]
  },
  {
   "cell_type": "markdown",
   "metadata": {},
   "source": [
    "### Aufgabe 8\n",
    "\n",
    "In Fortsetzung des vorangegangengen Beispiels, wie groß ist der maximale Fehler\n",
    "der Stromstärke $I$ bei Parallelschaltung: \n",
    "\n",
    "$$\n",
    "I=U/R_1+U/R_2\n",
    "$$\n",
    "\n"
   ]
  },
  {
   "cell_type": "markdown",
   "metadata": {},
   "source": [
    "$$\\frac{\\delta I(U,R_1,R_2)}{\\delta U} = \\frac{1}{R_1} + \\frac{1}{R_2}$$"
   ]
  },
  {
   "cell_type": "markdown",
   "metadata": {},
   "source": [
    "$$\\frac{\\delta I(U,R_1,R_2)}{\\delta R_1} = -\\frac{U}{R_1^2}$$"
   ]
  },
  {
   "cell_type": "markdown",
   "metadata": {},
   "source": [
    "$$\\frac{\\delta I(U,R_1,R_2)}{\\delta R_2} = -\\frac{U}{R_2^2}$$"
   ]
  },
  {
   "cell_type": "markdown",
   "metadata": {},
   "source": [
    "$$\\Delta I(U,R_1,R_2) = |\\frac{1}{R_1} + \\frac{1}{R_2}| \\Delta U + |-\\frac{U}{R_1^2}| \\Delta R_1 + |-\\frac{U}{R_2^2}| \\Delta R_2$$"
   ]
  },
  {
   "cell_type": "markdown",
   "metadata": {},
   "source": [
    "$$\\Delta I(U,R_1,R_2) = |\\frac{1}{78} + \\frac{1}{54}| *3 + |-\\frac{200}{78^2}| *1 + |-\\frac{200}{54^2}|*1 \\approx \\pm 0.2$$"
   ]
  }
 ],
 "metadata": {
  "kernelspec": {
   "display_name": "Python 3 (ipykernel)",
   "language": "python",
   "name": "python3"
  },
  "language_info": {
   "codemirror_mode": {
    "name": "ipython",
    "version": 3
   },
   "file_extension": ".py",
   "mimetype": "text/x-python",
   "name": "python",
   "nbconvert_exporter": "python",
   "pygments_lexer": "ipython3",
   "version": "3.10.10"
  }
 },
 "nbformat": 4,
 "nbformat_minor": 4
}
