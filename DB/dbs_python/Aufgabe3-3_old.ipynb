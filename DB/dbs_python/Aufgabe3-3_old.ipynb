{
 "cells": [
  {
   "cell_type": "markdown",
   "id": "08980237-bbef-4a19-bea3-ec39729ae3cf",
   "metadata": {},
   "source": [
    "# Group 52 Project Aufgabe 3-3"
   ]
  },
  {
   "cell_type": "markdown",
   "id": "8a723bc3-3927-4926-a96f-3f65a34b232d",
   "metadata": {},
   "source": [
    "Plan:\n",
    "\n",
    "0. **Drop** all existing tables (from previous tries).\n",
    "1. **Create** tables: `Airline`, `Flight`, `Passenger`, `Carries`.\n",
    "2. **Insert** data with hundreds/thousands of rows, respecting foreign keys.\n",
    "3. **Write** three SQL queries, each using at least two advanced constructs (GROUP BY, HAVING, ALL, or subselect).\n",
    "4. **Create** and **call** two stored procedures (one UPDATE, one DELETE).\n",
    "5. **Demonstrate** indexing and measure query performance before/after.\n"
   ]
  },
  {
   "cell_type": "markdown",
   "id": "47150410-804f-4ec0-bf69-deb742b596f4",
   "metadata": {},
   "source": [
    "## 0) IMPORTS AND DB CONNECTION"
   ]
  },
  {
   "cell_type": "code",
   "execution_count": 25,
   "id": "97326791-9c0e-4eba-939a-b64f545b737b",
   "metadata": {},
   "outputs": [
    {
     "name": "stdout",
     "output_type": "stream",
     "text": [
      "Connected to Oracle DB successfully!\n"
     ]
    }
   ],
   "source": [
    "#Connect to VPN beforehand\n",
    "import oracledb\n",
    "import random\n",
    "from datetime import datetime, timedelta\n",
    "import pandas as pd\n",
    "\n",
    "oracledb.init_oracle_client(lib_dir=r\"instantclient_19_11\")\n",
    "\n",
    "username = \"a12236167\"\n",
    "password = \"dbs24\"\n",
    "dsn = \"oracle19.cs.univie.ac.at:1521/orclcdb\"\n",
    "\n",
    "connection = oracledb.connect(\n",
    "    user=username,\n",
    "    password=password,\n",
    "    dsn=dsn,\n",
    ")\n",
    "cursor = connection.cursor()\n",
    "\n",
    "print(\"Connected to Oracle DB successfully!\")"
   ]
  },
  {
   "cell_type": "markdown",
   "id": "297350e9-ce4f-4b8f-9267-93f26b244bbf",
   "metadata": {},
   "source": [
    "## 1) DROP ALL RELEVANT TABLES (FROM PREVIOUS TRIES)"
   ]
  },
  {
   "cell_type": "code",
   "execution_count": 19,
   "id": "fc3b35a9-2529-45f2-83b6-d5797585c128",
   "metadata": {},
   "outputs": [
    {
     "name": "stdout",
     "output_type": "stream",
     "text": [
      "Dropped table Carries\n",
      "Dropped table Flight\n",
      "Dropped table Airline\n",
      "Dropped table Passenger\n"
     ]
    }
   ],
   "source": [
    "tables_to_drop = [\"Carries\", \"Flight\", \"Airline\", \"Passenger\"]\n",
    "for tbl in tables_to_drop:\n",
    "    drop_sql = f\"DROP TABLE {tbl} CASCADE CONSTRAINTS\"\n",
    "    try:\n",
    "        cursor.execute(drop_sql)\n",
    "        connection.commit()\n",
    "        print(f\"Dropped table {tbl}\")\n",
    "    except oracledb.Error as e:\n",
    "        print(f\"Skipping drop for {tbl}, possibly doesn't exist: {e}\")"
   ]
  },
  {
   "cell_type": "markdown",
   "id": "3dcc3f84-c587-4469-b5ad-8cffd879e168",
   "metadata": {},
   "source": [
    "## 2) CREATE TABLES"
   ]
  },
  {
   "cell_type": "code",
   "execution_count": 21,
   "id": "6087fd4a-61e2-490f-8f73-b9c2b1d7aba9",
   "metadata": {},
   "outputs": [
    {
     "name": "stdout",
     "output_type": "stream",
     "text": [
      "All tables created successfully!\n"
     ]
    }
   ],
   "source": [
    "create_airline = \"\"\"\n",
    "CREATE TABLE Airline (\n",
    "    airlineID      NUMBER PRIMARY KEY,\n",
    "    Name           VARCHAR2(100),\n",
    "    Headquarters   VARCHAR2(200)\n",
    ")\n",
    "\"\"\"\n",
    "cursor.execute(create_airline)\n",
    "\n",
    "create_flight = \"\"\"\n",
    "CREATE TABLE Flight (\n",
    "    flightNumber   VARCHAR2(10) PRIMARY KEY,\n",
    "    DepartureTime  TIMESTAMP,\n",
    "    ArrivalTime    TIMESTAMP,\n",
    "    airlineID      NUMBER,\n",
    "    CONSTRAINT fk_flight_airline\n",
    "        FOREIGN KEY (airlineID)\n",
    "        REFERENCES Airline(airlineID)\n",
    "        ON DELETE CASCADE\n",
    ")\n",
    "\"\"\"\n",
    "cursor.execute(create_flight)\n",
    "\n",
    "create_passenger = \"\"\"\n",
    "CREATE TABLE Passenger (\n",
    "    passengerID    NUMBER PRIMARY KEY,\n",
    "    FirstName      VARCHAR2(100),\n",
    "    Surname        VARCHAR2(100),\n",
    "    PassportNumber VARCHAR2(50)\n",
    ")\n",
    "\"\"\"\n",
    "cursor.execute(create_passenger)\n",
    "\n",
    "create_carries = \"\"\"\n",
    "CREATE TABLE Carries (\n",
    "    flightNumber   VARCHAR2(10),\n",
    "    passengerID    NUMBER,\n",
    "    CONSTRAINT pk_carries\n",
    "        PRIMARY KEY (flightNumber, passengerID),\n",
    "    CONSTRAINT fk_carries_flight\n",
    "        FOREIGN KEY (flightNumber) \n",
    "        REFERENCES Flight(flightNumber)\n",
    "        ON DELETE CASCADE,\n",
    "    CONSTRAINT fk_carries_passenger\n",
    "        FOREIGN KEY (passengerID)\n",
    "        REFERENCES Passenger(passengerID)\n",
    "        ON DELETE CASCADE\n",
    ")\n",
    "\"\"\"\n",
    "cursor.execute(create_carries)\n",
    "\n",
    "connection.commit()\n",
    "print(\"All tables created successfully!\")\n"
   ]
  },
  {
   "cell_type": "markdown",
   "id": "2c0f8a8e-65d9-43d0-a581-79afe4ea5297",
   "metadata": {},
   "source": [
    "## 3) INSERT LARGE VOLUMES OF DATA"
   ]
  },
  {
   "cell_type": "markdown",
   "id": "a306fce4-02ec-4d63-8090-172fc2826c19",
   "metadata": {},
   "source": [
    "We'll insert hundreds of Airlines, thousands of Passengers,\n",
    "thousands of Flights, and link them via Carries."
   ]
  },
  {
   "cell_type": "code",
   "execution_count": 23,
   "id": "de4cb759-ab25-4b0c-873e-8a292e2dd7b7",
   "metadata": {},
   "outputs": [
    {
     "name": "stdout",
     "output_type": "stream",
     "text": [
      "Inserted 500 Airlines, 3000 Passengers, 2000 Flights. Carries data inserted. Large dataset created!\n"
     ]
    }
   ],
   "source": [
    "# (3.1) Insert 500 Airlines\n",
    "for i in range(1, 501):\n",
    "    sql = \"\"\"\n",
    "        INSERT INTO Airline (airlineID, Name, Headquarters)\n",
    "        VALUES (:1, :2, :3)\n",
    "    \"\"\"\n",
    "    airline_id = i\n",
    "    name = f\"Airline_{i}\"\n",
    "    headquarters = f\"Headquarters_{i}\"\n",
    "    cursor.execute(sql, [airline_id, name, headquarters])\n",
    "\n",
    "# (3.2) Insert 3000 Passengers\n",
    "for i in range(1, 3001):\n",
    "    sql = \"\"\"\n",
    "        INSERT INTO Passenger (passengerID, FirstName, Surname, PassportNumber)\n",
    "        VALUES (:1, :2, :3, :4)\n",
    "    \"\"\"\n",
    "    passenger_id = i\n",
    "    first_name = f\"FName{i}\"\n",
    "    surname = f\"LName{i}\"\n",
    "    passport = f\"P{i:05d}\"\n",
    "    cursor.execute(sql, [passenger_id, first_name, surname, passport])\n",
    "\n",
    "# (3.3) Insert 2000 Flights\n",
    "for i in range(1, 2001):\n",
    "    flight_num = f\"FN{i}\"\n",
    "    hour_offset = i % 24\n",
    "    chosen_airline = random.randint(1, 500)\n",
    "\n",
    "    base_dep = datetime(2025, 1, 1, 8, 0, 0)\n",
    "    base_arr = datetime(2025, 1, 1, 12, 0, 0)\n",
    "    departure_time = base_dep + timedelta(hours=hour_offset)\n",
    "    arrival_time = base_arr + timedelta(hours=hour_offset)\n",
    "    \n",
    "    sql = \"\"\"\n",
    "    INSERT INTO Flight (\n",
    "        flightNumber, DepartureTime, ArrivalTime, airlineID\n",
    "    )\n",
    "    VALUES (:1, :2, :3, :4)\n",
    "    \"\"\"\n",
    "    cursor.execute(sql, (\n",
    "        flight_num, \n",
    "        departure_time,\n",
    "        arrival_time, \n",
    "        chosen_airline\n",
    "    ))\n",
    "\n",
    "# (3.4) Insert into Carries: each of the 3000 passengers will take\n",
    "#       1 or 2 random flights, so we get 3000 - 12000 rows in Carries.\n",
    "for passenger_id in range(1, 3001):\n",
    "    flight_count = random.randint(1, 4)\n",
    "    flight_ids = random.sample(range(1, 2001), flight_count)\n",
    "    for fid in flight_ids:\n",
    "        flight_num = f\"FN{fid}\"\n",
    "        sql = \"INSERT INTO Carries (flightNumber, passengerID) VALUES (:1, :2)\"\n",
    "        cursor.execute(sql, (flight_num, passenger_id))\n",
    "\n",
    "connection.commit()\n",
    "print(\"Inserted 500 Airlines, 3000 Passengers, 2000 Flights. Carries data inserted. Large dataset created!\")"
   ]
  },
  {
   "cell_type": "markdown",
   "id": "c7babfc6-2eb3-4e15-8f70-5d6c8f25a877",
   "metadata": {},
   "source": [
    "Now verify row counts"
   ]
  },
  {
   "cell_type": "code",
   "execution_count": 109,
   "id": "d9a3301b-b39e-4b1d-9f57-40b528fe603b",
   "metadata": {},
   "outputs": [
    {
     "name": "stdout",
     "output_type": "stream",
     "text": [
      "Airline has 500 rows.\n",
      "Passenger has 3000 rows.\n",
      "Flight has 2000 rows.\n",
      "Carries has 7576 rows.\n"
     ]
    }
   ],
   "source": [
    "tables = [\"Airline\", \"Passenger\", \"Flight\", \"Carries\"]\n",
    "for tbl in tables:\n",
    "    cursor.execute(f\"SELECT COUNT(*) FROM {tbl}\")\n",
    "    count = cursor.fetchone()[0]\n",
    "    print(f\"{tbl} has {count} rows.\")"
   ]
  },
  {
   "cell_type": "markdown",
   "id": "969b6908-6088-4e27-b673-5033cb1a73e2",
   "metadata": {},
   "source": [
    "## 4) ADVANCED QUERIES\n",
    "\n",
    "We will perform three queries, each using two of the following:\n",
    "- GROUP BY\n",
    "- HAVING\n",
    "- ALL\n",
    "- Subselect"
   ]
  },
  {
   "cell_type": "code",
   "execution_count": 111,
   "id": "fe0d7675-c92c-46ce-a4d1-73d77a150e26",
   "metadata": {},
   "outputs": [],
   "source": [
    "def run_query_and_show_dataframe(sql_query, description):\n",
    "    print(f\"### {description}\")\n",
    "    print(f\"SQL:\\n{sql_query}\\n\")\n",
    "\n",
    "    cursor.execute(sql_query)\n",
    "    \n",
    "    columns = [desc[0] for desc in cursor.description]\n",
    "    rows = cursor.fetchall()\n",
    "    \n",
    "    df = pd.DataFrame(rows, columns=columns)\n",
    "    \n",
    "    display(df)\n",
    "    \n",
    "    print(\"\\n---\\n\")"
   ]
  },
  {
   "cell_type": "markdown",
   "id": "1da95152-9a4d-40cb-a261-4b04706bac91",
   "metadata": {},
   "source": [
    "### 4.1) QUERY #1: GROUP BY + HAVING\n",
    "Show how many flights each airline operates, but only those airlines that operate more than 8 flights"
   ]
  },
  {
   "cell_type": "code",
   "execution_count": 154,
   "id": "85c07d8b-505b-46e7-a8a6-7dbad5bea3f0",
   "metadata": {},
   "outputs": [
    {
     "name": "stdout",
     "output_type": "stream",
     "text": [
      "### QUERY 4.1 (GROUP BY + HAVING, now showing airlineID)\n",
      "SQL:\n",
      "\n",
      "SELECT\n",
      "    A.airlineID,\n",
      "    A.Name AS AirlineName,\n",
      "    COUNT(F.flightNumber) AS FlightCount\n",
      "FROM Airline A\n",
      "JOIN Flight F ON A.airlineID = F.airlineID\n",
      "GROUP BY A.airlineID, A.Name\n",
      "HAVING COUNT(F.flightNumber) > 8\n",
      "\n",
      "\n"
     ]
    },
    {
     "data": {
      "text/html": [
       "<div>\n",
       "<style scoped>\n",
       "    .dataframe tbody tr th:only-of-type {\n",
       "        vertical-align: middle;\n",
       "    }\n",
       "\n",
       "    .dataframe tbody tr th {\n",
       "        vertical-align: top;\n",
       "    }\n",
       "\n",
       "    .dataframe thead th {\n",
       "        text-align: right;\n",
       "    }\n",
       "</style>\n",
       "<table border=\"1\" class=\"dataframe\">\n",
       "  <thead>\n",
       "    <tr style=\"text-align: right;\">\n",
       "      <th></th>\n",
       "      <th>AIRLINEID</th>\n",
       "      <th>AIRLINENAME</th>\n",
       "      <th>FLIGHTCOUNT</th>\n",
       "    </tr>\n",
       "  </thead>\n",
       "  <tbody>\n",
       "    <tr>\n",
       "      <th>0</th>\n",
       "      <td>71</td>\n",
       "      <td>Airline_71</td>\n",
       "      <td>10</td>\n",
       "    </tr>\n",
       "    <tr>\n",
       "      <th>1</th>\n",
       "      <td>212</td>\n",
       "      <td>Airline_212</td>\n",
       "      <td>9</td>\n",
       "    </tr>\n",
       "    <tr>\n",
       "      <th>2</th>\n",
       "      <td>36</td>\n",
       "      <td>Airline_36</td>\n",
       "      <td>10</td>\n",
       "    </tr>\n",
       "    <tr>\n",
       "      <th>3</th>\n",
       "      <td>500</td>\n",
       "      <td>Airline_500</td>\n",
       "      <td>9</td>\n",
       "    </tr>\n",
       "    <tr>\n",
       "      <th>4</th>\n",
       "      <td>494</td>\n",
       "      <td>Airline_494</td>\n",
       "      <td>9</td>\n",
       "    </tr>\n",
       "    <tr>\n",
       "      <th>5</th>\n",
       "      <td>436</td>\n",
       "      <td>Airline_436</td>\n",
       "      <td>9</td>\n",
       "    </tr>\n",
       "    <tr>\n",
       "      <th>6</th>\n",
       "      <td>290</td>\n",
       "      <td>Airline_290</td>\n",
       "      <td>9</td>\n",
       "    </tr>\n",
       "    <tr>\n",
       "      <th>7</th>\n",
       "      <td>23</td>\n",
       "      <td>Airline_23</td>\n",
       "      <td>9</td>\n",
       "    </tr>\n",
       "    <tr>\n",
       "      <th>8</th>\n",
       "      <td>209</td>\n",
       "      <td>Airline_209</td>\n",
       "      <td>10</td>\n",
       "    </tr>\n",
       "    <tr>\n",
       "      <th>9</th>\n",
       "      <td>237</td>\n",
       "      <td>Airline_237</td>\n",
       "      <td>9</td>\n",
       "    </tr>\n",
       "    <tr>\n",
       "      <th>10</th>\n",
       "      <td>452</td>\n",
       "      <td>Airline_452</td>\n",
       "      <td>9</td>\n",
       "    </tr>\n",
       "  </tbody>\n",
       "</table>\n",
       "</div>"
      ],
      "text/plain": [
       "    AIRLINEID  AIRLINENAME  FLIGHTCOUNT\n",
       "0          71   Airline_71           10\n",
       "1         212  Airline_212            9\n",
       "2          36   Airline_36           10\n",
       "3         500  Airline_500            9\n",
       "4         494  Airline_494            9\n",
       "5         436  Airline_436            9\n",
       "6         290  Airline_290            9\n",
       "7          23   Airline_23            9\n",
       "8         209  Airline_209           10\n",
       "9         237  Airline_237            9\n",
       "10        452  Airline_452            9"
      ]
     },
     "metadata": {},
     "output_type": "display_data"
    },
    {
     "name": "stdout",
     "output_type": "stream",
     "text": [
      "\n",
      "---\n",
      "\n"
     ]
    }
   ],
   "source": [
    "query_4_1 = \"\"\"\n",
    "SELECT\n",
    "    A.airlineID,\n",
    "    A.Name AS AirlineName,\n",
    "    COUNT(F.flightNumber) AS FlightCount\n",
    "FROM Airline A\n",
    "JOIN Flight F ON A.airlineID = F.airlineID\n",
    "GROUP BY A.airlineID, A.Name\n",
    "HAVING COUNT(F.flightNumber) > 8\n",
    "\"\"\"\n",
    "\n",
    "run_query_and_show_dataframe(\n",
    "    sql_query=query_4_1,\n",
    "    description=\"QUERY 4.1 (GROUP BY + HAVING, now showing airlineID)\"\n",
    ")"
   ]
  },
  {
   "cell_type": "markdown",
   "id": "91d54b96-65d1-4c79-ba61-eea1027dbf9f",
   "metadata": {},
   "source": [
    "### 4.2) QUERY #2: Subselect + ALL\n",
    "Find passengers whose ID is greater than ALL passenger IDs who fly on flight 'FN100'"
   ]
  },
  {
   "cell_type": "code",
   "execution_count": 116,
   "id": "43798870-dfd9-41be-bf51-a16eaa2bbd75",
   "metadata": {},
   "outputs": [
    {
     "name": "stdout",
     "output_type": "stream",
     "text": [
      "### QUERY 4.2 (Subselect + ALL) with visible max passengerID from FN100\n",
      "SQL:\n",
      "\n",
      "SELECT\n",
      "    p.passengerID,\n",
      "    p.FirstName,\n",
      "    p.Surname,\n",
      "    (SELECT MAX(c2.passengerID) \n",
      "       FROM Carries c2 \n",
      "       WHERE c2.flightNumber = 'FN100'\n",
      "    ) AS max_passengerID_on_FN100\n",
      "FROM Passenger p\n",
      "WHERE p.passengerID > ALL (\n",
      "    SELECT c.passengerID\n",
      "    FROM Carries c\n",
      "    WHERE c.flightNumber = 'FN100'\n",
      ")\n",
      "\n",
      "\n"
     ]
    },
    {
     "data": {
      "text/html": [
       "<div>\n",
       "<style scoped>\n",
       "    .dataframe tbody tr th:only-of-type {\n",
       "        vertical-align: middle;\n",
       "    }\n",
       "\n",
       "    .dataframe tbody tr th {\n",
       "        vertical-align: top;\n",
       "    }\n",
       "\n",
       "    .dataframe thead th {\n",
       "        text-align: right;\n",
       "    }\n",
       "</style>\n",
       "<table border=\"1\" class=\"dataframe\">\n",
       "  <thead>\n",
       "    <tr style=\"text-align: right;\">\n",
       "      <th></th>\n",
       "      <th>PASSENGERID</th>\n",
       "      <th>FIRSTNAME</th>\n",
       "      <th>SURNAME</th>\n",
       "      <th>MAX_PASSENGERID_ON_FN100</th>\n",
       "    </tr>\n",
       "  </thead>\n",
       "  <tbody>\n",
       "    <tr>\n",
       "      <th>0</th>\n",
       "      <td>2974</td>\n",
       "      <td>FName2974</td>\n",
       "      <td>LName2974</td>\n",
       "      <td>2973</td>\n",
       "    </tr>\n",
       "    <tr>\n",
       "      <th>1</th>\n",
       "      <td>2975</td>\n",
       "      <td>FName2975</td>\n",
       "      <td>LName2975</td>\n",
       "      <td>2973</td>\n",
       "    </tr>\n",
       "    <tr>\n",
       "      <th>2</th>\n",
       "      <td>2976</td>\n",
       "      <td>FName2976</td>\n",
       "      <td>LName2976</td>\n",
       "      <td>2973</td>\n",
       "    </tr>\n",
       "    <tr>\n",
       "      <th>3</th>\n",
       "      <td>2977</td>\n",
       "      <td>FName2977</td>\n",
       "      <td>LName2977</td>\n",
       "      <td>2973</td>\n",
       "    </tr>\n",
       "    <tr>\n",
       "      <th>4</th>\n",
       "      <td>2978</td>\n",
       "      <td>FName2978</td>\n",
       "      <td>LName2978</td>\n",
       "      <td>2973</td>\n",
       "    </tr>\n",
       "    <tr>\n",
       "      <th>5</th>\n",
       "      <td>2979</td>\n",
       "      <td>FName2979</td>\n",
       "      <td>LName2979</td>\n",
       "      <td>2973</td>\n",
       "    </tr>\n",
       "    <tr>\n",
       "      <th>6</th>\n",
       "      <td>2980</td>\n",
       "      <td>FName2980</td>\n",
       "      <td>LName2980</td>\n",
       "      <td>2973</td>\n",
       "    </tr>\n",
       "    <tr>\n",
       "      <th>7</th>\n",
       "      <td>2981</td>\n",
       "      <td>FName2981</td>\n",
       "      <td>LName2981</td>\n",
       "      <td>2973</td>\n",
       "    </tr>\n",
       "    <tr>\n",
       "      <th>8</th>\n",
       "      <td>2982</td>\n",
       "      <td>FName2982</td>\n",
       "      <td>LName2982</td>\n",
       "      <td>2973</td>\n",
       "    </tr>\n",
       "    <tr>\n",
       "      <th>9</th>\n",
       "      <td>2983</td>\n",
       "      <td>FName2983</td>\n",
       "      <td>LName2983</td>\n",
       "      <td>2973</td>\n",
       "    </tr>\n",
       "    <tr>\n",
       "      <th>10</th>\n",
       "      <td>2984</td>\n",
       "      <td>FName2984</td>\n",
       "      <td>LName2984</td>\n",
       "      <td>2973</td>\n",
       "    </tr>\n",
       "    <tr>\n",
       "      <th>11</th>\n",
       "      <td>2985</td>\n",
       "      <td>FName2985</td>\n",
       "      <td>LName2985</td>\n",
       "      <td>2973</td>\n",
       "    </tr>\n",
       "    <tr>\n",
       "      <th>12</th>\n",
       "      <td>2986</td>\n",
       "      <td>FName2986</td>\n",
       "      <td>LName2986</td>\n",
       "      <td>2973</td>\n",
       "    </tr>\n",
       "    <tr>\n",
       "      <th>13</th>\n",
       "      <td>2987</td>\n",
       "      <td>FName2987</td>\n",
       "      <td>LName2987</td>\n",
       "      <td>2973</td>\n",
       "    </tr>\n",
       "    <tr>\n",
       "      <th>14</th>\n",
       "      <td>2988</td>\n",
       "      <td>FName2988</td>\n",
       "      <td>LName2988</td>\n",
       "      <td>2973</td>\n",
       "    </tr>\n",
       "    <tr>\n",
       "      <th>15</th>\n",
       "      <td>2989</td>\n",
       "      <td>FName2989</td>\n",
       "      <td>LName2989</td>\n",
       "      <td>2973</td>\n",
       "    </tr>\n",
       "    <tr>\n",
       "      <th>16</th>\n",
       "      <td>2990</td>\n",
       "      <td>FName2990</td>\n",
       "      <td>LName2990</td>\n",
       "      <td>2973</td>\n",
       "    </tr>\n",
       "    <tr>\n",
       "      <th>17</th>\n",
       "      <td>2991</td>\n",
       "      <td>FName2991</td>\n",
       "      <td>LName2991</td>\n",
       "      <td>2973</td>\n",
       "    </tr>\n",
       "    <tr>\n",
       "      <th>18</th>\n",
       "      <td>2992</td>\n",
       "      <td>FName2992</td>\n",
       "      <td>LName2992</td>\n",
       "      <td>2973</td>\n",
       "    </tr>\n",
       "    <tr>\n",
       "      <th>19</th>\n",
       "      <td>2993</td>\n",
       "      <td>FName2993</td>\n",
       "      <td>LName2993</td>\n",
       "      <td>2973</td>\n",
       "    </tr>\n",
       "    <tr>\n",
       "      <th>20</th>\n",
       "      <td>2994</td>\n",
       "      <td>FName2994</td>\n",
       "      <td>LName2994</td>\n",
       "      <td>2973</td>\n",
       "    </tr>\n",
       "    <tr>\n",
       "      <th>21</th>\n",
       "      <td>2995</td>\n",
       "      <td>FName2995</td>\n",
       "      <td>LName2995</td>\n",
       "      <td>2973</td>\n",
       "    </tr>\n",
       "    <tr>\n",
       "      <th>22</th>\n",
       "      <td>2996</td>\n",
       "      <td>FName2996</td>\n",
       "      <td>LName2996</td>\n",
       "      <td>2973</td>\n",
       "    </tr>\n",
       "    <tr>\n",
       "      <th>23</th>\n",
       "      <td>2997</td>\n",
       "      <td>FName2997</td>\n",
       "      <td>LName2997</td>\n",
       "      <td>2973</td>\n",
       "    </tr>\n",
       "    <tr>\n",
       "      <th>24</th>\n",
       "      <td>2998</td>\n",
       "      <td>FName2998</td>\n",
       "      <td>LName2998</td>\n",
       "      <td>2973</td>\n",
       "    </tr>\n",
       "    <tr>\n",
       "      <th>25</th>\n",
       "      <td>2999</td>\n",
       "      <td>FName2999</td>\n",
       "      <td>LName2999</td>\n",
       "      <td>2973</td>\n",
       "    </tr>\n",
       "    <tr>\n",
       "      <th>26</th>\n",
       "      <td>3000</td>\n",
       "      <td>FName3000</td>\n",
       "      <td>LName3000</td>\n",
       "      <td>2973</td>\n",
       "    </tr>\n",
       "  </tbody>\n",
       "</table>\n",
       "</div>"
      ],
      "text/plain": [
       "    PASSENGERID  FIRSTNAME    SURNAME  MAX_PASSENGERID_ON_FN100\n",
       "0          2974  FName2974  LName2974                      2973\n",
       "1          2975  FName2975  LName2975                      2973\n",
       "2          2976  FName2976  LName2976                      2973\n",
       "3          2977  FName2977  LName2977                      2973\n",
       "4          2978  FName2978  LName2978                      2973\n",
       "5          2979  FName2979  LName2979                      2973\n",
       "6          2980  FName2980  LName2980                      2973\n",
       "7          2981  FName2981  LName2981                      2973\n",
       "8          2982  FName2982  LName2982                      2973\n",
       "9          2983  FName2983  LName2983                      2973\n",
       "10         2984  FName2984  LName2984                      2973\n",
       "11         2985  FName2985  LName2985                      2973\n",
       "12         2986  FName2986  LName2986                      2973\n",
       "13         2987  FName2987  LName2987                      2973\n",
       "14         2988  FName2988  LName2988                      2973\n",
       "15         2989  FName2989  LName2989                      2973\n",
       "16         2990  FName2990  LName2990                      2973\n",
       "17         2991  FName2991  LName2991                      2973\n",
       "18         2992  FName2992  LName2992                      2973\n",
       "19         2993  FName2993  LName2993                      2973\n",
       "20         2994  FName2994  LName2994                      2973\n",
       "21         2995  FName2995  LName2995                      2973\n",
       "22         2996  FName2996  LName2996                      2973\n",
       "23         2997  FName2997  LName2997                      2973\n",
       "24         2998  FName2998  LName2998                      2973\n",
       "25         2999  FName2999  LName2999                      2973\n",
       "26         3000  FName3000  LName3000                      2973"
      ]
     },
     "metadata": {},
     "output_type": "display_data"
    },
    {
     "name": "stdout",
     "output_type": "stream",
     "text": [
      "\n",
      "---\n",
      "\n"
     ]
    }
   ],
   "source": [
    "query_4_2 = \"\"\"\n",
    "SELECT\n",
    "    p.passengerID,\n",
    "    p.FirstName,\n",
    "    p.Surname,\n",
    "    (SELECT MAX(c2.passengerID) \n",
    "       FROM Carries c2 \n",
    "       WHERE c2.flightNumber = 'FN100'\n",
    "    ) AS max_passengerID_on_FN100\n",
    "FROM Passenger p\n",
    "WHERE p.passengerID > ALL (\n",
    "    SELECT c.passengerID\n",
    "    FROM Carries c\n",
    "    WHERE c.flightNumber = 'FN100'\n",
    ")\n",
    "\"\"\"\n",
    "\n",
    "run_query_and_show_dataframe(\n",
    "    sql_query=query_4_2,\n",
    "    description=\"QUERY 4.2 (Subselect + ALL) with visible max passengerID from FN100\"\n",
    ")"
   ]
  },
  {
   "cell_type": "markdown",
   "id": "5fb39cf6-c439-4f0e-845c-dbfd19a866da",
   "metadata": {},
   "source": [
    "### 4.3 QUERY #3: GROUP BY + Subselect\n",
    "Show passengers who have more flights than the overall average"
   ]
  },
  {
   "cell_type": "code",
   "execution_count": 118,
   "id": "50e9e522-534d-473f-b41a-7af2678fc8e1",
   "metadata": {},
   "outputs": [
    {
     "name": "stdout",
     "output_type": "stream",
     "text": [
      "### QUERY 4.3 (GROUP BY + Subselect) showing each passenger's total flights vs. overall average\n",
      "SQL:\n",
      "\n",
      "WITH overall AS (\n",
      "    SELECT AVG(cnt) AS avg_cnt\n",
      "    FROM (\n",
      "        SELECT passengerID, COUNT(*) AS cnt\n",
      "        FROM Carries\n",
      "        GROUP BY passengerID\n",
      "    )\n",
      ")\n",
      "SELECT \n",
      "    c.passengerID,\n",
      "    COUNT(c.flightNumber) AS total_flights,\n",
      "    o.avg_cnt AS overall_avg\n",
      "FROM Carries c\n",
      "CROSS JOIN overall o\n",
      "GROUP BY c.passengerID, o.avg_cnt\n",
      "HAVING COUNT(c.flightNumber) > o.avg_cnt\n",
      "\n",
      "\n"
     ]
    },
    {
     "data": {
      "text/html": [
       "<div>\n",
       "<style scoped>\n",
       "    .dataframe tbody tr th:only-of-type {\n",
       "        vertical-align: middle;\n",
       "    }\n",
       "\n",
       "    .dataframe tbody tr th {\n",
       "        vertical-align: top;\n",
       "    }\n",
       "\n",
       "    .dataframe thead th {\n",
       "        text-align: right;\n",
       "    }\n",
       "</style>\n",
       "<table border=\"1\" class=\"dataframe\">\n",
       "  <thead>\n",
       "    <tr style=\"text-align: right;\">\n",
       "      <th></th>\n",
       "      <th>PASSENGERID</th>\n",
       "      <th>TOTAL_FLIGHTS</th>\n",
       "      <th>OVERALL_AVG</th>\n",
       "    </tr>\n",
       "  </thead>\n",
       "  <tbody>\n",
       "    <tr>\n",
       "      <th>0</th>\n",
       "      <td>416</td>\n",
       "      <td>3</td>\n",
       "      <td>2.525333</td>\n",
       "    </tr>\n",
       "    <tr>\n",
       "      <th>1</th>\n",
       "      <td>418</td>\n",
       "      <td>3</td>\n",
       "      <td>2.525333</td>\n",
       "    </tr>\n",
       "    <tr>\n",
       "      <th>2</th>\n",
       "      <td>425</td>\n",
       "      <td>4</td>\n",
       "      <td>2.525333</td>\n",
       "    </tr>\n",
       "    <tr>\n",
       "      <th>3</th>\n",
       "      <td>440</td>\n",
       "      <td>4</td>\n",
       "      <td>2.525333</td>\n",
       "    </tr>\n",
       "    <tr>\n",
       "      <th>4</th>\n",
       "      <td>445</td>\n",
       "      <td>4</td>\n",
       "      <td>2.525333</td>\n",
       "    </tr>\n",
       "    <tr>\n",
       "      <th>...</th>\n",
       "      <td>...</td>\n",
       "      <td>...</td>\n",
       "      <td>...</td>\n",
       "    </tr>\n",
       "    <tr>\n",
       "      <th>1523</th>\n",
       "      <td>2960</td>\n",
       "      <td>3</td>\n",
       "      <td>2.525333</td>\n",
       "    </tr>\n",
       "    <tr>\n",
       "      <th>1524</th>\n",
       "      <td>2967</td>\n",
       "      <td>3</td>\n",
       "      <td>2.525333</td>\n",
       "    </tr>\n",
       "    <tr>\n",
       "      <th>1525</th>\n",
       "      <td>2990</td>\n",
       "      <td>3</td>\n",
       "      <td>2.525333</td>\n",
       "    </tr>\n",
       "    <tr>\n",
       "      <th>1526</th>\n",
       "      <td>2991</td>\n",
       "      <td>4</td>\n",
       "      <td>2.525333</td>\n",
       "    </tr>\n",
       "    <tr>\n",
       "      <th>1527</th>\n",
       "      <td>2993</td>\n",
       "      <td>3</td>\n",
       "      <td>2.525333</td>\n",
       "    </tr>\n",
       "  </tbody>\n",
       "</table>\n",
       "<p>1528 rows × 3 columns</p>\n",
       "</div>"
      ],
      "text/plain": [
       "      PASSENGERID  TOTAL_FLIGHTS  OVERALL_AVG\n",
       "0             416              3     2.525333\n",
       "1             418              3     2.525333\n",
       "2             425              4     2.525333\n",
       "3             440              4     2.525333\n",
       "4             445              4     2.525333\n",
       "...           ...            ...          ...\n",
       "1523         2960              3     2.525333\n",
       "1524         2967              3     2.525333\n",
       "1525         2990              3     2.525333\n",
       "1526         2991              4     2.525333\n",
       "1527         2993              3     2.525333\n",
       "\n",
       "[1528 rows x 3 columns]"
      ]
     },
     "metadata": {},
     "output_type": "display_data"
    },
    {
     "name": "stdout",
     "output_type": "stream",
     "text": [
      "\n",
      "---\n",
      "\n"
     ]
    }
   ],
   "source": [
    "query_4_3 = \"\"\"\n",
    "WITH overall AS (\n",
    "    SELECT AVG(cnt) AS avg_cnt\n",
    "    FROM (\n",
    "        SELECT passengerID, COUNT(*) AS cnt\n",
    "        FROM Carries\n",
    "        GROUP BY passengerID\n",
    "    )\n",
    ")\n",
    "SELECT \n",
    "    c.passengerID,\n",
    "    COUNT(c.flightNumber) AS total_flights,\n",
    "    o.avg_cnt AS overall_avg\n",
    "    \n",
    "FROM Carries c\n",
    "CROSS JOIN overall o\n",
    "GROUP BY c.passengerID, o.avg_cnt\n",
    "HAVING COUNT(c.flightNumber) > o.avg_cnt\n",
    "\"\"\"\n",
    "\n",
    "run_query_and_show_dataframe(\n",
    "    sql_query=query_4_3,\n",
    "    description=\"QUERY 4.3 (GROUP BY + Subselect) showing each passenger's total flights vs. overall average\"\n",
    ")\n"
   ]
  },
  {
   "cell_type": "markdown",
   "id": "8a3f4a61-adf3-470a-a6f8-7c093c7f8f90",
   "metadata": {},
   "source": [
    "## 5) STORED PROCEDURES (Update & Delete)\n",
    "\n",
    "We create two:\n",
    "- `update_passenger_surname` (updates a passenger's surname).\n",
    "- `delete_flights_with_prefix` (removes flights for a given airline when the flightNumber starts with a certain prefix).\n",
    "\n",
    "Then we call them."
   ]
  },
  {
   "cell_type": "code",
   "execution_count": 172,
   "id": "10b68896-acdb-48e5-ae6f-ce9e1d25121f",
   "metadata": {},
   "outputs": [
    {
     "name": "stdout",
     "output_type": "stream",
     "text": [
      "Procedure update_passenger_surname created.\n"
     ]
    }
   ],
   "source": [
    "sp_update = \"\"\"\n",
    "CREATE OR REPLACE PROCEDURE update_passenger_surname(\n",
    "    p_passengerID IN NUMBER,\n",
    "    p_newSurname  IN VARCHAR2\n",
    ") AS\n",
    "BEGIN\n",
    "    UPDATE Passenger\n",
    "    SET Surname = p_newSurname\n",
    "    WHERE passengerID = p_passengerID;\n",
    "    COMMIT;\n",
    "END;\n",
    "\"\"\"\n",
    "\n",
    "cursor.execute(sp_update)\n",
    "print(\"Procedure update_passenger_surname created.\")"
   ]
  },
  {
   "cell_type": "code",
   "execution_count": 170,
   "id": "a4f21ce6-59ae-4ce2-bc84-75cc39139bc3",
   "metadata": {},
   "outputs": [
    {
     "name": "stdout",
     "output_type": "stream",
     "text": [
      "Procedure delete_flights_with_prefix created.\n"
     ]
    }
   ],
   "source": [
    "sp_delete = \"\"\"\n",
    "CREATE OR REPLACE PROCEDURE delete_flights_with_prefix(\n",
    "    p_airlineID     IN NUMBER,\n",
    "    p_flightPrefix  IN VARCHAR2\n",
    ") AS\n",
    "BEGIN\n",
    "    -- Delete all flights for a given airline that match the prefix.\n",
    "    DELETE FROM Flight\n",
    "    WHERE airlineID = p_airlineID\n",
    "      AND flightNumber LIKE p_flightPrefix || '%';\n",
    "    COMMIT;\n",
    "END;\n",
    "\"\"\"\n",
    "\n",
    "cursor.execute(sp_delete)\n",
    "print(\"Procedure delete_flights_with_prefix created.\")"
   ]
  },
  {
   "cell_type": "code",
   "execution_count": 174,
   "id": "4edaa098-a44d-4c76-b27e-4b01fbc72d96",
   "metadata": {},
   "outputs": [
    {
     "name": "stdout",
     "output_type": "stream",
     "text": [
      "Called update_passenger_surname for passengerID=10.\n",
      "Called delete_flights_with_prefix for airlineID=20, prefix='FN1'.\n"
     ]
    }
   ],
   "source": [
    "# Example 1: Update passenger #10's surname to \"NEWLNAME\"\n",
    "update_call = \"\"\"\n",
    "BEGIN\n",
    "    update_passenger_surname(:1, :2);\n",
    "END;\n",
    "\"\"\"\n",
    "cursor.execute(update_call, [10, \"NEWLNAME\"])\n",
    "connection.commit()\n",
    "print(\"Called update_passenger_surname for passengerID=10.\")\n",
    "\n",
    "# Example 2: Delete flights from airlineID=20 whose flightNumber starts with 'FN1'\n",
    "delete_call = \"\"\"\n",
    "BEGIN\n",
    "    delete_flights_with_prefix(:airlineID, :prefix);\n",
    "END;\n",
    "\"\"\"\n",
    "cursor.execute(delete_call, airlineID=20, prefix=\"FN1\")\n",
    "connection.commit()\n",
    "print(\"Called delete_flights_with_prefix for airlineID=20, prefix='FN1'.\")\n"
   ]
  },
  {
   "cell_type": "code",
   "execution_count": 158,
   "id": "eea39972-748f-450a-a065-e7c7e52d2482",
   "metadata": {},
   "outputs": [
    {
     "name": "stdout",
     "output_type": "stream",
     "text": [
      "Verification of update_passenger_surname: (10, 'FName10', 'NEWLNAME')\n"
     ]
    }
   ],
   "source": [
    "check_updated_sql = \"\"\"\n",
    "SELECT passengerID, FirstName, Surname\n",
    "FROM Passenger\n",
    "WHERE passengerID = 10\n",
    "\"\"\"\n",
    "\n",
    "cursor.execute(check_updated_sql)\n",
    "row = cursor.fetchone()\n",
    "print(\"Verification of update_passenger_surname:\", row)"
   ]
  },
  {
   "cell_type": "code",
   "execution_count": 176,
   "id": "e1de8e84-5e51-4fbf-a5b0-7e6f14010ee6",
   "metadata": {},
   "outputs": [
    {
     "name": "stdout",
     "output_type": "stream",
     "text": [
      "Table Airline final count: 500\n",
      "Table Passenger final count: 3000\n",
      "Table Flight final count: 1996\n",
      "Table Carries final count: 7560\n"
     ]
    }
   ],
   "source": [
    "final_tables = [\"Airline\", \"Passenger\", \"Flight\", \"Carries\"]\n",
    "for tbl in final_tables:\n",
    "    cursor.execute(f\"SELECT COUNT(*) FROM {tbl}\")\n",
    "    cnt = cursor.fetchone()[0]\n",
    "    print(f\"Table {tbl} final count: {cnt}\")"
   ]
  },
  {
   "cell_type": "markdown",
   "id": "5f2a624b-75dc-4dd6-a896-4dcaebb7dfc0",
   "metadata": {},
   "source": [
    "## 6) INDEXING & QUERY OPTIMIZATION\n",
    "\n",
    "The following steps create a separate large table, `kunden`, with 100,000 rows.  \n",
    "Then we compare query performance (or plans) **before** and **after** adding an index on the `stadt` column."
   ]
  },
  {
   "cell_type": "code",
   "execution_count": 190,
   "id": "aee01282-102c-4c5d-981d-0b29b79be84c",
   "metadata": {},
   "outputs": [
    {
     "name": "stdout",
     "output_type": "stream",
     "text": [
      "No existing table kunden. Proceeding with creation.\n",
      "Created table kunden.\n"
     ]
    }
   ],
   "source": [
    "# First, let's drop it if it exists.\n",
    "try:\n",
    "    cursor.execute(\"DROP TABLE kunden CASCADE CONSTRAINTS\")\n",
    "    connection.commit()\n",
    "    print(\"Dropped existing table kunden.\")\n",
    "except oracledb.Error as e:\n",
    "    print(\"No existing table kunden. Proceeding with creation.\")\n",
    "\n",
    "create_kunden_table = \"\"\"\n",
    "CREATE TABLE kunden (\n",
    "    id NUMBER GENERATED BY DEFAULT ON NULL AS IDENTITY PRIMARY KEY,\n",
    "    vorname    VARCHAR2(50),\n",
    "    nachname   VARCHAR2(50),\n",
    "    email      VARCHAR2(100),\n",
    "    geburtsdatum DATE,\n",
    "    stadt      VARCHAR2(50)\n",
    ")\n",
    "\"\"\"\n",
    "\n",
    "cursor.execute(create_kunden_table)\n",
    "connection.commit()\n",
    "print(\"Created table kunden.\")"
   ]
  },
  {
   "cell_type": "code",
   "execution_count": 194,
   "id": "2a9f44ee-4b31-4b93-8de7-c741dbb29c49",
   "metadata": {},
   "outputs": [
    {
     "name": "stdout",
     "output_type": "stream",
     "text": [
      "10000 rows inserted...\n",
      "20000 rows inserted...\n",
      "30000 rows inserted...\n",
      "40000 rows inserted...\n",
      "50000 rows inserted...\n",
      "60000 rows inserted...\n",
      "70000 rows inserted...\n",
      "80000 rows inserted...\n",
      "90000 rows inserted...\n",
      "100000 rows inserted...\n",
      "Finished inserting 100000 rows into kunden.\n"
     ]
    }
   ],
   "source": [
    "# We'll insert 100,000 customers. \n",
    "# For demonstration, we keep the logic straightforward.\n",
    "\n",
    "batch_size = 10000  # for example, commit every 10k rows\n",
    "total_rows = 100000\n",
    "\n",
    "insert_sql = \"\"\"\n",
    "INSERT INTO kunden (vorname, nachname, email, geburtsdatum, stadt)\n",
    "VALUES (:vorname, :nachname, :email, :geburtsdatum, :stadt)\n",
    "\"\"\"\n",
    "\n",
    "for i in range(1, total_rows + 1):\n",
    "    vorname = f\"Vorname{i}\"\n",
    "    nachname = f\"Nachname{i}\"\n",
    "    email = f\"email{i}@example.com\"\n",
    "    geburtsdatum = datetime.date(1990, 1, 1)  # or random dates\n",
    "    # We'll randomly assign ~50% 'Wien' and 50% 'Graz'\n",
    "    stadt = \"Wien\" if random.random() < 0.5 else \"Graz\"\n",
    "\n",
    "    cursor.execute(insert_sql, [vorname, nachname, email, geburtsdatum, stadt])\n",
    "\n",
    "    # Commit every 10k rows\n",
    "    if i % batch_size == 0:\n",
    "        connection.commit()\n",
    "        print(f\"{i} rows inserted...\")\n",
    "\n",
    "connection.commit()\n",
    "print(f\"Finished inserting {total_rows} rows into kunden.\")"
   ]
  },
  {
   "cell_type": "markdown",
   "id": "17c9ecac-48af-449f-9a2f-c77c07af87ab",
   "metadata": {},
   "source": [
    "Check count"
   ]
  },
  {
   "cell_type": "code",
   "execution_count": 196,
   "id": "00fb8fb4-81c0-40d1-8766-0c3b16474b5a",
   "metadata": {},
   "outputs": [
    {
     "name": "stdout",
     "output_type": "stream",
     "text": [
      "'kunden' now has 100000 rows.\n"
     ]
    }
   ],
   "source": [
    "cursor.execute(\"SELECT COUNT(*) FROM kunden\")\n",
    "count_kunden = cursor.fetchone()[0]\n",
    "print(f\"'kunden' now has {count_kunden} rows.\")"
   ]
  },
  {
   "cell_type": "code",
   "execution_count": 213,
   "id": "ddc0a2b8-4dcb-46c1-8c8f-95a41ea12866",
   "metadata": {},
   "outputs": [
    {
     "name": "stdout",
     "output_type": "stream",
     "text": [
      "=== EXPLAIN PLAN (BEFORE INDEX) ===\n",
      "Plan hash value: 2881942826\n",
      " \n",
      "----------------------------------------------------------------------------\n",
      "| Id  | Operation         | Name   | Rows  | Bytes | Cost (%CPU)| Time     |\n",
      "----------------------------------------------------------------------------\n",
      "|   0 | SELECT STATEMENT  |        | 10000 |   625K|   102   (0)| 00:00:01 |\n",
      "|*  1 |  TABLE ACCESS FULL| KUNDEN | 10000 |   625K|   102   (0)| 00:00:01 |\n",
      "----------------------------------------------------------------------------\n",
      " \n",
      "Predicate Information (identified by operation id):\n",
      "---------------------------------------------------\n",
      " \n",
      "   1 - filter(\"STADT\"='Wien')\n"
     ]
    }
   ],
   "source": [
    "explain_before_sql = \"\"\"\n",
    "EXPLAIN PLAN FOR\n",
    "SELECT * \n",
    "FROM kunden\n",
    "WHERE stadt = 'Wien'\n",
    "\"\"\"\n",
    "cursor.execute(explain_before_sql)\n",
    "\n",
    "cursor.execute(\"SELECT PLAN_TABLE_OUTPUT FROM TABLE(DBMS_XPLAN.DISPLAY())\")\n",
    "plan_output = cursor.fetchall()\n",
    "\n",
    "print(\"=== EXPLAIN PLAN (BEFORE INDEX) ===\")\n",
    "for line in plan_output:\n",
    "    print(line[0])"
   ]
  },
  {
   "cell_type": "markdown",
   "id": "4847ad89-4ecd-4abb-bc3a-d002f12e292c",
   "metadata": {},
   "source": [
    "try:\n",
    "    cursor.execute(\"CREATE INDEX idx_stadt ON kunden(stadt)\")\n",
    "    connection.commit()\n",
    "    print(\"Index idx_stadt created on kunden(stadt).\")\n",
    "except oracledb.Error as e:\n",
    "    print(f\"Could not create index: {e}\")"
   ]
  },
  {
   "cell_type": "code",
   "execution_count": 204,
   "id": "0fdd259f-5f60-4c44-82f9-96480d303520",
   "metadata": {},
   "outputs": [
    {
     "name": "stdout",
     "output_type": "stream",
     "text": [
      "=== EXPLAIN PLAN (AFTER INDEX) ===\n",
      "Plan hash value: 2881942826\n",
      " \n",
      "----------------------------------------------------------------------------\n",
      "| Id  | Operation         | Name   | Rows  | Bytes | Cost (%CPU)| Time     |\n",
      "----------------------------------------------------------------------------\n",
      "|   0 | SELECT STATEMENT  |        | 10000 |   625K|   102   (0)| 00:00:01 |\n",
      "|*  1 |  TABLE ACCESS FULL| KUNDEN | 10000 |   625K|   102   (0)| 00:00:01 |\n",
      "----------------------------------------------------------------------------\n",
      " \n",
      "Predicate Information (identified by operation id):\n",
      "---------------------------------------------------\n",
      " \n",
      "   1 - filter(\"STADT\"='Wien')\n"
     ]
    }
   ],
   "source": [
    "explain_after_sql = \"\"\"\n",
    "EXPLAIN PLAN FOR\n",
    "SELECT * \n",
    "FROM kunden\n",
    "WHERE stadt = 'Wien'\n",
    "\"\"\"\n",
    "cursor.execute(explain_after_sql)\n",
    "\n",
    "cursor.execute(\"SELECT PLAN_TABLE_OUTPUT FROM TABLE(DBMS_XPLAN.DISPLAY())\")\n",
    "plan_output = cursor.fetchall()\n",
    "\n",
    "print(\"=== EXPLAIN PLAN (AFTER INDEX) ===\")\n",
    "for line in plan_output:\n",
    "    print(line[0])\n"
   ]
  },
  {
   "cell_type": "markdown",
   "id": "5f9f9147-1dea-4669-8f4c-c0808488e491",
   "metadata": {},
   "source": [
    "## 8) Cleanup"
   ]
  },
  {
   "cell_type": "code",
   "execution_count": 27,
   "id": "4aada4ff-53a5-49a3-8940-ae9f7f94805d",
   "metadata": {},
   "outputs": [
    {
     "name": "stdout",
     "output_type": "stream",
     "text": [
      "Closed Oracle connection. Done!\n"
     ]
    }
   ],
   "source": [
    "cursor.close()\n",
    "connection.close()\n",
    "print(\"Closed Oracle connection. Done!\")"
   ]
  },
  {
   "cell_type": "code",
   "execution_count": null,
   "id": "f7e60599-e50c-4929-b7ee-d04d4d04378f",
   "metadata": {},
   "outputs": [],
   "source": []
  }
 ],
 "metadata": {
  "kernelspec": {
   "display_name": "Python [conda env:base] *",
   "language": "python",
   "name": "conda-base-py"
  },
  "language_info": {
   "codemirror_mode": {
    "name": "ipython",
    "version": 3
   },
   "file_extension": ".py",
   "mimetype": "text/x-python",
   "name": "python",
   "nbconvert_exporter": "python",
   "pygments_lexer": "ipython3",
   "version": "3.12.7"
  }
 },
 "nbformat": 4,
 "nbformat_minor": 5
}
