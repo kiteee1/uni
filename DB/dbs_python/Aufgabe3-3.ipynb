{
 "cells": [
  {
   "cell_type": "markdown",
   "id": "5708a5e6-3635-4ba5-800f-49a92fbb346f",
   "metadata": {},
   "source": [
    "# Aufgabe3-3"
   ]
  },
  {
   "cell_type": "markdown",
   "id": "81344cff",
   "metadata": {},
   "source": [
    "## 0) Verbindungsaufbau und Bibliotheken"
   ]
  },
  {
   "cell_type": "code",
   "execution_count": 33,
   "id": "375e9140",
   "metadata": {},
   "outputs": [
    {
     "name": "stdout",
     "output_type": "stream",
     "text": [
      "Connected to Oracle DB successfully!\n"
     ]
    }
   ],
   "source": [
    "import oracledb\n",
    "import random\n",
    "from datetime import datetime, timedelta\n",
    "import pandas as pd\n",
    "\n",
    "oracledb.init_oracle_client(lib_dir=r\"instantclient_19_11\")\n",
    "\n",
    "username = \"\"\n",
    "password = \"\"\n",
    "dsn = \"oracle19.cs.univie.ac.at:1521/orclcdb\"\n",
    "\n",
    "connection = oracledb.connect(\n",
    "    user=username,\n",
    "    password=password,\n",
    "    dsn=dsn,\n",
    ")\n",
    "cursor = connection.cursor()\n",
    "\n",
    "print(\"Connected to Oracle DB successfully!\")"
   ]
  },
  {
   "cell_type": "markdown",
   "id": "4d5e5f48",
   "metadata": {},
   "source": [
    "## 1) Vorherige Tabellen löschen\n",
    "\n",
    "Wir droppen alle Tabellen, falls sie existieren, um Konflikte zu vermeiden."
   ]
  },
  {
   "cell_type": "code",
   "execution_count": 35,
   "id": "77196621",
   "metadata": {},
   "outputs": [
    {
     "name": "stdout",
     "output_type": "stream",
     "text": [
      "Dropped table Carries\n",
      "Dropped table Flight\n",
      "Dropped table Airline\n",
      "Dropped table Passenger\n"
     ]
    }
   ],
   "source": [
    "tables_to_drop = [\"Carries\", \"Flight\", \"Airline\", \"Passenger\"]\n",
    "for tbl in tables_to_drop:\n",
    "    drop_sql = f\"DROP TABLE {tbl} CASCADE CONSTRAINTS\"\n",
    "    try:\n",
    "        cursor.execute(drop_sql)\n",
    "        connection.commit()\n",
    "        print(f\"Dropped table {tbl}\")\n",
    "    except oracledb.Error as e:\n",
    "        print(f\"Skipping drop for {tbl}, possibly doesn't exist: {e}\")"
   ]
  },
  {
   "cell_type": "markdown",
   "id": "4430addd",
   "metadata": {},
   "source": [
    "## 2) Tabellen neu erstellen\n",
    "\n",
    "Wir legen `Airline`, `Flight`, `Passenger` und `Carries` an."
   ]
  },
  {
   "cell_type": "code",
   "execution_count": 37,
   "id": "2f6dfd6e",
   "metadata": {},
   "outputs": [
    {
     "name": "stdout",
     "output_type": "stream",
     "text": [
      "All tables created successfully!\n"
     ]
    }
   ],
   "source": [
    "create_airline = \"\"\"\n",
    "CREATE TABLE Airline (\n",
    "    airlineID      NUMBER PRIMARY KEY,\n",
    "    Name           VARCHAR2(100),\n",
    "    Headquarters   VARCHAR2(200)\n",
    ")\n",
    "\"\"\"\n",
    "cursor.execute(create_airline)\n",
    "\n",
    "create_flight = \"\"\"\n",
    "CREATE TABLE Flight (\n",
    "    flightNumber   VARCHAR2(10) PRIMARY KEY,\n",
    "    DepartureTime  TIMESTAMP,\n",
    "    ArrivalTime    TIMESTAMP,\n",
    "    airlineID      NUMBER,\n",
    "    CONSTRAINT fk_flight_airline\n",
    "        FOREIGN KEY (airlineID)\n",
    "        REFERENCES Airline(airlineID)\n",
    "        ON DELETE CASCADE\n",
    ")\n",
    "\"\"\"\n",
    "cursor.execute(create_flight)\n",
    "\n",
    "create_passenger = \"\"\"\n",
    "CREATE TABLE Passenger (\n",
    "    passengerID    NUMBER PRIMARY KEY,\n",
    "    FirstName      VARCHAR2(100),\n",
    "    Surname        VARCHAR2(100),\n",
    "    PassportNumber VARCHAR2(50)\n",
    ")\n",
    "\"\"\"\n",
    "cursor.execute(create_passenger)\n",
    "\n",
    "create_carries = \"\"\"\n",
    "CREATE TABLE Carries (\n",
    "    flightNumber   VARCHAR2(10),\n",
    "    passengerID    NUMBER,\n",
    "    CONSTRAINT pk_carries\n",
    "        PRIMARY KEY (flightNumber, passengerID),\n",
    "    CONSTRAINT fk_carries_flight\n",
    "        FOREIGN KEY (flightNumber) \n",
    "        REFERENCES Flight(flightNumber)\n",
    "        ON DELETE CASCADE,\n",
    "    CONSTRAINT fk_carries_passenger\n",
    "        FOREIGN KEY (passengerID)\n",
    "        REFERENCES Passenger(passengerID)\n",
    "        ON DELETE CASCADE\n",
    ")\n",
    "\"\"\"\n",
    "cursor.execute(create_carries)\n",
    "\n",
    "connection.commit()\n",
    "print(\"All tables created successfully!\")"
   ]
  },
  {
   "cell_type": "markdown",
   "id": "2da5c16a",
   "metadata": {},
   "source": [
    "## 3) Einfügen großer Datenmengen\n",
    "\n",
    "- 500 Airlines\n",
    "- 3000 Passengers\n",
    "- 2000 Flights\n",
    "- Verknüpfung über Carries\n"
   ]
  },
  {
   "cell_type": "code",
   "execution_count": 39,
   "id": "3cbcd78b",
   "metadata": {},
   "outputs": [
    {
     "name": "stdout",
     "output_type": "stream",
     "text": [
      "Inserted 500 Airlines, 3000 Passengers, 2000 Flights. Carries data inserted. Large dataset created!\n"
     ]
    }
   ],
   "source": [
    "# (3.1) Einfügen von 500 Airlines\n",
    "for i in range(1, 501):\n",
    "    sql = \"\"\"\n",
    "        INSERT INTO Airline (airlineID, Name, Headquarters)\n",
    "        VALUES (:1, :2, :3)\n",
    "    \"\"\"\n",
    "    airline_id = i\n",
    "    name = f\"Airline_{i}\"\n",
    "    headquarters = f\"Headquarters_{i}\"\n",
    "    cursor.execute(sql, [airline_id, name, headquarters])\n",
    "\n",
    "# (3.2) Einfügen von 3000 Passengers\n",
    "for i in range(1, 3001):\n",
    "    sql = \"\"\"\n",
    "        INSERT INTO Passenger (passengerID, FirstName, Surname, PassportNumber)\n",
    "        VALUES (:1, :2, :3, :4)\n",
    "    \"\"\"\n",
    "    passenger_id = i\n",
    "    first_name = f\"FName{i}\"\n",
    "    surname = f\"LName{i}\"\n",
    "    passport = f\"P{i:05d}\"\n",
    "    cursor.execute(sql, [passenger_id, first_name, surname, passport])\n",
    "\n",
    "# (3.3) Einfügen von 2000 Flights\n",
    "for i in range(1, 2001):\n",
    "    flight_num = f\"FN{i}\"\n",
    "    hour_offset = i % 24\n",
    "    chosen_airline = random.randint(1, 500)\n",
    "\n",
    "    base_dep = datetime(2025, 1, 1, 8, 0, 0)\n",
    "    base_arr = datetime(2025, 1, 1, 12, 0, 0)\n",
    "    departure_time = base_dep + timedelta(hours=hour_offset)\n",
    "    arrival_time = base_arr + timedelta(hours=hour_offset)\n",
    "    \n",
    "    sql = \"\"\"\n",
    "    INSERT INTO Flight (\n",
    "        flightNumber, DepartureTime, ArrivalTime, airlineID\n",
    "    )\n",
    "    VALUES (:1, :2, :3, :4)\n",
    "    \"\"\"\n",
    "    cursor.execute(sql, (\n",
    "        flight_num, \n",
    "        departure_time,\n",
    "        arrival_time, \n",
    "        chosen_airline\n",
    "    ))\n",
    "\n",
    "# (3.4) Verknüpfung mit Carries: jeder Passenger nimmt 1-4 Zufallsflüge.\n",
    "for passenger_id in range(1, 3001):\n",
    "    flight_count = random.randint(1, 4)  # bis zu 4 Flüge\n",
    "    flight_ids = random.sample(range(1, 2001), flight_count)\n",
    "    for fid in flight_ids:\n",
    "        flight_num = f\"FN{fid}\"\n",
    "        sql = \"INSERT INTO Carries (flightNumber, passengerID) VALUES (:1, :2)\"\n",
    "        cursor.execute(sql, (flight_num, passenger_id))\n",
    "\n",
    "connection.commit()\n",
    "print(\"Inserted 500 Airlines, 3000 Passengers, 2000 Flights. Carries data inserted. Large dataset created!\")"
   ]
  },
  {
   "cell_type": "markdown",
   "id": "b41140cf",
   "metadata": {},
   "source": [
    "### Überprüfung der Anzahl Datensätze"
   ]
  },
  {
   "cell_type": "code",
   "execution_count": 41,
   "id": "cdea85d9",
   "metadata": {},
   "outputs": [
    {
     "name": "stdout",
     "output_type": "stream",
     "text": [
      "Airline has 500 rows.\n",
      "Passenger has 3000 rows.\n",
      "Flight has 2000 rows.\n",
      "Carries has 7482 rows.\n"
     ]
    }
   ],
   "source": [
    "tables = [\"Airline\", \"Passenger\", \"Flight\", \"Carries\"]\n",
    "for tbl in tables:\n",
    "    cursor.execute(f\"SELECT COUNT(*) FROM {tbl}\")\n",
    "    count = cursor.fetchone()[0]\n",
    "    print(f\"{tbl} has {count} rows.\")"
   ]
  },
  {
   "cell_type": "markdown",
   "id": "d57368fd",
   "metadata": {},
   "source": [
    "## 4) Erweiterte Queries\n",
    "\n",
    "Jede Abfrage nutzt mindestens zwei fortgeschrittene SQL-Konstrukte (GROUP BY, HAVING, ALL, Subselect)."
   ]
  },
  {
   "cell_type": "markdown",
   "id": "2b6bffd8-dcf9-4670-97d6-df2decbf8c3c",
   "metadata": {},
   "source": [
    "Hilfsfunktion, um SQL-Abfragen schön darzustellen"
   ]
  },
  {
   "cell_type": "code",
   "execution_count": 43,
   "id": "26b1c4d6",
   "metadata": {},
   "outputs": [],
   "source": [
    "def run_query_and_show_dataframe(sql_query, description):\n",
    "    print(f\"### {description}\")\n",
    "    print(f\"SQL:\\n{sql_query}\\n\")\n",
    "\n",
    "    cursor.execute(sql_query)\n",
    "    columns = [desc[0] for desc in cursor.description]\n",
    "    rows = cursor.fetchall()\n",
    "\n",
    "    df = pd.DataFrame(rows, columns=columns)\n",
    "    display(df)"
   ]
  },
  {
   "cell_type": "markdown",
   "id": "80412c2d",
   "metadata": {},
   "source": [
    "### 4.1) Query #1: GROUP BY + HAVING\n",
    "Zeige, wie viele Flüge jede Airline hat, aber nur Airlines mit mehr als 8 Flügen."
   ]
  },
  {
   "cell_type": "code",
   "execution_count": 45,
   "id": "a76a9403",
   "metadata": {},
   "outputs": [
    {
     "name": "stdout",
     "output_type": "stream",
     "text": [
      "### QUERY 4.1 (GROUP BY + HAVING, now showing airlineID)\n",
      "SQL:\n",
      "\n",
      "SELECT\n",
      "    A.airlineID,\n",
      "    A.Name AS AirlineName,\n",
      "    COUNT(F.flightNumber) AS FlightCount\n",
      "FROM Airline A\n",
      "JOIN Flight F ON A.airlineID = F.airlineID\n",
      "GROUP BY A.airlineID, A.Name\n",
      "HAVING COUNT(F.flightNumber) > 8\n",
      "\n",
      "\n"
     ]
    },
    {
     "data": {
      "text/html": [
       "<div>\n",
       "<style scoped>\n",
       "    .dataframe tbody tr th:only-of-type {\n",
       "        vertical-align: middle;\n",
       "    }\n",
       "\n",
       "    .dataframe tbody tr th {\n",
       "        vertical-align: top;\n",
       "    }\n",
       "\n",
       "    .dataframe thead th {\n",
       "        text-align: right;\n",
       "    }\n",
       "</style>\n",
       "<table border=\"1\" class=\"dataframe\">\n",
       "  <thead>\n",
       "    <tr style=\"text-align: right;\">\n",
       "      <th></th>\n",
       "      <th>AIRLINEID</th>\n",
       "      <th>AIRLINENAME</th>\n",
       "      <th>FLIGHTCOUNT</th>\n",
       "    </tr>\n",
       "  </thead>\n",
       "  <tbody>\n",
       "    <tr>\n",
       "      <th>0</th>\n",
       "      <td>461</td>\n",
       "      <td>Airline_461</td>\n",
       "      <td>10</td>\n",
       "    </tr>\n",
       "    <tr>\n",
       "      <th>1</th>\n",
       "      <td>433</td>\n",
       "      <td>Airline_433</td>\n",
       "      <td>9</td>\n",
       "    </tr>\n",
       "    <tr>\n",
       "      <th>2</th>\n",
       "      <td>246</td>\n",
       "      <td>Airline_246</td>\n",
       "      <td>9</td>\n",
       "    </tr>\n",
       "    <tr>\n",
       "      <th>3</th>\n",
       "      <td>151</td>\n",
       "      <td>Airline_151</td>\n",
       "      <td>13</td>\n",
       "    </tr>\n",
       "    <tr>\n",
       "      <th>4</th>\n",
       "      <td>179</td>\n",
       "      <td>Airline_179</td>\n",
       "      <td>9</td>\n",
       "    </tr>\n",
       "    <tr>\n",
       "      <th>5</th>\n",
       "      <td>446</td>\n",
       "      <td>Airline_446</td>\n",
       "      <td>9</td>\n",
       "    </tr>\n",
       "    <tr>\n",
       "      <th>6</th>\n",
       "      <td>464</td>\n",
       "      <td>Airline_464</td>\n",
       "      <td>10</td>\n",
       "    </tr>\n",
       "    <tr>\n",
       "      <th>7</th>\n",
       "      <td>316</td>\n",
       "      <td>Airline_316</td>\n",
       "      <td>9</td>\n",
       "    </tr>\n",
       "    <tr>\n",
       "      <th>8</th>\n",
       "      <td>67</td>\n",
       "      <td>Airline_67</td>\n",
       "      <td>10</td>\n",
       "    </tr>\n",
       "    <tr>\n",
       "      <th>9</th>\n",
       "      <td>9</td>\n",
       "      <td>Airline_9</td>\n",
       "      <td>10</td>\n",
       "    </tr>\n",
       "    <tr>\n",
       "      <th>10</th>\n",
       "      <td>276</td>\n",
       "      <td>Airline_276</td>\n",
       "      <td>9</td>\n",
       "    </tr>\n",
       "    <tr>\n",
       "      <th>11</th>\n",
       "      <td>429</td>\n",
       "      <td>Airline_429</td>\n",
       "      <td>9</td>\n",
       "    </tr>\n",
       "    <tr>\n",
       "      <th>12</th>\n",
       "      <td>336</td>\n",
       "      <td>Airline_336</td>\n",
       "      <td>9</td>\n",
       "    </tr>\n",
       "  </tbody>\n",
       "</table>\n",
       "</div>"
      ],
      "text/plain": [
       "    AIRLINEID  AIRLINENAME  FLIGHTCOUNT\n",
       "0         461  Airline_461           10\n",
       "1         433  Airline_433            9\n",
       "2         246  Airline_246            9\n",
       "3         151  Airline_151           13\n",
       "4         179  Airline_179            9\n",
       "5         446  Airline_446            9\n",
       "6         464  Airline_464           10\n",
       "7         316  Airline_316            9\n",
       "8          67   Airline_67           10\n",
       "9           9    Airline_9           10\n",
       "10        276  Airline_276            9\n",
       "11        429  Airline_429            9\n",
       "12        336  Airline_336            9"
      ]
     },
     "metadata": {},
     "output_type": "display_data"
    }
   ],
   "source": [
    "query_4_1 = \"\"\"\n",
    "SELECT\n",
    "    A.airlineID,\n",
    "    A.Name AS AirlineName,\n",
    "    COUNT(F.flightNumber) AS FlightCount\n",
    "FROM Airline A\n",
    "JOIN Flight F ON A.airlineID = F.airlineID\n",
    "GROUP BY A.airlineID, A.Name\n",
    "HAVING COUNT(F.flightNumber) > 8\n",
    "\"\"\"\n",
    "\n",
    "run_query_and_show_dataframe(\n",
    "    sql_query=query_4_1,\n",
    "    description=\"QUERY 4.1 (GROUP BY + HAVING, now showing airlineID)\"\n",
    ")"
   ]
  },
  {
   "cell_type": "markdown",
   "id": "fe41a982",
   "metadata": {},
   "source": [
    "### 4.2) Query #2: Subselect + ALL\n",
    "Finde Passagiere, deren ID größer ist als alle Passagier-IDs, die auf Flug 'FN100' unterwegs sind."
   ]
  },
  {
   "cell_type": "code",
   "execution_count": 47,
   "id": "3f46e0be",
   "metadata": {},
   "outputs": [
    {
     "name": "stdout",
     "output_type": "stream",
     "text": [
      "### QUERY 4.2 (Subselect + ALL) with visible max passengerID from FN100\n",
      "SQL:\n",
      "\n",
      "SELECT\n",
      "    p.passengerID,\n",
      "    p.FirstName,\n",
      "    p.Surname,\n",
      "    (SELECT MAX(c2.passengerID) \n",
      "       FROM Carries c2 \n",
      "       WHERE c2.flightNumber = 'FN100'\n",
      "    ) AS max_passengerID_on_FN100\n",
      "FROM Passenger p\n",
      "WHERE p.passengerID > ALL (\n",
      "    SELECT c.passengerID\n",
      "    FROM Carries c\n",
      "    WHERE c.flightNumber = 'FN100'\n",
      ")\n",
      "\n",
      "\n"
     ]
    },
    {
     "data": {
      "text/html": [
       "<div>\n",
       "<style scoped>\n",
       "    .dataframe tbody tr th:only-of-type {\n",
       "        vertical-align: middle;\n",
       "    }\n",
       "\n",
       "    .dataframe tbody tr th {\n",
       "        vertical-align: top;\n",
       "    }\n",
       "\n",
       "    .dataframe thead th {\n",
       "        text-align: right;\n",
       "    }\n",
       "</style>\n",
       "<table border=\"1\" class=\"dataframe\">\n",
       "  <thead>\n",
       "    <tr style=\"text-align: right;\">\n",
       "      <th></th>\n",
       "      <th>PASSENGERID</th>\n",
       "      <th>FIRSTNAME</th>\n",
       "      <th>SURNAME</th>\n",
       "      <th>MAX_PASSENGERID_ON_FN100</th>\n",
       "    </tr>\n",
       "  </thead>\n",
       "  <tbody>\n",
       "    <tr>\n",
       "      <th>0</th>\n",
       "      <td>2108</td>\n",
       "      <td>FName2108</td>\n",
       "      <td>LName2108</td>\n",
       "      <td>2107</td>\n",
       "    </tr>\n",
       "    <tr>\n",
       "      <th>1</th>\n",
       "      <td>2109</td>\n",
       "      <td>FName2109</td>\n",
       "      <td>LName2109</td>\n",
       "      <td>2107</td>\n",
       "    </tr>\n",
       "    <tr>\n",
       "      <th>2</th>\n",
       "      <td>2110</td>\n",
       "      <td>FName2110</td>\n",
       "      <td>LName2110</td>\n",
       "      <td>2107</td>\n",
       "    </tr>\n",
       "    <tr>\n",
       "      <th>3</th>\n",
       "      <td>2111</td>\n",
       "      <td>FName2111</td>\n",
       "      <td>LName2111</td>\n",
       "      <td>2107</td>\n",
       "    </tr>\n",
       "    <tr>\n",
       "      <th>4</th>\n",
       "      <td>2112</td>\n",
       "      <td>FName2112</td>\n",
       "      <td>LName2112</td>\n",
       "      <td>2107</td>\n",
       "    </tr>\n",
       "    <tr>\n",
       "      <th>...</th>\n",
       "      <td>...</td>\n",
       "      <td>...</td>\n",
       "      <td>...</td>\n",
       "      <td>...</td>\n",
       "    </tr>\n",
       "    <tr>\n",
       "      <th>888</th>\n",
       "      <td>2996</td>\n",
       "      <td>FName2996</td>\n",
       "      <td>LName2996</td>\n",
       "      <td>2107</td>\n",
       "    </tr>\n",
       "    <tr>\n",
       "      <th>889</th>\n",
       "      <td>2997</td>\n",
       "      <td>FName2997</td>\n",
       "      <td>LName2997</td>\n",
       "      <td>2107</td>\n",
       "    </tr>\n",
       "    <tr>\n",
       "      <th>890</th>\n",
       "      <td>2998</td>\n",
       "      <td>FName2998</td>\n",
       "      <td>LName2998</td>\n",
       "      <td>2107</td>\n",
       "    </tr>\n",
       "    <tr>\n",
       "      <th>891</th>\n",
       "      <td>2999</td>\n",
       "      <td>FName2999</td>\n",
       "      <td>LName2999</td>\n",
       "      <td>2107</td>\n",
       "    </tr>\n",
       "    <tr>\n",
       "      <th>892</th>\n",
       "      <td>3000</td>\n",
       "      <td>FName3000</td>\n",
       "      <td>LName3000</td>\n",
       "      <td>2107</td>\n",
       "    </tr>\n",
       "  </tbody>\n",
       "</table>\n",
       "<p>893 rows × 4 columns</p>\n",
       "</div>"
      ],
      "text/plain": [
       "     PASSENGERID  FIRSTNAME    SURNAME  MAX_PASSENGERID_ON_FN100\n",
       "0           2108  FName2108  LName2108                      2107\n",
       "1           2109  FName2109  LName2109                      2107\n",
       "2           2110  FName2110  LName2110                      2107\n",
       "3           2111  FName2111  LName2111                      2107\n",
       "4           2112  FName2112  LName2112                      2107\n",
       "..           ...        ...        ...                       ...\n",
       "888         2996  FName2996  LName2996                      2107\n",
       "889         2997  FName2997  LName2997                      2107\n",
       "890         2998  FName2998  LName2998                      2107\n",
       "891         2999  FName2999  LName2999                      2107\n",
       "892         3000  FName3000  LName3000                      2107\n",
       "\n",
       "[893 rows x 4 columns]"
      ]
     },
     "metadata": {},
     "output_type": "display_data"
    }
   ],
   "source": [
    "query_4_2 = \"\"\"\n",
    "SELECT\n",
    "    p.passengerID,\n",
    "    p.FirstName,\n",
    "    p.Surname,\n",
    "    (SELECT MAX(c2.passengerID) \n",
    "       FROM Carries c2 \n",
    "       WHERE c2.flightNumber = 'FN100'\n",
    "    ) AS max_passengerID_on_FN100\n",
    "FROM Passenger p\n",
    "WHERE p.passengerID > ALL (\n",
    "    SELECT c.passengerID\n",
    "    FROM Carries c\n",
    "    WHERE c.flightNumber = 'FN100'\n",
    ")\n",
    "\"\"\"\n",
    "\n",
    "run_query_and_show_dataframe(\n",
    "    sql_query=query_4_2,\n",
    "    description=\"QUERY 4.2 (Subselect + ALL) with visible max passengerID from FN100\"\n",
    ")"
   ]
  },
  {
   "cell_type": "markdown",
   "id": "a043a1d6",
   "metadata": {},
   "source": [
    "### 4.3) Query #3: GROUP BY + Subselect\n",
    "Zeige Passagiere, die mehr Flüge als der Durchschnitt aller Passagiere haben."
   ]
  },
  {
   "cell_type": "code",
   "execution_count": 49,
   "id": "62e9ef8b",
   "metadata": {},
   "outputs": [
    {
     "name": "stdout",
     "output_type": "stream",
     "text": [
      "### QUERY 4.3 (GROUP BY + Subselect) showing each passenger's total flights vs. overall average\n",
      "SQL:\n",
      "\n",
      "WITH overall AS (\n",
      "    SELECT AVG(cnt) AS avg_cnt\n",
      "    FROM (\n",
      "        SELECT passengerID, COUNT(*) AS cnt\n",
      "        FROM Carries\n",
      "        GROUP BY passengerID\n",
      "    )\n",
      ")\n",
      "SELECT \n",
      "    c.passengerID,\n",
      "    COUNT(c.flightNumber) AS total_flights,\n",
      "    o.avg_cnt AS overall_avg\n",
      "FROM Carries c\n",
      "CROSS JOIN overall o\n",
      "GROUP BY c.passengerID, o.avg_cnt\n",
      "HAVING COUNT(c.flightNumber) > o.avg_cnt\n",
      "\n",
      "\n"
     ]
    },
    {
     "data": {
      "text/html": [
       "<div>\n",
       "<style scoped>\n",
       "    .dataframe tbody tr th:only-of-type {\n",
       "        vertical-align: middle;\n",
       "    }\n",
       "\n",
       "    .dataframe tbody tr th {\n",
       "        vertical-align: top;\n",
       "    }\n",
       "\n",
       "    .dataframe thead th {\n",
       "        text-align: right;\n",
       "    }\n",
       "</style>\n",
       "<table border=\"1\" class=\"dataframe\">\n",
       "  <thead>\n",
       "    <tr style=\"text-align: right;\">\n",
       "      <th></th>\n",
       "      <th>PASSENGERID</th>\n",
       "      <th>TOTAL_FLIGHTS</th>\n",
       "      <th>OVERALL_AVG</th>\n",
       "    </tr>\n",
       "  </thead>\n",
       "  <tbody>\n",
       "    <tr>\n",
       "      <th>0</th>\n",
       "      <td>790</td>\n",
       "      <td>4</td>\n",
       "      <td>2.494</td>\n",
       "    </tr>\n",
       "    <tr>\n",
       "      <th>1</th>\n",
       "      <td>796</td>\n",
       "      <td>3</td>\n",
       "      <td>2.494</td>\n",
       "    </tr>\n",
       "    <tr>\n",
       "      <th>2</th>\n",
       "      <td>820</td>\n",
       "      <td>3</td>\n",
       "      <td>2.494</td>\n",
       "    </tr>\n",
       "    <tr>\n",
       "      <th>3</th>\n",
       "      <td>842</td>\n",
       "      <td>4</td>\n",
       "      <td>2.494</td>\n",
       "    </tr>\n",
       "    <tr>\n",
       "      <th>4</th>\n",
       "      <td>872</td>\n",
       "      <td>3</td>\n",
       "      <td>2.494</td>\n",
       "    </tr>\n",
       "    <tr>\n",
       "      <th>...</th>\n",
       "      <td>...</td>\n",
       "      <td>...</td>\n",
       "      <td>...</td>\n",
       "    </tr>\n",
       "    <tr>\n",
       "      <th>1488</th>\n",
       "      <td>2935</td>\n",
       "      <td>3</td>\n",
       "      <td>2.494</td>\n",
       "    </tr>\n",
       "    <tr>\n",
       "      <th>1489</th>\n",
       "      <td>2939</td>\n",
       "      <td>3</td>\n",
       "      <td>2.494</td>\n",
       "    </tr>\n",
       "    <tr>\n",
       "      <th>1490</th>\n",
       "      <td>2965</td>\n",
       "      <td>4</td>\n",
       "      <td>2.494</td>\n",
       "    </tr>\n",
       "    <tr>\n",
       "      <th>1491</th>\n",
       "      <td>2966</td>\n",
       "      <td>3</td>\n",
       "      <td>2.494</td>\n",
       "    </tr>\n",
       "    <tr>\n",
       "      <th>1492</th>\n",
       "      <td>2970</td>\n",
       "      <td>3</td>\n",
       "      <td>2.494</td>\n",
       "    </tr>\n",
       "  </tbody>\n",
       "</table>\n",
       "<p>1493 rows × 3 columns</p>\n",
       "</div>"
      ],
      "text/plain": [
       "      PASSENGERID  TOTAL_FLIGHTS  OVERALL_AVG\n",
       "0             790              4        2.494\n",
       "1             796              3        2.494\n",
       "2             820              3        2.494\n",
       "3             842              4        2.494\n",
       "4             872              3        2.494\n",
       "...           ...            ...          ...\n",
       "1488         2935              3        2.494\n",
       "1489         2939              3        2.494\n",
       "1490         2965              4        2.494\n",
       "1491         2966              3        2.494\n",
       "1492         2970              3        2.494\n",
       "\n",
       "[1493 rows x 3 columns]"
      ]
     },
     "metadata": {},
     "output_type": "display_data"
    }
   ],
   "source": [
    "query_4_3 = \"\"\"\n",
    "WITH overall AS (\n",
    "    SELECT AVG(cnt) AS avg_cnt\n",
    "    FROM (\n",
    "        SELECT passengerID, COUNT(*) AS cnt\n",
    "        FROM Carries\n",
    "        GROUP BY passengerID\n",
    "    )\n",
    ")\n",
    "SELECT \n",
    "    c.passengerID,\n",
    "    COUNT(c.flightNumber) AS total_flights,\n",
    "    o.avg_cnt AS overall_avg\n",
    "FROM Carries c\n",
    "CROSS JOIN overall o\n",
    "GROUP BY c.passengerID, o.avg_cnt\n",
    "HAVING COUNT(c.flightNumber) > o.avg_cnt\n",
    "\"\"\"\n",
    "\n",
    "run_query_and_show_dataframe(\n",
    "    sql_query=query_4_3,\n",
    "    description=\"QUERY 4.3 (GROUP BY + Subselect) showing each passenger's total flights vs. overall average\"\n",
    ")"
   ]
  },
  {
   "cell_type": "markdown",
   "id": "e28fe909",
   "metadata": {},
   "source": [
    "## 5) Stored Procedures (Update & Delete)\n",
    "\n",
    "Wir erstellen zwei Prozeduren:\n",
    "- `update_passenger_surname`  \n",
    "- `delete_flights_with_prefix`\n",
    "\n",
    "Danach werden sie aufgerufen und überprüft."
   ]
  },
  {
   "cell_type": "code",
   "execution_count": 51,
   "id": "8b6ae46e",
   "metadata": {},
   "outputs": [
    {
     "name": "stdout",
     "output_type": "stream",
     "text": [
      "Procedure update_passenger_surname created.\n"
     ]
    }
   ],
   "source": [
    "sp_update = \"\"\"\n",
    "CREATE OR REPLACE PROCEDURE update_passenger_surname(\n",
    "    p_passengerID IN NUMBER,\n",
    "    p_newSurname  IN VARCHAR2\n",
    ") AS\n",
    "BEGIN\n",
    "    UPDATE Passenger\n",
    "    SET Surname = p_newSurname\n",
    "    WHERE passengerID = p_passengerID;\n",
    "    COMMIT;\n",
    "END;\n",
    "\"\"\"\n",
    "\n",
    "cursor.execute(sp_update)\n",
    "print(\"Procedure update_passenger_surname created.\")"
   ]
  },
  {
   "cell_type": "code",
   "execution_count": 53,
   "id": "44f43e31",
   "metadata": {},
   "outputs": [
    {
     "name": "stdout",
     "output_type": "stream",
     "text": [
      "Procedure delete_flights_with_prefix created.\n"
     ]
    }
   ],
   "source": [
    "sp_delete = \"\"\"\n",
    "CREATE OR REPLACE PROCEDURE delete_flights_with_prefix(\n",
    "    p_airlineID     IN NUMBER,\n",
    "    p_flightPrefix  IN VARCHAR2\n",
    ") AS\n",
    "BEGIN\n",
    "    DELETE FROM Flight\n",
    "    WHERE airlineID = p_airlineID\n",
    "      AND flightNumber LIKE p_flightPrefix || '%';\n",
    "    COMMIT;\n",
    "END;\n",
    "\"\"\"\n",
    "\n",
    "cursor.execute(sp_delete)\n",
    "print(\"Procedure delete_flights_with_prefix created.\")"
   ]
  },
  {
   "cell_type": "markdown",
   "id": "51203d09-c726-4c2d-a070-3be2e1691ca6",
   "metadata": {},
   "source": [
    "Aufruf der Stored Procedures"
   ]
  },
  {
   "cell_type": "code",
   "execution_count": 55,
   "id": "cd09c2d7",
   "metadata": {},
   "outputs": [
    {
     "name": "stdout",
     "output_type": "stream",
     "text": [
      "Called update_passenger_surname for passengerID=10.\n",
      "Called delete_flights_with_prefix for airlineID=20, prefix='FN1'.\n"
     ]
    }
   ],
   "source": [
    "# Beispiel 1: Update\n",
    "update_call = \"\"\"\n",
    "BEGIN\n",
    "    update_passenger_surname(:1, :2);\n",
    "END;\n",
    "\"\"\"\n",
    "cursor.execute(update_call, [10, \"NEWLNAME\"])\n",
    "connection.commit()\n",
    "print(\"Called update_passenger_surname for passengerID=10.\")\n",
    "\n",
    "# Beispiel 2: Delete\n",
    "delete_call = \"\"\"\n",
    "BEGIN\n",
    "    delete_flights_with_prefix(:airlineID, :prefix);\n",
    "END;\n",
    "\"\"\"\n",
    "cursor.execute(delete_call, airlineID=20, prefix=\"FN1\")\n",
    "connection.commit()\n",
    "print(\"Called delete_flights_with_prefix for airlineID=20, prefix='FN1'.\")"
   ]
  },
  {
   "cell_type": "markdown",
   "id": "4c370cf7-a9e1-4413-820b-c2554af15f46",
   "metadata": {},
   "source": [
    "Kurze Überprüfung"
   ]
  },
  {
   "cell_type": "code",
   "execution_count": 57,
   "id": "bd270c9b",
   "metadata": {},
   "outputs": [
    {
     "name": "stdout",
     "output_type": "stream",
     "text": [
      "Verification of update_passenger_surname: (10, 'FName10', 'NEWLNAME')\n"
     ]
    }
   ],
   "source": [
    "check_updated_sql = \"\"\"\n",
    "SELECT passengerID, FirstName, Surname\n",
    "FROM Passenger\n",
    "WHERE passengerID = 10\n",
    "\"\"\"\n",
    "\n",
    "cursor.execute(check_updated_sql)\n",
    "row = cursor.fetchone()\n",
    "print(\"Verification of update_passenger_surname:\", row)"
   ]
  },
  {
   "cell_type": "code",
   "execution_count": 59,
   "id": "acb96ee6",
   "metadata": {},
   "outputs": [
    {
     "name": "stdout",
     "output_type": "stream",
     "text": [
      "Table Airline final count: 500\n",
      "Table Passenger final count: 3000\n",
      "Table Flight final count: 1996\n",
      "Table Carries final count: 7470\n"
     ]
    }
   ],
   "source": [
    "final_tables = [\"Airline\", \"Passenger\", \"Flight\", \"Carries\"]\n",
    "for tbl in final_tables:\n",
    "    cursor.execute(f\"SELECT COUNT(*) FROM {tbl}\")\n",
    "    cnt = cursor.fetchone()[0]\n",
    "    print(f\"Table {tbl} final count: {cnt}\")"
   ]
  },
  {
   "cell_type": "markdown",
   "id": "b2f2779c",
   "metadata": {},
   "source": [
    "## 6) Indexing & Query Optimization\n",
    "\n",
    "Wir erstellen eine große Tabelle `kunden` mit 100.000 Einträgen, führen eine Abfrage vor und nach dem Erstellen eines Indexes durch und vergleichen die Ausführungspläne."
   ]
  },
  {
   "cell_type": "markdown",
   "id": "fec371b3-05f2-4b6d-afca-5c820db3c0ba",
   "metadata": {},
   "source": [
    "Kundentabelle droppen, falls vorhanden, dann neu anlegen."
   ]
  },
  {
   "cell_type": "code",
   "execution_count": null,
   "id": "45f79640",
   "metadata": {},
   "outputs": [
    {
     "name": "stdout",
     "output_type": "stream",
     "text": [
      "No existing table kunden. Proceeding with creation.\n",
      "Created table kunden.\n"
     ]
    }
   ],
   "source": [
    "try:\n",
    "    cursor.execute(\"DROP TABLE kunden CASCADE CONSTRAINTS\")\n",
    "    connection.commit()\n",
    "    print(\"Dropped existing table kunden.\")\n",
    "except oracledb.Error as e:\n",
    "    print(\"No existing table kunden. Proceeding with creation.\")\n",
    "\n",
    "create_kunden_table = \"\"\"\n",
    "CREATE TABLE kunden (\n",
    "    id NUMBER GENERATED BY DEFAULT ON NULL AS IDENTITY PRIMARY KEY,\n",
    "    vorname    VARCHAR2(50),\n",
    "    nachname   VARCHAR2(50),\n",
    "    email      VARCHAR2(100),\n",
    "    geburtsdatum DATE,\n",
    "    stadt      VARCHAR2(50)\n",
    ")\n",
    "\"\"\"\n",
    "cursor.execute(create_kunden_table)\n",
    "connection.commit()\n",
    "print(\"Created table kunden.\")"
   ]
  },
  {
   "cell_type": "markdown",
   "id": "475d64f0-a20d-483d-ae71-372f7180d8bf",
   "metadata": {},
   "source": [
    "Einfügen von 100.000 Einträgen in kunden"
   ]
  },
  {
   "cell_type": "code",
   "execution_count": null,
   "id": "b5e231a4",
   "metadata": {},
   "outputs": [
    {
     "name": "stdout",
     "output_type": "stream",
     "text": [
      "10000 rows inserted...\n",
      "20000 rows inserted...\n",
      "30000 rows inserted...\n",
      "40000 rows inserted...\n",
      "50000 rows inserted...\n",
      "60000 rows inserted...\n",
      "70000 rows inserted...\n",
      "80000 rows inserted...\n",
      "90000 rows inserted...\n",
      "100000 rows inserted...\n",
      "Finished inserting 100000 rows into kunden.\n"
     ]
    }
   ],
   "source": [
    "batch_size = 10000\n",
    "total_rows = 100000\n",
    "\n",
    "insert_sql = \"\"\"\n",
    "INSERT INTO kunden (vorname, nachname, email, geburtsdatum, stadt)\n",
    "VALUES (:vorname, :nachname, :email, :geburtsdatum, :stadt)\n",
    "\"\"\"\n",
    "\n",
    "for i in range(1, total_rows + 1):\n",
    "    vorname = f\"Vorname{i}\"\n",
    "    nachname = f\"Nachname{i}\"\n",
    "    email = f\"email{i}@example.com\"\n",
    "    geburtsdatum = datetime.date(1990, 1, 1)\n",
    "    stadt = \"Wien\" if random.random() < 0.5 else \"Graz\"\n",
    "\n",
    "    cursor.execute(insert_sql, [vorname, nachname, email, geburtsdatum, stadt])\n",
    "\n",
    "    if i % batch_size == 0:\n",
    "        connection.commit()\n",
    "        print(f\"{i} rows inserted...\")\n",
    "\n",
    "connection.commit()\n",
    "print(f\"Finished inserting {total_rows} rows into kunden.\")"
   ]
  },
  {
   "cell_type": "markdown",
   "id": "8f2b9f4e",
   "metadata": {},
   "source": [
    "Kontrolle der Zeilenzahl"
   ]
  },
  {
   "cell_type": "code",
   "execution_count": 61,
   "id": "e6fc1a53",
   "metadata": {},
   "outputs": [
    {
     "name": "stdout",
     "output_type": "stream",
     "text": [
      "'kunden' now has 100000 rows.\n"
     ]
    }
   ],
   "source": [
    "cursor.execute(\"SELECT COUNT(*) FROM kunden\")\n",
    "count_kunden = cursor.fetchone()[0]\n",
    "print(f\"'kunden' now has {count_kunden} rows.\")"
   ]
  },
  {
   "cell_type": "markdown",
   "id": "2fc5d208-dbfd-48c3-a585-68f77175ac33",
   "metadata": {},
   "source": [
    "EXPLAIN PLAN vor dem Index"
   ]
  },
  {
   "cell_type": "code",
   "execution_count": 63,
   "id": "78bb6d1e",
   "metadata": {},
   "outputs": [
    {
     "name": "stdout",
     "output_type": "stream",
     "text": [
      "=== EXPLAIN PLAN (BEFORE INDEX) ===\n",
      "Plan hash value: 2881942826\n",
      " \n",
      "----------------------------------------------------------------------------\n",
      "| Id  | Operation         | Name   | Rows  | Bytes | Cost (%CPU)| Time     |\n",
      "----------------------------------------------------------------------------\n",
      "|   0 | SELECT STATEMENT  |        | 10000 |   625K|   102   (0)| 00:00:01 |\n",
      "|*  1 |  TABLE ACCESS FULL| KUNDEN | 10000 |   625K|   102   (0)| 00:00:01 |\n",
      "----------------------------------------------------------------------------\n",
      " \n",
      "Predicate Information (identified by operation id):\n",
      "---------------------------------------------------\n",
      " \n",
      "   1 - filter(\"STADT\"='Wien')\n"
     ]
    }
   ],
   "source": [
    "explain_before_sql = \"\"\"\n",
    "EXPLAIN PLAN FOR\n",
    "SELECT * \n",
    "FROM kunden\n",
    "WHERE stadt = 'Wien'\n",
    "\"\"\"\n",
    "cursor.execute(explain_before_sql)\n",
    "\n",
    "cursor.execute(\"SELECT PLAN_TABLE_OUTPUT FROM TABLE(DBMS_XPLAN.DISPLAY())\")\n",
    "plan_output = cursor.fetchall()\n",
    "\n",
    "print(\"=== EXPLAIN PLAN (BEFORE INDEX) ===\")\n",
    "for line in plan_output:\n",
    "    print(line[0])"
   ]
  },
  {
   "cell_type": "markdown",
   "id": "59139650",
   "metadata": {},
   "source": [
    "### Index erstellen auf Spalte `stadt`"
   ]
  },
  {
   "cell_type": "code",
   "execution_count": 65,
   "id": "bde050ea",
   "metadata": {},
   "outputs": [
    {
     "name": "stdout",
     "output_type": "stream",
     "text": [
      "Could not create index: ORA-00955: name is already used by an existing object\n"
     ]
    }
   ],
   "source": [
    "try:\n",
    "    cursor.execute(\"CREATE INDEX idx_stadt ON kunden(stadt)\")\n",
    "    connection.commit()\n",
    "    print(\"Index idx_stadt created on kunden(stadt).\")\n",
    "except oracledb.Error as e:\n",
    "    print(f\"Could not create index: {e}\")"
   ]
  },
  {
   "cell_type": "markdown",
   "id": "ce378ae2-ae97-4f1a-a9b1-7522ed7c947b",
   "metadata": {},
   "source": [
    "EXPLAIN PLAN nach dem Index"
   ]
  },
  {
   "cell_type": "code",
   "execution_count": 67,
   "id": "c5124a4d",
   "metadata": {},
   "outputs": [
    {
     "name": "stdout",
     "output_type": "stream",
     "text": [
      "=== EXPLAIN PLAN (AFTER INDEX) ===\n",
      "Plan hash value: 2881942826\n",
      " \n",
      "----------------------------------------------------------------------------\n",
      "| Id  | Operation         | Name   | Rows  | Bytes | Cost (%CPU)| Time     |\n",
      "----------------------------------------------------------------------------\n",
      "|   0 | SELECT STATEMENT  |        | 10000 |   625K|   102   (0)| 00:00:01 |\n",
      "|*  1 |  TABLE ACCESS FULL| KUNDEN | 10000 |   625K|   102   (0)| 00:00:01 |\n",
      "----------------------------------------------------------------------------\n",
      " \n",
      "Predicate Information (identified by operation id):\n",
      "---------------------------------------------------\n",
      " \n",
      "   1 - filter(\"STADT\"='Wien')\n"
     ]
    }
   ],
   "source": [
    "explain_after_sql = \"\"\"\n",
    "EXPLAIN PLAN FOR\n",
    "SELECT * \n",
    "FROM kunden\n",
    "WHERE stadt = 'Wien'\n",
    "\"\"\"\n",
    "cursor.execute(explain_after_sql)\n",
    "\n",
    "cursor.execute(\"SELECT PLAN_TABLE_OUTPUT FROM TABLE(DBMS_XPLAN.DISPLAY())\")\n",
    "plan_output = cursor.fetchall()\n",
    "\n",
    "print(\"=== EXPLAIN PLAN (AFTER INDEX) ===\")\n",
    "for line in plan_output:\n",
    "    print(line[0])\n"
   ]
  },
  {
   "cell_type": "markdown",
   "id": "e1471f3e",
   "metadata": {},
   "source": [
    "## 8) Aufräumen"
   ]
  },
  {
   "cell_type": "code",
   "execution_count": 69,
   "id": "bde4f135",
   "metadata": {},
   "outputs": [
    {
     "name": "stdout",
     "output_type": "stream",
     "text": [
      "Closed Oracle connection. Done!\n"
     ]
    }
   ],
   "source": [
    "cursor.close()\n",
    "connection.close()\n",
    "print(\"Closed Oracle connection. Done!\")"
   ]
  },
  {
   "cell_type": "code",
   "execution_count": null,
   "id": "45b9d1df-006f-4c71-960f-ac8e0330ddd7",
   "metadata": {},
   "outputs": [],
   "source": []
  }
 ],
 "metadata": {
  "kernelspec": {
   "display_name": "Python [conda env:base] *",
   "language": "python",
   "name": "conda-base-py"
  },
  "language_info": {
   "codemirror_mode": {
    "name": "ipython",
    "version": 3
   },
   "file_extension": ".py",
   "mimetype": "text/x-python",
   "name": "python",
   "nbconvert_exporter": "python",
   "pygments_lexer": "ipython3",
   "version": "3.12.7"
  }
 },
 "nbformat": 4,
 "nbformat_minor": 5
}
