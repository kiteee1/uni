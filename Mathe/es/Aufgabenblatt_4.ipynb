{
 "cells": [
  {
   "cell_type": "markdown",
   "metadata": {},
   "source": [
    "# Aufgabenblatt 4"
   ]
  },
  {
   "cell_type": "markdown",
   "metadata": {},
   "source": [
    "## Bedingte Wahrscheinlichkeiten und Unabhängigkeit"
   ]
  },
  {
   "cell_type": "markdown",
   "metadata": {},
   "source": [
    "### Aufgabe 1\n",
    "*(nur manuell)*"
   ]
  },
  {
   "cell_type": "markdown",
   "metadata": {},
   "source": [
    "Eine Münze mit den Seiten \"Wappen\" und \"Zahl\" werde dreimal geworfen. Man untersuche, ob unter der Laplace-Annahme die Ereignisse A, B, C\n",
    "\n",
    "a) paarweise unabhängig  \n",
    "b) vollständig unabhängig\n",
    "\n",
    "sind. Dabei seien\n",
    "\n",
    "A das Ereignis \"gleiche Seiten bei den beiden letzten Würfen\"  \n",
    "B das Ereignis \"gleiche Seiten beim 1. und 3. Wurf\" und  \n",
    "C das Ereignis \"gleiche Seiten bei den beiden ersten Würfen\"\n"
   ]
  },
  {
   "cell_type": "markdown",
   "metadata": {},
   "source": [
    "Es gibt insgesamt $2^3=8$ gleichwahrscheinliche Ergebnisse:\n",
    "\n",
    "HHH\n",
    "\n",
    "HHT\n",
    "\n",
    "HTH\n",
    "\n",
    "HTT\n",
    "\n",
    "THH\n",
    "\n",
    "THT\n",
    "\n",
    "TTH\n",
    "\n",
    "TTT\n"
   ]
  },
  {
   "cell_type": "markdown",
   "metadata": {},
   "source": [
    "$A =$ {$HHH, HTT, THH, TTT$}\n",
    "\n",
    "$B =$ {$HHH, HTH, THT, TTT$}\n",
    "\n",
    "$C =$ {$HHH, HHT, TTH, TTT$}\n"
   ]
  },
  {
   "cell_type": "markdown",
   "metadata": {},
   "source": [
    "b) Vollständig unabhängig: $P(A \\cap B \\cap C) = P(A)*P(B)*P(C)$\n",
    "\n",
    "$P(A \\cap B \\cap C) = P(HHH,TTT)=\\frac{2}{8}$\n",
    "\n",
    "$P(A) = \\frac{4}{8}$\n",
    "\n",
    "$P(B) = \\frac{4}{8}$\n",
    "\n",
    "$P(C) = \\frac{4}{8}$\n",
    "\n",
    "$P(A)*P(B)*P(C) = \\frac{1}{8}$\n",
    "\n",
    "$P(A \\cap B \\cap C) \\neq P(A)*P(B)*P(C)$\n"
   ]
  },
  {
   "cell_type": "markdown",
   "metadata": {},
   "source": [
    "a) Paarweise unabhängig: für jedes Paar von Ereignissen gilt: $P(X \\cap Y) = P(X)*P(Y)$\n"
   ]
  },
  {
   "cell_type": "markdown",
   "metadata": {},
   "source": [
    "$P(A) = \\frac{4}{8}$\n",
    "\n",
    "$P(B) = \\frac{4}{8}$\n",
    "\n",
    "$P(C) = \\frac{4}{8}$\n",
    "\n",
    "$P(A)*P(B) = \\frac{2}{8}$\n",
    "\n",
    "$P(A)*P(C) = \\frac{2}{8}$\n",
    "\n",
    "$P(C)*P(B) = \\frac{2}{8}$\n",
    "\n",
    "$P(A \\cap B) = P(HHH,TTT)=\\frac{2}{8}$\n",
    "\n"
   ]
  },
  {
   "cell_type": "markdown",
   "metadata": {},
   "source": [
    "### Aufgabe 2"
   ]
  },
  {
   "cell_type": "markdown",
   "metadata": {},
   "source": [
    "Eine Warenlieferung enthalte 5\\% Ausschuss.\n",
    "\n",
    "a) Wie groß ist die Wahrscheinlichkeit dafür, dass sich unter 10 zufällig mit Zurücklegen herausgegriffenen Stücken mindestens ein schlechtes befindet?  \n",
    "b) Der Warenumfang der Warenlieferung sei $n$. Wie groß ist im Falle $n$=20, $n$=100 bzw. $n$=1000 die Wahrscheinlichkeit dafür, dass sich unter 10 zufällig ohne Zurücklegen herausgegriffenen Stücken mindestens ein schlechtes befindet?\n",
    "\n",
    "Man berechne diese Wahrscheinlichkeiten unter geeigneten Annahmen und vergleiche die in Abhängigkeit von $n$ berechneten Werte beim Ziehen ohne Zurücklegen (Teil b)) mit dem Ergebnis beim Herausgreifen mit Zurücklegen (Teil a)).\n"
   ]
  },
  {
   "cell_type": "markdown",
   "metadata": {},
   "source": [
    "a) $1-0,05 = 0,95$ - Wahrscheinlichkeit, dass es keine Ausschuss vorkommt\n",
    "\n",
    "$0,95^{10} \\approx 0,5987$ - Wahrscheinlichkeit, 10 Stuecken sind ohne Ausschuss\n",
    "\n",
    "$1-0,5987 = 0,4013$ - Wahrscheinlichkeit, dass in 10 ausgewaehlten Stucken mind. ein Ausschuss sich befindet.\n",
    "\n",
    "\n"
   ]
  },
  {
   "cell_type": "markdown",
   "metadata": {},
   "source": [
    "b) Anzahl von Ausschuss im $n=20$ Stueckchen: $20*0,05 = 1$\n"
   ]
  },
  {
   "cell_type": "markdown",
   "metadata": {},
   "source": [
    "Die Wahrscheinlichkeit, dass alle 10 gezogenen Teile fehlerfrei sind, ist: $\\frac{C^{10}_{19}}{C^{10}_{20}}=\\frac{\\frac{19!}{10!9!}}{\\frac{20!}{10!10!}}=\\frac{10}{20}=0,5$\n",
    "\n",
    "\n",
    "\n"
   ]
  },
  {
   "cell_type": "markdown",
   "metadata": {},
   "source": [
    "Anzahl von Ausschuss im $n=20$ Stueckchen: $100*0,05 = 5$\n",
    "\n"
   ]
  },
  {
   "cell_type": "markdown",
   "metadata": {},
   "source": [
    "Die Wahrscheinlichkeit, dass alle 10 gezogenen Teile fehlerfrei sind, ist: $\\frac{C^{10}_{19}}{C^{10}_{20}}=\\frac{\\frac{19!}{10!9!}}{\\frac{20!}{10!10!}}=\\frac{10}{20}=0,5$\n",
    "\n",
    "\n"
   ]
  },
  {
   "cell_type": "markdown",
   "metadata": {},
   "source": [
    "Also ist die Wahrscheinlichkeit, dass mindestens ein fehlerhaftes Teil dabei ist: $1-0,5=0,5$\n"
   ]
  },
  {
   "cell_type": "markdown",
   "metadata": {},
   "source": [
    "b) Anzahl von Ausschuss im $n=20$ Stueckchen: $20*0,05 = 1$\n"
   ]
  },
  {
   "cell_type": "markdown",
   "metadata": {},
   "source": [
    "Die Wahrscheinlichkeit, dass alle 10 gezogenen Teile fehlerfrei sind, ist: $\\frac{C^{10}_{95}}{C^{10}_{100}}=\\frac{\\frac{95!}{10!85!}}{\\frac{100!}{10!90!}}=\\frac{5273912160}{9034502400} \\approx 0,58375$\n",
    "\n",
    "\n",
    "\n"
   ]
  },
  {
   "cell_type": "markdown",
   "metadata": {},
   "source": [
    "Also ist die Wahrscheinlichkeit, dass mindestens ein fehlerhaftes Teil dabei ist: $1-0,58375=0,41625$\n",
    "\n"
   ]
  },
  {
   "cell_type": "markdown",
   "metadata": {},
   "source": [
    "b) Anzahl von Ausschuss im $n=20$ Stueckchen: $20*0,05 = 1$\n"
   ]
  },
  {
   "cell_type": "markdown",
   "metadata": {},
   "source": [
    "Die Wahrscheinlichkeit, dass alle 10 gezogenen Teile fehlerfrei sind, ist: $\\frac{C^{10}_{950!}}{C^{10}_{1000}}=\\frac{\\frac{950!}{10!940!}}{\\frac{1000!}{10!990!}}=\\frac{950*949*947*946*945*944*943*942*941}{1000*999*998*997*996*995*994*993*992*991} \\approx 0,5973$\n",
    "\n",
    "\n",
    "\n",
    "\n"
   ]
  },
  {
   "cell_type": "markdown",
   "metadata": {},
   "source": [
    "Also ist die Wahrscheinlichkeit, dass mindestens ein fehlerhaftes Teil dabei ist: $1-0,58375=0,4027$\n",
    "\n",
    "\n"
   ]
  },
  {
   "cell_type": "markdown",
   "metadata": {},
   "source": [
    "### Aufgabe 3\n"
   ]
  },
  {
   "cell_type": "markdown",
   "metadata": {},
   "source": [
    "Nach dem Picknick vermisst die Familie ihren Hund. Es gibt drei Möglichkeiten:\n",
    "\n",
    "A: Er ist heim gelaufen und erwartet die Familie vor der Haustür.  \n",
    "B: Er bearbeitet noch einen großen Knochen auf dem Picknick-Platz.  \n",
    "C: Er streunt im Wald.\n",
    "\n",
    "Aufgrund der Gewohnheiten des Hundes kennt man die Wahrscheinlichkeiten für das Eintreten der Ereignisse $A$, $B$ und $C$:\n",
    "\n",
    "$$P(A)=\\frac{1}{4},P(B)=\\frac{1}{2},P(C)=\\frac{1}{4}$$\n",
    "\n",
    "Je ein Kind wird zurück zum Picknick-Platz und an den Waldrand geschickt. Wenn der Hund an der ersten Stelle ist, findet man ihn mit 90\\%-iger Wahrscheinlichkeit, streunt er aber im Wald, so beträgt die Wahrscheinlichkeit nur noch 50\\%.\n",
    "\n",
    "a) Mit welcher Wahrscheinlichkeit wird eines der Kinder den Hund finden?  \n",
    "b) Wie groß ist die (bedingte) Wahrscheinlichkeit dafür, ihn bei der Rückkehr vor der Haustür anzutreffen, falls die Kinder den Hund nicht finden.\n"
   ]
  },
  {
   "cell_type": "markdown",
   "metadata": {},
   "source": [
    "a)$P(B)*P(B|find)+P(C)*P(C|find)0,5*0,9+0,25*0,5=0,575$\n"
   ]
  },
  {
   "cell_type": "markdown",
   "metadata": {},
   "source": [
    "b) Satz von Bayes: $P(A|B) = \\frac{P(B|A)P(A)}{P(B)}$\n",
    "\n",
    "$P(A|not find) = \\frac{P(not find|A)P(A)}{P(not find)}$\n",
    "\n",
    "Wenn der Hund zu Hause ist (A), ist die Wahrscheinlichkeit, dass die Kinder ihn nicht finden: $P(not find|A) = 1$\n",
    "\n",
    "$P(not find) = 1-P(find) = 1-0,575 = 0,425$\n",
    "\n",
    "$P(A|not find) = \\frac{1*0,25}{0,425} \\approx 0,5882 $\n"
   ]
  },
  {
   "cell_type": "code",
   "execution_count": null,
   "metadata": {},
   "outputs": [],
   "source": []
  },
  {
   "cell_type": "markdown",
   "metadata": {},
   "source": [
    "### Aufgabe 4"
   ]
  },
  {
   "cell_type": "markdown",
   "metadata": {},
   "source": [
    "Ergibt sich bei einer Tbc-Röntgenuntersuchung ein positiver Befund, so stellt sich für den Betroffenen die Frage nach der Chance, trotzdem gesund zu sein. Man benutze den Begriff der bedingten Wahrscheinlichkeit, um unter folgenden drei Modellannahmen eine Antwort zu geben:\n",
    "\n",
    "(i) 0.1\\% der Bevölkerung haben Tbc.  \n",
    "(ii) Bei Tbc-Trägern liefert die Untersuchung in 94\\% aller Fälle einen positiven Befund, d.h. ein richtiges Ergebnis.  \n",
    "(iii) Bei gesunden Personen liefert die Untersuchung in 1\\% aller Fälle einen positiven Befund, d.h. ein falsches Ergebnis (falsch-positiv).\n"
   ]
  },
  {
   "cell_type": "markdown",
   "metadata": {},
   "source": [
    "G - gesund\n",
    "\n",
    "T - Tbc\n",
    "\n",
    "$+$ - positiv Test\n",
    "\n"
   ]
  },
  {
   "cell_type": "markdown",
   "metadata": {},
   "source": [
    "P(G|+) - ?\n",
    "\n",
    "Satz von Bayes: $P(H|+)=\\frac{P(+|G)P(G)}{P(+)}$\n",
    "\n",
    "$P(+|G)=0.01$\n",
    "\n",
    "$P(T)=0.001$\n",
    "\n",
    "$P(G) = 1-0,001 = 0.999$\n",
    "\n",
    "$P(+|T) = 0.94$\n",
    "\n",
    "$P(+)$ - ?\n",
    "\n",
    "Gesetz der totalen Wahrscheinlichkeit: $P(A)=\\sum\\limits_{j \\in J} P(A|B_j)P(B_j)$\n",
    "\n",
    "In unserem fall: $P(+) = P(+|T)P(T) + P(+|G)P(G) = 0.94*0.001+ 0.01*0.999 = 0,01093$\n",
    "\n",
    "$P(H|+)=\\frac{0.01*0.999}{0,01093}=0,913998$\n",
    "\n",
    "Selbst bei einem positiven Tuberkulosetest liegt die Wahrscheinlichkeit, dass eine Person unter den gegebenen Annahmen noch gesund ist, bei etwa 91,4 %.\n",
    "\n"
   ]
  },
  {
   "cell_type": "markdown",
   "metadata": {},
   "source": [
    "### Aufgabe 5"
   ]
  },
  {
   "cell_type": "markdown",
   "metadata": {},
   "source": [
    "Eine Nachrichtenquelle sendet die Signale $a_1,a_2,a_3$ mit den positiven Wahrscheinlichkeiten $p_1,p_2,p_3$. Nach Übertragung durch einen gestörten Kanal wird vom Empfänger eines der Signale $b_1,b_2,b_3$ empfangen. Für $i,j=1,2,3$ sei $p_{ij}$ die (bedingte) Wahrscheinlichkeit dafür, dass $b_j$ empfangen wird, falls $a_i$ gesendet wird. Sei $(p_1,p_2,p_3)=(0.6,0.3,0.1)$ und\n",
    "\n",
    "$$(p_{ij})_{i,j=1,2,3}=\\left(\n",
    "    \\begin{array}{ccc}\n",
    "      0.9 & 0.1 & 0.0 \\\\\n",
    "      0.2 & 0.5 & 0.3 \\\\\n",
    "      0.0 & 0.4 & 0.6 \\\\\n",
    "    \\end{array}\n",
    "  \\right)$$"
   ]
  },
  {
   "cell_type": "markdown",
   "metadata": {},
   "source": [
    "a) Für $j=1,2,3$ berechne man die Wahrscheinlichkeit $q_j$ dafür, dass bei einer Übertragung das Signal $b_j$ empfangen wird.  \n",
    "b) Für $j,k=1,2,3$ berechne man die Wahrscheinlichkeit $r_{jk}$ dafür, dass das Signal $a_k$ gesendet wird, wenn $b_j$ empfangen wird."
   ]
  },
  {
   "cell_type": "markdown",
   "metadata": {},
   "source": [
    "a)\n",
    "\n",
    "Gesetz der totalen Wahrscheinlichkeit:\n",
    "\n",
    "$q_j=\\sum\\limits_{i=1}^3 P(a_i)P(b_j|a_i)=\\sum\\limits_{i=1}^3 p_ip_{ij}$\n",
    "\n",
    "$q_1=P(b_1)=P(a_1)P(b_1|a_1)+P(a_2)P(b_1|a_2)+P(a_3)P(b_1|a_3)$\n",
    "\n",
    "$q_1 = 0.6*0.9+0.3*0.2+0.1*0.0=0.6$\n",
    "\n"
   ]
  },
  {
   "cell_type": "markdown",
   "metadata": {},
   "source": [
    "$q_2=P(b_2)=P(a_1)P(b_2|a_1)+P(a_2)P(b_2|a_2)+P(a_3)P(b_2|a_3)$\n",
    "\n",
    "$q_2 = 0.6*0.1+0.3*0.5+0.1*0.4=0.25$\n",
    "\n",
    "\n"
   ]
  },
  {
   "cell_type": "markdown",
   "metadata": {},
   "source": [
    "$q_3=P(b_3)=P(a_1)P(b_3|a_1)+P(a_2)P(b_3|a_2)+P(a_3)P(b_3|a_3)$\n",
    "\n",
    "$q_3= 0.6*0.0+0.3*0.3+0.1*0.6=0.15$\n",
    "\n",
    "\n"
   ]
  },
  {
   "cell_type": "markdown",
   "metadata": {},
   "source": [
    "Ueberpruefen wir: $0.15+0.25+0.6=1$ - stimmt!\n"
   ]
  },
  {
   "cell_type": "markdown",
   "metadata": {},
   "source": [
    "b)\n",
    "Satz von Bayes: $r_{jl}=P(a_k|b_j)=\\frac{P(a_k)P(b_j|a_k)}{P(b_j)}$\n",
    "\n",
    "$r_{11}=\\frac{P(a_1)P(b_1|a_1)}{P(b_1)}=\\frac{0.6*0.9}{0.6} = 0.9$\n",
    "\n",
    "$r_{12}=\\frac{P(a_2)P(b_1|a_2)}{P(b_1)}=\\frac{0.3*0.2}{0.6} = 0.1$\n",
    "\n",
    "$r_{13}=\\frac{P(a_3)P(b_1|a_3)}{P(b_1)}=\\frac{0.1*0.0}{0.6} = 0.0$\n",
    "\n",
    "$r_{21}=\\frac{P(a_1)P(b_2|a_1)}{P(b_2)}=\\frac{0.6*0.1}{0.25} = 0.24$\n",
    "\n",
    "$r_{22}=\\frac{P(a_2)P(b_2|a_2)}{P(b_2)}=\\frac{0.3*0.5}{0.25} = 0.6$\n",
    "\n",
    "$r_{23}=\\frac{P(a_3)P(b_2|a_3)}{P(b_2)}=\\frac{0.1*0.4}{0.25} = 0.16$\n",
    "\n",
    "$r_{31}=\\frac{P(a_1)P(b_3|a_1)}{P(b_3)}=\\frac{0.6*0.0}{0.15} = 0.0$\n",
    "\n",
    "$r_{32}=\\frac{P(a_2)P(b_3|a_2)}{P(b_3)}=\\frac{0.3*0.3}{0.15} = 0.6$\n",
    "\n",
    "$r_{33}=\\frac{P(a_3)P(b_3|a_3)}{P(b_3)}=\\frac{0.1*0.6}{0.15} = 0.4$\n"
   ]
  },
  {
   "cell_type": "markdown",
   "metadata": {},
   "source": [
    "### Aufgabe 6"
   ]
  },
  {
   "cell_type": "markdown",
   "metadata": {},
   "source": [
    "Bei einem 5-Kanal-Lochstreifen werden genau zwei der fünf Positionen jeder Spalte mit einer \"1\" (Loch) und die restlichen drei Positionen mit einer \"0\" (kein Loch) versehen. Bei dieser Vorgehensweise kann in jeder Spalte des Lochstreifens genau eine der 10 Dezimalziffern in codierter Form abgelegt werden.\n",
    "\n",
    "Von einem solchen 5-Kanal-Lochstreifen werden mit einem optischen Leser Ziffern gelesen. Werden in einer Spalte aufgrund von Lesefehlern in den einzelnen Positionen mehr oder weniger als 2 Einsen gelesen, so wird die fehlerhafte Eingabe der Ziffer bemerkt. Wird trotz falschem Lesen genau zweimal eine \"1\" registriert, bleibt die fehlerhafte Eingabe unbemerkt. Unter den Voraussetzungen, dass für das Auftreten von Lesefehlern die Unabhängigkeitsannahme gerechtfertigt ist und dass mit Wahrscheinlichkeit $p_1$ eine Null statt einer Eins und mit Wahrscheinlichkeit $p_2$ eine Eins statt einer Null gelesen wird, berechne man folgende Wahrscheinlichkeiten.\n",
    "\n",
    "a) Die Wahrscheinlichkeit dafür, dass beim Lesen einer Ziffer mindestens ein Fehler auftritt.  \n",
    "b) Die Wahrscheinlichkeit dafür, dass unbemerkt eine falsche Ziffer gelesen wird.  \n",
    "c) Die Wahrscheinlichkeit dafür, dass beim Lesen von 10000 Ziffern mit $p_1=10^{-4}$ und $p_2=10^{-5}$ mindestens ein Lesefehler auftritt bzw. mindestens einmal unbemerkt eine falsche Ziffer gelesen wird."
   ]
  },
  {
   "cell_type": "markdown",
   "metadata": {},
   "source": [
    "a)\n",
    "\n",
    "$p_1$ - Wahrscheinlihkeit 0 als 1 zu lesen\n",
    "\n",
    "$p_2$ - Wahrscheinlihkeit 1 als 0 zu lesen\n",
    "\n",
    "dann:\n",
    "\n",
    "$p_1^* = 1 - p_1$ - Wahrscheinlichkeit, dass 0 richtig gelesen ist\n",
    "\n",
    "$p_2^* = 1 - p_2$ - Wahrscheinlichkeit, dass 1 richtig gelesen ist\n",
    "\n",
    "dann:\n",
    "\n",
    "$P = (1-p_1)^3*(1-p_2)^2$ - Wahrscheinlichkeit, dass alle Bits richtig gelesen werden\n",
    "\n",
    "dann:\n",
    "\n",
    "$P^* = 1 - (1-p_1)^3*(1-p_2)^2$ - Wahrscheinlichkeit, dass mind. ein Fehler auftritt\n",
    "\n",
    "\n"
   ]
  },
  {
   "cell_type": "markdown",
   "metadata": {},
   "source": [
    "b)\n",
    "\n",
    "So weit ich verstanden habe, \"unbemerkt\" bedeuted, dass die Anzahl von 1s ist 2 und bzw dir Anzahl von 0s ist 3.\n",
    "\n",
    "\n",
    "Fall 1 (Ein 1 wurd als 0 gelesen und ein 0 wurde als 1 gelesen):\n",
    "$P_1 = (1-p_1)^2*(1-p_2)*p_1*p_2$\n",
    "\n",
    "und natuerlich gibt es zwei 1s (Combinationen), die falsch gelesen werden koennen, bzw drei 0s:\n",
    "\n",
    "$P_1 = (1-p_1)^2*(1-p_2)*p_1*p_2*3*2=(1-p_1)^2*(1-p_2)*p_1*p_2*6$\n",
    "\n",
    "Fall 2 (Zwei 1 wurd als 0 gelesen und zwei 0 wurde als 1 gelesen):\n",
    "$P_2 = (1-p_1)*p_1^2*p_2^2$\n",
    "\n",
    "und natuerlich gibt es nur ein Weg zwei 1s aus zwei falsch zu lesen, abe wir waehlen 2 aus drei Combinationen fuer 0:\n",
    "\n",
    "$P_2 = (1-p_1)*p_1^2*p_2^2*C(3,2)=(1-p_1)*p_1^2*p_2^2*3$\n",
    "\n",
    "Und schlieszlich gesamte Antwort:\n",
    "\n",
    "$P = P_1+P_2 = (1-p_1)^2*(1-p_2)*p_1*p_2*6 + (1-p_1)*p_1^2*p_2^2*3$\n"
   ]
  },
  {
   "cell_type": "markdown",
   "metadata": {},
   "source": [
    "c)"
   ]
  },
  {
   "cell_type": "code",
   "execution_count": 1,
   "metadata": {},
   "outputs": [
    {
     "name": "stdout",
     "output_type": "stream",
     "text": [
      "Probability of at least one error: 0.9592439510575863\n",
      "Probability of at least one unnoticed error: 5.9985601574163994e-05\n"
     ]
    }
   ],
   "source": [
    "import math\n",
    "\n",
    "p1 = 1e-4\n",
    "p2 = 1e-5\n",
    "N = 10000\n",
    "\n",
    "P_no_error_per_digit = (1 - p1)**3 * (1 - p2)**2\n",
    "\n",
    "P_error_per_digit = 1 - P_no_error_per_digit\n",
    "\n",
    "P_at_least_one_error = 1 - (1 - P_error_per_digit)**N\n",
    "\n",
    "print(\"Probability of at least one error:\", P_at_least_one_error)\n",
    "\n",
    "\n",
    "\n",
    "\n",
    "\n",
    "P_unnoticed_error_per_digit = ((1-p1)**2 * (1-p2)*p1*p2*6)+((1-p1)*p1*p1*p2*p2*3)\n",
    "\n",
    "P_at_least_one_unnoticed_error = 1 - (1 - P_unnoticed_error_per_digit)**N\n",
    "\n",
    "print(\"Probability of at least one unnoticed error:\", P_at_least_one_unnoticed_error)\n",
    "\n",
    "\n",
    "\n"
   ]
  },
  {
   "cell_type": "markdown",
   "metadata": {},
   "source": [
    "### Aufgabe 7\n",
    "*(nur manuell)*\n"
   ]
  },
  {
   "cell_type": "markdown",
   "metadata": {},
   "source": [
    "Ein Gerät bestehe aus den Bauteilen $T_1$ und $T_2$, die in Reihe angeordnet sind. Die Wahrscheinlichkeiten dafür, dass das Bauteil $T_1$ bzw. $T_2$ während einer bestimmten Zeitdauer intakt bleibt, sei $p_1$ bzw. $p_2$. Die Zuverlässigkeit des Systems soll durch das Hinzuschalten gleichartiger Bauteile $T_1'$ bzw. $T_2'$ erhöht werden. Dafür kommen 2 Methoden in Frage, die miteinander verglichen werden sollen:\n",
    "\n",
    "I: Zu dem System wird ein identisches System als Reserve parallelgeschaltet  \n",
    "II: Zu jedem Bauteil wird ein identisches Bauteil als Reserve parallelgeschaltet\n",
    "\n",
    "Man vergleiche die beiden Methoden, indem man unter geeigneten Annahmen die Wahrscheinlichkeit $P_I$ bzw. $P_{II}$ dafür berechnet, dass das nach der Methode I bzw. Methode II veränderte Gerät während der festgelegten Zeitdauer intakt bleibt."
   ]
  },
  {
   "cell_type": "markdown",
   "metadata": {},
   "source": [
    "I. Wir haben zwei identische Systeme, die parallel geschaltet sind. Jedes System besteht aus den Komponenten $T1$ und $T2$ in Reihe. Das System funktioniert, wenn mindestens eines der beiden Systeme funktioniert.\n",
    "\n",
    "$P_S=p_1p_2$ - Wahrscheinlichkeit, dass System funktioniert\n",
    "\n",
    "$P_F=(1-P_S)^2$ - Wahrscheinlichkeit, dass beide Systeme ausfallen\n",
    "\n",
    "$P_I=1-((1-P_S)^2)= 1 - (1 - p_1p_2)^2$ - Wahrscheinlichkeit, dass mindestens ein System funktioniert"
   ]
  },
  {
   "cell_type": "markdown",
   "metadata": {},
   "source": [
    "Jede Komponente $T_1$ und $T_2$ hat eine identische Komponente, die parallel angeschlossen ist, wodurch die Module $T_1$ & $T_1'$ und $T_2$ & $T_2'$ entstehen. Das Gesamtsystem funktioniert, wenn beide Module funktionieren, da sie in Reihe geschaltet sind.\n",
    "\n",
    "$P_{T_1} = 1 - (1-p_1)^2$ - Wahrscheinlichkeit, dass das $T_1$ - Modul funktioniert\n",
    "\n",
    "$P_{T_2} = 1 - (1-p_2)^2$ - Wahrscheinlichkeit, dass das $T_2$ - Modul funktioniert\n",
    "\n",
    "$P_{II} = (1 - (1-p_1)^2)(1 - (1-p_2)^2)$ - Wahrscheinlichkeit, dass das Gesamtsystem funktioniert"
   ]
  },
  {
   "cell_type": "markdown",
   "metadata": {},
   "source": [
    "Wie man diese Funktionen vergleicht, lasst uns den Unterschied $D=P_{II}-P_I$  finden \n",
    "\n",
    "$D=P_{II}-P_I = 1 - (1-p_1)^2)(1 - (1-p_2)^2) - 1 - (1 - p_1p_2)^2 = (4p_1p_2-2p_1p_2^2-2p_1^2p_2+p_1^2p_2^2)-(2p_1p_2-p_1^2p_2^2)=2p_1p_2(1-p_1)(1-p_2)$\n",
    "\n",
    "Denn $p_1,p_2 \\ge 0$ ist $D$ immer positiv, also $P_{II}$ hat groeszere Wahrscheinlichkeit als P_1, auszer spezial Fällen: $p_1 = 0$ oder $p_1 = 1$ oder $p_2 = 0$ oder $p_2 = 1$ "
   ]
  },
  {
   "cell_type": "markdown",
   "metadata": {},
   "source": [
    "### Aufgabe 8"
   ]
  },
  {
   "cell_type": "markdown",
   "metadata": {},
   "source": [
    "Die Wahrscheinlichkeit dafür, dass eine zufällig ausgewählte Familie genau $k$ Kinder hat, sei $p_k=\\frac{1}{3}\\left(\\frac{2}{3}\\right)^k,k\\geq0$. Die Wahrscheinlichkeit dafür, dass es sich bei einem zufällig herausgegriffenen Kind um einen Jungen handelt, sei $\\frac{13}{25}$. Für die Geschlechtszugehörigkeit verschiedener Kinder innerhalb einer Familie wird die Unabhängigkeitsannahme gemacht.\n",
    "\n",
    "a) Wie wahrscheinlich ist es, dass unter den Kindern einer zufällig ausgewählten Familie genau zwei Jungen sind?  \n",
    "b) Wie groß ist die (bedingte) Wahrscheinlichkeit dafür, dass die beiden Jungen genau eine Schwester haben, falls es sich um eine in a) beschriebene Familie handelt?\n",
    "\n",
    "*Hinweis:* $\\sum_{k=2}^{\\infty} k(k-1)p^{k-2}=\\frac{2}{(1-p)^3}$ für $0<p<1$.\n"
   ]
  },
  {
   "cell_type": "markdown",
   "metadata": {},
   "source": [
    "a)\n",
    "\n",
    "Wir müssen die Wahrscheinlichkeit ermitteln, dass eine Familie genau zwei Jungen hat. Da die Anzahl der Kinder zufällig ist, summieren wir über alle möglichen Familiengrößen $k\\ge2$:\n",
    "\n",
    "$\\sum\\limits_{k=2}^\\infty p_k*P$ ($P=genau 2 Jungen$)\n",
    "\n",
    "$P_1=\\begin{pmatrix}k\\\\2\\end{pmatrix} * (\\frac{13}{25})^2*(\\frac{13}{25})^{k-2}$\n",
    "\n",
    "$\\sum\\limits_{k=2}^\\infty (\\frac{1}{3}\\left(\\frac{2}{3}\\right)^k)*\\begin{pmatrix}k\\\\2\\end{pmatrix} * (\\frac{13}{25})^2*(\\frac{13}{25})^{k-2} = \n",
    "\\sum\\limits_{k=2}^\\infty (\\frac{1}{3}*\\frac{169}{625}*\\frac{625}{144})*(\\frac{k(k-1)}{2})*((\\frac{2}{3})^k*(\\frac{12}{25})^{k-2}*(\\frac{12}{25})^{-2})=\n",
    "\\frac{169}{864}\\sum\\limits_{k=2}^\\infty k*(k-1)(\\frac{8}{25})^k=\\frac{169}{864}\\sum\\limits_{k=2}^\\infty k*(k-1)(\\frac{8}{25})^2(\\frac{8}{25})^{k-2}=\n",
    "(\\frac{169}{864})(\\frac{8}{25})^2\\sum\\limits_{k=2}^\\infty k*(k-1)(\\frac{8}{25})^2(\\frac{8}{25})^{k-2}=\n",
    "(\\frac{169}{864})(\\frac{8}{25})^2(\\frac{2}{(1-\\frac{8}{25})^3})=\\frac{16900}{132651} \\approx 0.127402\n",
    "$"
   ]
  },
  {
   "cell_type": "markdown",
   "metadata": {},
   "source": [
    "b)\n",
    "$P_2 = \\frac{1}{3}(\\frac{2}{3})^3*\\begin{pmatrix}3\\\\2\\end{pmatrix}(\\frac{13}{25})^2(\\frac{12}{25})=\n",
    "\\frac{8}{81}*3*\\frac{8}{81}*\\frac{169}{625}*(\\frac{12}{25})=\\frac{5408}{140625}\n",
    "$\n",
    "\n",
    "$Antwort = \\frac{\\frac{5408}{140625}}{\\frac{16900}{132651}}=\\frac{117912}{390625} \\approx 0.301855$"
   ]
  },
  {
   "cell_type": "code",
   "execution_count": null,
   "metadata": {},
   "outputs": [],
   "source": []
  }
 ],
 "metadata": {
  "kernelspec": {
   "display_name": "Python 3 (ipykernel)",
   "language": "python",
   "name": "python3"
  },
  "language_info": {
   "codemirror_mode": {
    "name": "ipython",
    "version": 3
   },
   "file_extension": ".py",
   "mimetype": "text/x-python",
   "name": "python",
   "nbconvert_exporter": "python",
   "pygments_lexer": "ipython3",
   "version": "3.10.10"
  }
 },
 "nbformat": 4,
 "nbformat_minor": 4
}
