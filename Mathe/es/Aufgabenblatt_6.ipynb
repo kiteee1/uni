{
 "cells": [
  {
   "cell_type": "markdown",
   "metadata": {},
   "source": [
    "# Aufgabenblatt 6"
   ]
  },
  {
   "cell_type": "markdown",
   "metadata": {},
   "source": [
    "## Erwartungswert und Varianz"
   ]
  },
  {
   "cell_type": "markdown",
   "metadata": {},
   "source": [
    "### Aufgabe 1"
   ]
  },
  {
   "cell_type": "markdown",
   "metadata": {},
   "source": [
    "Bei einer Jahrmarktslotterie kann man auf eine der Zahlen $1,2,\\ldots,6$ setzen. Falls beim Wurf dreier Würfel die gewählte Zahl genau $k$-mal erscheint ($k=1,2,3)$, so darf man seinen Einsatz behalten und erhält zusätzlich das $k$-fache seines Einsatzes. Erscheint die gewählte Zahl nicht, so ist der Einsatz verloren. Man berechne Erwartungswert und Varianz des Gewinns."
   ]
  },
  {
   "cell_type": "markdown",
   "metadata": {},
   "source": [
    "1. Mögliche Ergebnisse und Wahrscheinlichkeiten definieren"
   ]
  },
  {
   "cell_type": "markdown",
   "metadata": {},
   "source": [
    "Nettogewinn $X=−1$: Die gewählte Zahl erscheint auf keinem Würfel.\n",
    "\n",
    "Nettogewinn $X=+1$: Die gewählte Zahl erscheint genau einmal.\n",
    "\n",
    "Nettogewinn $X=+2$: Die gewählte Zahl erscheint genau zweimal.\n",
    "\n",
    "Nettogewinn $X=+3$: Die gewählte Zahl erscheint auf allen drei Würfeln.\n"
   ]
  },
  {
   "cell_type": "markdown",
   "metadata": {},
   "source": [
    "2. Wahrscheinlichkeiten berechnen"
   ]
  },
  {
   "cell_type": "markdown",
   "metadata": {},
   "source": [
    "Die Wahrscheinlichkeiten für jeden Nettogewinn werden mit der Binomialverteilung berechnet:"
   ]
  },
  {
   "cell_type": "markdown",
   "metadata": {},
   "source": [
    "$$P(Y = k) = \\begin{pmatrix}3\\\\k\\end{pmatrix} (\\frac{1}{6})^k(\\frac{5}{6})^{3-k}$$"
   ]
  },
  {
   "cell_type": "markdown",
   "metadata": {},
   "source": [
    "$P(X = -1) = P(Y=0)=(\\frac{5}{6})^3 = \\frac{125}{216}$\n",
    "\n",
    "$P(X = +1) = P(Y=1)=\\begin{pmatrix}3\\\\1\\end{pmatrix} (\\frac{1}{6})(\\frac{5}{6})^2 = \\frac{75}{126}$\n",
    "\n",
    "$P(X = +2) = P(Y=2)=\\begin{pmatrix}3\\\\2\\end{pmatrix} (\\frac{1}{6})^2(\\frac{5}{6}) = \\frac{15}{126}$\n",
    "\n",
    "$P(X = +3) = P(Y=3)=(\\frac{1}{6})^3 = \\frac{1}{216}$"
   ]
  },
  {
   "cell_type": "markdown",
   "metadata": {},
   "source": [
    "3. Erwartungswert $E[X]$ berechnen"
   ]
  },
  {
   "cell_type": "markdown",
   "metadata": {},
   "source": [
    "$$E[X] = \\sum \\limits _{i \\in I}x_iP(X=x_i) = (-1)*\\frac{125}{216}+1*\\frac{75}{216}+2*\\frac{15}{216}+3*\\frac{1}{216} = -\\frac{17}{216}$$"
   ]
  },
  {
   "cell_type": "markdown",
   "metadata": {},
   "source": [
    "4. Varianz $Var⁡(X)$ berechnen:"
   ]
  },
  {
   "cell_type": "markdown",
   "metadata": {},
   "source": [
    "Varianz ist so definiert: \n",
    "\n",
    "$$Var(X) = E[(X-E[X])^2]$$"
   ]
  },
  {
   "cell_type": "markdown",
   "metadata": {},
   "source": [
    "$Var(X) = E[(X-E[X])^2] = E[X^2-2X*E[X]+(E[X])^2]=E[X^2]-2E[X*E[X]]+E[(E[X])^2]= E[X^2]-2(E[X])^2+(E[X])^2 = E[X^2]-(E[X])^2$"
   ]
  },
  {
   "cell_type": "markdown",
   "metadata": {},
   "source": [
    "$$(E[X])^2 = \\frac{289}{46656}$$\n",
    "\n",
    "$$E[X^2] = \\sum \\limits _{i \\in I}x^2_iP(X=x_i) = (-1)^2*\\frac{125}{216}+1^2*\\frac{75}{216}+2^2*\\frac{15}{216}+3^2*\\frac{1}{216} = \\frac{269}{126}$$\n",
    "\n",
    "$$Var(X) = \\frac{269}{216} - \\frac{289}{46656} = \\frac{63647}{46656} \\approx  1,3641761$$"
   ]
  },
  {
   "cell_type": "markdown",
   "metadata": {},
   "source": [
    "### Aufgabe 2\n",
    "*(nur manuell)*"
   ]
  },
  {
   "cell_type": "markdown",
   "metadata": {},
   "source": [
    "Sei $X$ eine Zufallsvariable mit einer stetigen Verteilungsfunktion $F$ der Form\n",
    "\n",
    "$$F(x)=\\left\\{\n",
    "         \\begin{array}{ll}\n",
    "           0 & \\textrm{für } x<-2\\\\\n",
    "           \\frac{1}{4}+\\frac{1}{8}x & \\textrm{für } -2 \\leq x \\leq 0\\\\\n",
    "           c_1+c_2(1-e^{-x}) & \\textrm{für } 0 < x\\\\\n",
    "         \\end{array}\n",
    "       \\right.\n",
    "$$\n",
    "\n",
    "a) Man bestimme die Konstanten $c_1$ und $c_2$.  \n",
    "b) Man berechne den Erwartungswert $E(X)$.  \n",
    "c) Wie groß ist die Wahrscheinlichkeit dafür, dass $X$ einen Wert größer $-1$ annimmt?"
   ]
  },
  {
   "cell_type": "markdown",
   "metadata": {},
   "source": [
    "a)\n",
    "\n",
    "$$F(0^-)= \\frac{1}{4}+\\frac{1}{8}*0=\\frac{1}{4}$$\n",
    "\n",
    "$$F(0^+) = c_1+c_2(1-e^{-0}) = c_1+c_2(1-1)=c_1$$\n",
    "\n",
    "Denn F(x) ist stetig:\n",
    "\n",
    "$$F(0^-) = F(0^+) => c_1 = \\frac{1}{4}$$\n",
    "\n",
    "Denn F(x) ist eine Verteilungsfunktion:\n",
    "\n",
    "$$F(\\infty) = 1 = \\lim \\limits _{x \\rightarrow \\infty}F(x) = c_1+c_2(1-e^{-\\infty}) = c_1+c_2(1-0)=c_1+c_2 = 1 => c_2 = \\frac{3}{4}$$"
   ]
  },
  {
   "cell_type": "markdown",
   "metadata": {},
   "source": [
    "b) \n",
    "\n",
    "$$E(X) = \\int \\limits _0^\\infty (1-F(x))dx-\\int \\limits _{-\\infty}^0F(x)dx$$\n",
    "\n"
   ]
  },
  {
   "cell_type": "markdown",
   "metadata": {},
   "source": [
    "$$\\int \\limits _0^\\infty (1-F(x))dx = \\int \\limits _0^\\infty 1-(\\frac{1}{4}+\\frac{3}{4}(1-e^{-x}))dx = \\int \\limits _0^\\infty \\frac{3}{4}e^{-x}dx = \\frac{3}{4} \\int \\limits _0^\\infty \\frac{1}{e^x}dx = \\frac{3}{4}*(-e^{-x}) \\bigg |_0^\\infty = \\lim \\limits _{x \\rightarrow \\infty} ((\\frac{3}{4}e^{x})-(\\frac{3}{4}e^{0})) = \\frac{3}{4}$$"
   ]
  },
  {
   "cell_type": "markdown",
   "metadata": {},
   "source": [
    "$$\\int \\limits _{-\\infty}^0F(x)dx = \\int \\limits _{-2}^0F(x)dx = \\int \\limits _{-2}^0 \\frac{1}{4}+\\frac{1}{8}x dx = \\int \\limits _{-2}^0 \\frac{1}{4}dx+\\int \\limits _{-2}^0\\frac{1}{8}x dx = \\frac{1}{4}x \\bigg |_{-2}^0 + \\frac{1}{8}(\\frac{x^2}{2} \\bigg |_{-2}^0) = \\frac{1}{2} + \\frac{1}{8}(-2) = \\frac{1}{4}$$"
   ]
  },
  {
   "cell_type": "markdown",
   "metadata": {},
   "source": [
    "$$E(X) = \\frac{3}{4}-\\frac{1}{4} = \\frac{1}{2}$$"
   ]
  },
  {
   "cell_type": "markdown",
   "metadata": {},
   "source": [
    "c) \n",
    "\n",
    "$$P(X > -1) = 1 - F(-1)$$\n",
    "\n",
    "$$F(-1) = \\frac{1}{4}+\\frac{1}{8}(-1) = \\frac1{1}{8}$$\n",
    "\n",
    "$$P(X > -1) = 1 - \\frac{1}{8} = \\frac{7}{8}$$"
   ]
  },
  {
   "cell_type": "markdown",
   "metadata": {},
   "source": [
    "### Aufgabe 3"
   ]
  },
  {
   "cell_type": "markdown",
   "metadata": {},
   "source": [
    "Die Verteilung der Zufallsvariablen $X$ sei gegeben durch\n",
    "\n",
    "$$P(X=\\sqrt{i})=ci^{-2}, i \\in \\mathbb{N}, \\textrm{mit } c=1/\\sum_{i=1}^\\infty i^{-2}=\\frac{6}{\\pi^2}$$\n",
    "\n",
    "Man zeige, dass $X$ einen Erwartungswert, aber keine Varianz besitzt. Wie groß ist $E(X)$?"
   ]
  },
  {
   "cell_type": "markdown",
   "metadata": {},
   "source": [
    "$$E[X] = \\sum \\limits _{i=1}^\\infty \\sqrt{i}*P(X=\\sqrt{i})= \\sum \\limits _{i=1}^\\infty \\sqrt{i}*ci^{-2} = c \\sum \\limits _{i=1}^\\infty i^{-\\frac{3}{2}}$$\n",
    "\n",
    "Die Summe $\\sum\\limits _{i=1}^\\infty i^{-s}$ ist definiert als die Riemannsche Zeta-Funktion $\\zeta(s)$. Also gilt:\n",
    "\n",
    "$$\\sum \\limits _{i=1}^\\infty i^{-\\frac{3}{2}} = \\zeta(\\frac{3}{2})$$"
   ]
  },
  {
   "cell_type": "markdown",
   "metadata": {},
   "source": [
    "$$E[X] = \\frac{6}{\\pi^2}*\\zeta(\\frac{3}{2}) \\approx 1,588$$"
   ]
  },
  {
   "cell_type": "markdown",
   "metadata": {},
   "source": [
    "$$Var(X)=E[X^2]-(E[X])^2$$\n",
    "\n",
    "$$(E[X])^2 = \\sum \\limits _{i=1}^\\infty (\\sqrt{i})^2*P(X=\\sqrt{i}) = \\sum \\limits _{i=1}^\\infty i*c*i^{-2} = c \\sum \\limits _{i=1}^\\infty i^{-1}$$\n",
    "\n",
    "$\\sum \\limits _{i=1}^\\infty i^{-1} = \\infty$ - harmonische Reihe (divergiert)\n",
    "\n",
    "$$Var(X) = \\infty - \\textrm{endlich} = \\infty$$\n",
    "\n",
    "Die Varianz existiert also nicht in dem Sinne, dass sie unendlich groß ist."
   ]
  },
  {
   "cell_type": "markdown",
   "metadata": {},
   "source": [
    "### Aufgabe 4\n",
    "*(nur manuell)*"
   ]
  },
  {
   "cell_type": "markdown",
   "metadata": {},
   "source": [
    "Sei $Y$ eine Zufallsvariable mit der Dichte\n",
    "\n",
    "$$f(x)=\\frac{1}{\\pi}\\cdot\\frac{1}{1+x^2}, x \\in \\mathbb{R}$$\n",
    "\n",
    "($Y$ heißt Cauchy-verteilt.)\n",
    "Besitzt $Y$ einen Erwartungswert?\n"
   ]
  },
  {
   "cell_type": "markdown",
   "metadata": {},
   "source": [
    "$$E[Y] = \\int \\limits_{-\\infty}^\\infty yf(x)dy$$\n",
    "\n",
    "$$E[Y] = \\frac{1}{\\pi} \\int \\limits_{-\\infty}^\\infty \\frac{y}{1+y^2} dy = 2 *\\frac{1}{\\pi} \\int \\limits_0^\\infty \\frac{y}{1+y^2} dy$$\n",
    "\n",
    "Für $y \\rightarrow \\infty$ dominiert $y^2$ die $1$ im Nenner: \n",
    "\n",
    "$$\\frac{y}{1+y^2} \\approx \\frac{1}{y}$$\n",
    "\n",
    "$\\int \\limits_0^\\infty \\frac{1}{y} dy = \\int \\limits_0^1 \\frac{1}{y} dy + \\int \\limits_1^\\infty \\frac{1}{y} dy = \\lim \\limits_{a \\rightarrow 0^+}(-\\ln{(|a|)})+\\lim \\limits_{a \\rightarrow 0^{+\\infty}}(\\ln{(|a|)}) = + \\infty + \\infty = \\infty$"
   ]
  },
  {
   "cell_type": "markdown",
   "metadata": {},
   "source": [
    "$Y$ besitzt keinen Erwartungswert"
   ]
  },
  {
   "cell_type": "markdown",
   "metadata": {},
   "source": [
    "### Aufgabe 5"
   ]
  },
  {
   "cell_type": "markdown",
   "metadata": {},
   "source": [
    "Es seien $X$ und bzw. $K$ Zufallsvariablen, mit denen Gesprächsdauer bzw. Kosten eines Telefonanrufs beschrieben werden können. $X$ sei stetig verteilt mit der Dichte\n",
    "\n",
    "$$f(x)=\\left\\{\n",
    "         \\begin{array}{ll}\n",
    "           4xe^{-2x} & x\\geq 0\\\\\n",
    "           0 &  x < 0\\\\\n",
    "         \\end{array}\n",
    "       \\right.\n",
    "$$\n",
    "\n",
    "Die Kosten eines Anrufes der Länge $y$ betragen\n",
    "\n",
    "$$k(y)=\\left\\{\n",
    "         \\begin{array}{ll}\n",
    "           1 & y\\leq 4\\\\\n",
    "           \\frac{1}{4}y &  y > 4\\\\\n",
    "         \\end{array}\n",
    "       \\right.\n",
    "$$\n",
    "\n",
    "Man ermittle den Erwartungswert der Zufallsvariablen $K$."
   ]
  },
  {
   "cell_type": "markdown",
   "metadata": {},
   "source": [
    "$$E[K]=E[k(X)]$$\n",
    "\n",
    "$$E[K] = \\int \\limits _0 ^\\infty k(x)f(x)dx = \\int \\limits _0 ^4 1*f(x)dx + \\int \\limits _4 ^\\infty \\frac{1}{4}x*f(x)dx$$\n",
    "\n",
    "$$\\int \\limits _0 ^4 4xe^{-2x}dx = 4(x*(-\\frac{e^{-2x}}{2})-\\int-\\frac{e^{-2x}}{2}dx) = 4(x*(-\\frac{e^{-2x}}{2})-\\frac{1}{2}*\\frac{1}{2}e^{-2x}) = -\\frac{2x+1}{e^{2x}} \\bigg |_0^4 = -\\frac{2*4+1}{e^{2*4}}+-\\frac{2*0+1}{e^{2*0}} = -\\frac{9}{e^8}+1$$\n",
    "\n",
    "$$\\int \\limits _4 ^\\infty x^2e^{-2x}dx = x^2*(-\\frac{e^{-2x}}{2})-\\int -\\frac{-e^{-2x}}{2}*2xdx= x^2*(-\\frac{e^{-2x}}{2})+x*(-\\frac{e^{-2x}}{2})-\\int-\\frac{e^{-2x}}{2}dx = x^2*(-\\frac{e^{-2x}}{2})+x*(-\\frac{e^{-2x}}{2})-\\frac{1}{2}*\\frac{1}{2}e^{-2x}=-\\frac{x^2+x}{2e^{2x}}-\\frac{1}{4e^{2x}} \\bigg |_4^a = \\lim \\limits_{a \\rightarrow \\infty}(-\\frac{a^2+a}{2e^{2a}}-\\frac{1}{4e^{2a}} - (-\\frac{4^2+4}{2e^{2*4}}-\\frac{1}{4e^{2*4}})) = \\lim \\limits_{a \\rightarrow \\infty}(-\\frac{a^2+a}{2e^{2a}}-\\frac{1}{4e^{2a}}+\\frac{41}{4e^8}) = \\frac{41}{4e^8}$$\n",
    "\n",
    "$$E[K]=-\\frac{9}{e^8}+1+\\frac{41}{4e^8} = 1+\\frac{5}{4e^8}$$"
   ]
  },
  {
   "cell_type": "markdown",
   "metadata": {},
   "source": [
    "### Aufgabe 6\n",
    "*(nur manuell)*"
   ]
  },
  {
   "cell_type": "markdown",
   "metadata": {},
   "source": [
    "In einer Urne befindet sich eine gewisse Anzahl von Kugeln, von denen jede mit einer der Zahlen $1,\\ldots,4$ beschriftet ist. Spieler 1 zieht nun zufällig (Laplace-Annahme) eine Kugel aus der Urne. Spieler 2 soll sich über die Zahl auf der gezogenen Kugel dadurch Klarheit verschaffen, dass er Fragen stellt, die von Spieler 1 mit ja oder nein beantwortet werden. Er hat sich dazu zwei Fragestrategien ausgedacht:\n",
    "\n",
    "*Strategie 1:* Spieler 2 fragt zunächst, ob 4 die gezogene Zahl sei. Erhält er \"Nein\" als Antwort, so fragt er, ob 3 gezogen wurde. Wird auch diese Frage verneint, so verschafft er sich durch die Frage, ob 2 die gezogene Zahl sei, vollständige Klarheit.\n",
    "\n",
    "*Strategie 2:* Spieler 2 fragt zuerst, ob eine der Zahlen 3 oder 4 gezogen wurde. Wird diese Frage bejaht (verneint), so verschafft er sich durch die Frage, ob 4(2) die gezogene Zahl sei, vollständige Klarheit.\n",
    "\n",
    "Die Zufallsvariable $X$ beschreibe die Anzahl der Fragen, die Spieler 2 unter Anwendung der Strategie 1 stellen muss, um die gezogene Zahl zu erfragen. Man berechne den Erwartungswert $E(X)$, falls die Zahl $k$\n",
    "\n",
    "a) genau $(5-k)$-mal bzw.  \n",
    "b) genau einmal bzw.  \n",
    "c) genau $k$-mal\n",
    "\n",
    "als Zahl einer Kugel auftritt, $k=1,\\ldots,4$. In welchem der drei Fälle ist Strategie 1 der Strategie 2 vorzuziehen?"
   ]
  },
  {
   "cell_type": "markdown",
   "metadata": {},
   "source": [
    "### Aufgabe 7"
   ]
  },
  {
   "cell_type": "markdown",
   "metadata": {},
   "source": [
    "In einer Getränkefabrik werden 1-Liter-Flaschen eines Erfrischungsgetränkes maschinell abgefüllt. Die Erfahrung zeigt, dass im Mittel 4\\% aller abgefüllten Flaschen weniger als 0.97 l und 3\\% aller abgefüllten Flaschen mehr als 1.03 l des betreffenden Getränkes enthalten. Die zufällig in eine Flasche eingefüllte Getränkemenge (in Litern) wird als Wert der Zufallsvariablen $X$ angesehen. Man berechne Erwartungswert und Varianz von $X$, wenn $X$ eine $N(\\mu,\\sigma^2)$-Verteilung besitzt und im Einklang mit den angegebenen Erfahrungswerten $P(X<0.97)=0.04$ und $P(X>1.03)=0.03$ gilt.\n",
    "\n",
    "Plotten Sie $P(0.97<X<1.03)$ als Fläche unter der Dichtefunktion."
   ]
  },
  {
   "cell_type": "markdown",
   "metadata": {},
   "source": [
    "### Aufgabe 8"
   ]
  },
  {
   "cell_type": "markdown",
   "metadata": {},
   "source": [
    "Eine Pumpe sei ununterbrochen in Betrieb, bis sie ausfalle. Die Zufallsvariable $X$, die die zufällige Dauer der Funktionsfähigkeit der Pumpe beschreibt, möge stetig verteilt sein mit einer Dichte der Form\n",
    "\n",
    "$$f(x)=\\left\\{\n",
    "         \\begin{array}{ll}\n",
    "           \\lambda^2xe^{-\\lambda x} & x> 0\\\\\n",
    "           0 &  x \\leq 0\\\\\n",
    "         \\end{array}\n",
    "       \\right.\n",
    "$$\n",
    "\n",
    "Weiters sei bekannt, dass Pumpen dieser Art im Mittel 100 Stunden laufen, bis sie ausfallen.\n",
    "\n",
    "a) Wie ist der Parameter $\\lambda$ zu wählen, damit der Erwartungswert von $X$ gleich der mittleren Laufzeit dieser Pumpen ist?  \n",
    "b) Man bestimme folgende Wahrscheinlichkeiten:\n",
    "\n",
    "$$P(X\\leq100),P(X\\leq200|X\\geq100), P(X\\leq300|X\\geq200).$$\n",
    "\n",
    "c) Aus Sicherheitsgründen tauscht man eine Pumpe, sobald sie 100 Stunden lang ununterbrochen gelaufen ist, gegen eine neue gleichartige aus. Man bestimme die Verteilungsfunktion der Zufallsvariablen $Y$, die die Einsatzzeit einer Pumpe beschreibt. (Die Einsatzzeit ist die Zeit, die vergeht, bis die Pumpe entweder ausfällt oder aber ausgewechselt wird.)"
   ]
  }
 ],
 "metadata": {
  "kernelspec": {
   "display_name": "Python 3 (ipykernel)",
   "language": "python",
   "name": "python3"
  },
  "language_info": {
   "codemirror_mode": {
    "name": "ipython",
    "version": 3
   },
   "file_extension": ".py",
   "mimetype": "text/x-python",
   "name": "python",
   "nbconvert_exporter": "python",
   "pygments_lexer": "ipython3",
   "version": "3.10.10"
  }
 },
 "nbformat": 4,
 "nbformat_minor": 4
}
