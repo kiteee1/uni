{
 "cells": [
  {
   "cell_type": "code",
   "execution_count": null,
   "metadata": {},
   "outputs": [],
   "source": []
  },
  {
   "cell_type": "markdown",
   "metadata": {},
   "source": [
    "# Aufgabenblatt 7"
   ]
  },
  {
   "cell_type": "markdown",
   "metadata": {},
   "source": [
    "## Schätzverfahren"
   ]
  },
  {
   "cell_type": "markdown",
   "metadata": {},
   "source": [
    "### Aufgabe 1"
   ]
  },
  {
   "cell_type": "markdown",
   "metadata": {},
   "source": [
    "12 Versuchsflächen werden mit einer neuen Weizensorte bestellt. Diese Flächen erbrachten folgende Hektarerträge:\n",
    "\n",
    "35.6 33.7 37.8 31.2 37.2 34.1 35.8 36.6 37.1 34.9 35.6 34.0\n",
    "\n",
    "Aus Erfahrung weiß man, dass die Hektarerträge als eine Realisierung unabhängiger, $N(\\mu,3.24)$-verteilter Zufallsvariablen angesehen werden können. Man gebe für den Erwartungswert $\\mu$ ein konkretes Schätzintervall zum Niveau 0.95 an.\n"
   ]
  },
  {
   "cell_type": "markdown",
   "metadata": {},
   "source": [
    "$$X_i \\sim N(\\mu, \\sigma^2)$$\n",
    "\n",
    "$$\\bar{X} = \\frac{1}{n}\\sum\\limits_{i=1}^nX_i$$\n",
    "\n",
    "Jede lineare Kombination normalverteilter Variablen ist auch normalverteilt\n",
    "\n",
    "$$\\bar{X} \\sim N(\\mu, \\frac{\\sigma^2}{n})$$\n",
    "\n",
    "$$\\text{SE} = \\frac{\\sigma}{\\sqrt{n}} = \\frac{\\sqrt{3.24}}{\\sqrt{12}} \\approx 0.52$$\n",
    "\n",
    "$$Z = \\frac{\\bar{X}-\\mu}{\\text{SE}}$$\n",
    "\n",
    "$$P(-z \\le Z \\le z) = 0.95$$\n",
    "\n",
    "$$P(Z \\le z) = 0.95+0.025 = 0.975 \n",
    "$$\n",
    "\n",
    "\n"
   ]
  },
  {
   "cell_type": "code",
   "execution_count": 4,
   "metadata": {},
   "outputs": [
    {
     "name": "stdout",
     "output_type": "stream",
     "text": [
      "1.959963984540054\n"
     ]
    }
   ],
   "source": [
    "from scipy.stats import norm\n",
    "\n",
    "z_0_975 = norm.ppf(0.975)\n",
    "\n",
    "print(z_0_975)\n",
    "\n"
   ]
  },
  {
   "cell_type": "markdown",
   "metadata": {},
   "source": [
    "$$z \\approx 1.96$$\n",
    "\n",
    "$$P(-1.96 \\le \\frac{\\bar{X}-\\mu}{\\text{SE}} \\le 1.96) = 0.95$$\n"
   ]
  },
  {
   "cell_type": "markdown",
   "metadata": {},
   "source": [
    "Berechnen wir nun $\\bar{x}$. Auf diese Weise können wir $\\bar{X}$ nicht als probabilistische Zufallsvariable behandeln. Stattdessen ist es jetzt eine bestimmte beobachtete Zahl"
   ]
  },
  {
   "cell_type": "code",
   "execution_count": 3,
   "metadata": {},
   "outputs": [
    {
     "name": "stdout",
     "output_type": "stream",
     "text": [
      "35.300000000000004\n"
     ]
    }
   ],
   "source": [
    "he = [35.6, 33.7, 37.8, 31.2, 37.2, 34.1, 35.8, 36.6, 37.1, 34.9, 35.6, 34.0]\n",
    "\n",
    "x_bar = sum(he) / len(he)\n",
    "print(x_bar)\n",
    "\n"
   ]
  },
  {
   "cell_type": "markdown",
   "metadata": {},
   "source": [
    "$$\\bar{x} = 35.3$$\n",
    "\n",
    "$$\\bar{x}-1.96*\\text{SE} \\le  \\mu \\le \\bar{x}+1.96*\\text{SE}$$\n",
    "\n",
    "$$35.3-1.96*0.52 \\le  \\mu \\le 35.3+1.96*0.52$$\n",
    "\n",
    "$$34.28 \\le  \\mu \\le 36.32$$\n"
   ]
  },
  {
   "cell_type": "markdown",
   "metadata": {},
   "source": [
    "### Aufgabe 2"
   ]
  },
  {
   "cell_type": "markdown",
   "metadata": {},
   "source": [
    "Für die Gewichte von Warenpackungen wird angenommen, dass sie durch unabhängige $N(\\mu,\\sigma^2)$-verteilte Zufallsvariablen beschrieben werden können, wobei $\\mu$ und $\\sigma^2$ unbekannt seien. Eine Stichprobe vom Umfang 10 aus dem Warenlager ergab für die Gewichte:\n",
    "\n",
    "20.40 20.25 19.80 20.00 20.05 19.90 20.50 20.15 20.20 20.10\n",
    "\n",
    "Man bestimme ein konkretes Schätzintervall der Form $[a,\\infty)$ für $\\mu$ zum Niveau 0.99."
   ]
  },
  {
   "cell_type": "markdown",
   "metadata": {},
   "source": [
    "Wenn wir den Populationsmittelwert $\\mu$ aus einer Stichprobe schätzen möchten und die Populationsvarianz $\\sigma^2$ nicht kennen, müssen wir die Stichprobenvarianz $s^2$ als Schätzung verwenden. Wenn die Daten aus einer Normalverteilung stammen, hat der Stichprobenmittelwert $\\bar{x}$ eine bestimmte Art von Verteilung, aber da wir $s$ (die Stichprobenstandardabweichung) anstelle des wahren $\\sigma$ verwenden, folgt der standardisierte Mittelwert keiner Standardnormalverteilung. Stattdessen folgt er einer t-Verteilung.\n",
    "\n",
    "Die t-Verteilung hat einen Parameter Freiheitsgrade $\\nu$ , der normalerweise $n−1$ für eine Stichprobe der Größe $n$ entspricht. Mit zunehmender Stichprobengröße nähert sich die t-Verteilung der Standardnormalverteilung an.  Bei kleineren Stichproben ist der Wert jedoch größer und spiegelt eine größere Unsicherheit wider.\n",
    "\n",
    "Für eine einseitige untere Konfidenzgrenze auf dem Konfidenzniveau $1−α$ ist das Intervall wie folgt gegeben:\n"
   ]
  },
  {
   "cell_type": "markdown",
   "metadata": {},
   "source": [
    "$$[a,\\infty) = [\\bar{x}-t_{1-a, n-1}\\frac{s}{\\sqrt{n}}, \\infty)$$\n",
    "\n",
    "$$t_{0.99,9}-?$$\n",
    "\n",
    "$$\\bar{x} = \\frac{1}{n}\\sum\\limits_{i=1}^nx_i$$\n",
    "\n",
    "$$s = \\sqrt{\\frac{1}{n-1}\\sum\\limits_{i=1}^n(\\bar{x}-x_i)^2}$$\n",
    "\n"
   ]
  },
  {
   "cell_type": "code",
   "execution_count": 14,
   "metadata": {},
   "outputs": [
    {
     "name": "stdout",
     "output_type": "stream",
     "text": [
      "n: 10\n",
      "x^-: 20.134999999999998\n",
      "s: 0.2147996482513153\n",
      "(t_{0.99,160}: 2.8214379233005493\n",
      "μ: 19.943352099778735\n"
     ]
    }
   ],
   "source": [
    "import numpy as np\n",
    "from scipy.stats import t\n",
    "\n",
    "wpg = np.array([20.40, 20.25, 19.80, 20.00, 20.05, 19.90, 20.50, 20.15, 20.20, 20.10])\n",
    "\n",
    "n = len(wpg)\n",
    "x_bar = np.mean(wpg)\n",
    "s = np.std(wpg, ddof=1)\n",
    "\n",
    "print(\"n:\", n)\n",
    "print(\"x^-:\", x_bar)\n",
    "print(\"s:\", s)\n",
    "\n",
    "alpha = 0.01\n",
    "df = n - 1\n",
    "t_critical = t.ppf(1 - alpha, df)\n",
    "print(\"(t_{0.99,9}:\", t_critical)\n",
    "\n",
    "\n",
    "SE = s / np.sqrt(n) \n",
    "a = x_bar - t_critical * SE\n",
    "\n",
    "\n",
    "print(\"μ:\", a)\n",
    "\n",
    "\n",
    "\n"
   ]
  },
  {
   "cell_type": "markdown",
   "metadata": {},
   "source": [
    "### Aufgabe 3"
   ]
  },
  {
   "cell_type": "markdown",
   "metadata": {},
   "source": [
    "In einer Stadt liegen für 161 Jahre die Niederschlagsmengen im Monat April vor. Die Messreihe $x_1,\\ldots,x_{161}$ ($x_i=$ Niederschlagshöhe in mm im $i$-ten Jahr) hat das arithmetische Mittel $\\overline{x}=53.68$ und die empirische Streuung $s=6.13$. Es wird angenommen, dass die Werte $x_1,\\ldots,x_{161}$ eine Realisierung von 161 unabhängigen, identisch $N(\\mu,\\sigma^2)$-verteilten Zufallsvariablen sind. Mit Konfidenzschätzverfahren zum Niveau $1-\\alpha=0.98$ bestimme man je ein konkretes Schätzintervall\n",
    "\n",
    "a) für $\\mu$  \n",
    "b) für $\\sigma^2$  \n",
    "c) für $\\mu$ unter der Voraussetzung $\\sigma^2=6.13^2$\n"
   ]
  },
  {
   "cell_type": "markdown",
   "metadata": {},
   "source": [
    "a)"
   ]
  },
  {
   "cell_type": "markdown",
   "metadata": {},
   "source": [
    "$$[\\bar{x}-t_{1-a/2, n-1}\\frac{s}{\\sqrt{n}}, \\bar{x}+t_{1-a/2, n-1}\\frac{s}{\\sqrt{n}})$$\n",
    "\n",
    "$$n=161$$\n",
    "\n",
    "$$\\nu = 161-1=160$$\n",
    "\n",
    "$$t_{0.99,160}-?$$\n",
    "\n",
    "$$\\bar{x} = \\frac{1}{10}\\sum\\limits^10_{i=1}x_i$$\n",
    "\n",
    "$$s = \\sqrt{\\frac{1}{n-1}\\sum\\limits_{i=1}^n(x_i-\\bar{x})^2}$$\n",
    "\n",
    "\n"
   ]
  },
  {
   "cell_type": "code",
   "execution_count": 1,
   "metadata": {},
   "outputs": [
    {
     "name": "stdout",
     "output_type": "stream",
     "text": [
      "n: 161\n",
      "x^-: 53.68\n",
      "s: 6.13\n",
      "t_{0.99,9}: 2.349879664504553\n",
      "[ 52.54474568977552 ,  54.81525431022448 ]\n"
     ]
    }
   ],
   "source": [
    "import numpy as np\n",
    "from scipy.stats import t\n",
    "\n",
    "n = 161\n",
    "x_bar = 53.68\n",
    "s = 6.13\n",
    "\n",
    "print(\"n:\", n)\n",
    "print(\"x^-:\", x_bar)\n",
    "print(\"s:\", s)\n",
    "\n",
    "alpha = 0.02\n",
    "df = n - 1\n",
    "t_critical = t.ppf(1 - alpha/2, df)\n",
    "print(\"t_{0.99,9}:\", t_critical)\n",
    "\n",
    "\n",
    "SE = s / np.sqrt(n) \n",
    "a1 = x_bar - t_critical * SE\n",
    "a2 = x_bar + t_critical * SE\n",
    "\n",
    "print(\"[\", a1, \", \", a2, \"]\")\n",
    "\n",
    "\n",
    "\n",
    "\n",
    "\n",
    "\n"
   ]
  },
  {
   "cell_type": "markdown",
   "metadata": {},
   "source": [
    "c)"
   ]
  },
  {
   "cell_type": "markdown",
   "metadata": {},
   "source": [
    "$$[\\bar{x}-z_{1-a/2}\\frac{\\sigma}{\\sqrt{n}}, \\bar{x}+z_{1-a/2}\\frac{\\sigma}{\\sqrt{n}})$$\n",
    "\n",
    "$$n=161$$\n",
    "\n",
    "$$\\sigma = 6.13$$\n",
    "\n",
    "$$z_{0.99}-?$$\n",
    "\n",
    "$$\\bar{x} = \\frac{1}{10}\\sum\\limits^10_{i=1}x_i$$\n"
   ]
  },
  {
   "cell_type": "code",
   "execution_count": null,
   "metadata": {},
   "outputs": [],
   "source": [
    "import numpy as np\n",
    "from scipy.stats import norm\n",
    "\n",
    "n = 161\n",
    "x_bar = 53.68\n",
    "s = 6.13\n",
    "\n",
    "print(\"n:\", n)\n",
    "print(\"x^-:\", x_bar)\n",
    "print(\"s:\", s)\n",
    "\n",
    "alpha = 0.02\n",
    "z = norm.ppf(1 - alpha/2)\n",
    "print(\"z_{0.99}:\", z)\n",
    "\n",
    "\n",
    "\n",
    "SE = s / np.sqrt(n) \n",
    "a1 = x_bar - z * SE\n",
    "a2 = x_bar + z * SE\n",
    "\n",
    "print(\"[\", a1, \", \", a2, \"]\")\n",
    "\n",
    "\n",
    "\n",
    "\n",
    "\n",
    "\n",
    "\n"
   ]
  },
  {
   "cell_type": "markdown",
   "metadata": {},
   "source": [
    "b)"
   ]
  },
  {
   "cell_type": "markdown",
   "metadata": {},
   "source": [
    "$$Z = \\frac{x_i-\\bar{x}}{\\sigma}$$\n",
    "\n",
    "$$\\sum\\limits_{i=1}^nZ_i^2\\sim\\chi^2$$\n",
    "\n",
    "$$\\sum\\limits_{i=1}^n(\\frac{x_i-\\bar{x}}{\\sigma})^2\\sim\\chi^2_{n-1}$$\n",
    "\n",
    "$$\\frac{\\sum\\limits_{i=1}^n(x_i-\\bar{x})^2}{\\sigma^2}\\sim\\chi^2_{n-1}$$\n",
    "\n",
    "$$s = \\sqrt{\\frac{1}{n-1}\\sum\\limits_{i=1}^n(x_i-\\bar{x})^2}$$\n",
    "\n",
    "$$\\frac{(n-1)s^2}{\\sigma^2}\\sim\\chi^2_{n-1}$$\n",
    "\n",
    "$$\\chi^2_{a/2, n-1} \\le \\frac{(n-1)s^2}{\\sigma^2} \\le \\chi^2_{1-a/2, n-1}$$\n",
    "\n",
    "$$\\frac{(n-1)s^2}{\\chi^2_{a/2, n-1}} \\le \\sigma^2 \\le \\frac{(n-1)s^2}{\\chi^2_{1-a/2, n-1}}$$\n",
    "\n",
    "$$n=161$$\n",
    "\n",
    "$$s = 6.13$$\n",
    "\n",
    "$$\\chi_{0.01,160}-?$$\n",
    "\n",
    "$$\\chi_{0.99,160}-?$$\n",
    "\n",
    "$$\\bar{x} = \\frac{1}{10}\\sum\\limits^10_{i=1}x_i$$\n",
    "\n",
    "\n",
    "\n",
    "\n"
   ]
  },
  {
   "cell_type": "code",
   "execution_count": 7,
   "metadata": {},
   "outputs": [
    {
     "name": "stdout",
     "output_type": "stream",
     "text": [
      "n: 161\n",
      "s: 6.13\n",
      "chi2_upper:  204.5300945903855\n",
      "chi2_lower:  121.34562995113782\n",
      "σ²: [29.40, 49.55]\n"
     ]
    }
   ],
   "source": [
    "import math\n",
    "from scipy.stats import chi2\n",
    "\n",
    "n = 161\n",
    "s = 6.13\n",
    "alpha = 0.02\n",
    "df = n - 1\n",
    "\n",
    "print(\"n:\", n)\n",
    "print(\"s:\", s)\n",
    "\n",
    "s2 = s**2\n",
    "\n",
    "num = df * s2\n",
    "\n",
    "chi2_upper = chi2.ppf(1 - alpha/2, df)\n",
    "chi2_lower = chi2.ppf(alpha/2, df)\n",
    "\n",
    "print(\"chi2_upper: \", chi2_upper)\n",
    "print(\"chi2_lower: \", chi2_lower)\n",
    "\n",
    "lower_sigma2 = num / chi2_upper\n",
    "upper_sigma2 = num / chi2_lower\n",
    "\n",
    "print(f\"σ²: [{lower_sigma2:.2f}, {upper_sigma2:.2f}]\")\n",
    "\n",
    "\n",
    "\n"
   ]
  },
  {
   "cell_type": "markdown",
   "metadata": {},
   "source": [
    "### Aufgabe 4"
   ]
  },
  {
   "cell_type": "markdown",
   "metadata": {},
   "source": [
    "Ein Fahrkartenkontrolleur überprüft einen Tag lang auf verschiedenen Darmstädter Straßenbahnlinien die Fahrkarten von Fahrgästen. Er überprüft jeweils solange bis er einen Fahrgast ohne gültigen Fahrschein antrifft. Nach Ausstellung eines Strafprotokolls kassiert er von diesem ein Bußgeld und beginnt nach einer Pause mit einer neuen Überprüfung.\n",
    "\n",
    "Die folgenden Zahlen geben an, wie viele Fahrgäste bei 10 solchen Überprüfungen jeweils überprüft wurden, bis ein Bußgeld fällig wurde:\n",
    "\n",
    "42 50 40 64 30 36 68 42 46 48\n",
    "\n",
    "Beschreibt die Zufallsvariable $X$ die Anzahl der Personen, die überprüft werden, bis ein Fahrgast ohne gültigen Fahrausweis angetroffen wird, so kann angenommen werden, dass\n",
    "\n",
    "$$P_\\theta (X=n) = (1-\\theta)^{n-1}\\cdot\\theta$$\n",
    "\n",
    "gilt, wobei $\\theta\\cdot 100\\%$ als prozentualer Anteil der Schwarzfahrer unter allen Fahrgästen zu interpretieren ist.\n",
    "\n",
    "Man bestimme aufgrund obiger Messwerte einen Maximum-Likelihood-Schätzwert für $\\theta$.\n",
    "\n"
   ]
  },
  {
   "cell_type": "markdown",
   "metadata": {},
   "source": [
    "$$P_{\\theta}(X=n) = (1-\\theta)^{n-1}\\theta$$\n",
    "\n",
    "$$L(\\theta) = \\prod \\limits_{i=1}^{10}(1-\\theta)^{x_i-1}\\theta = \\theta^{10}(1-\\theta)^{\\sum\\limits_{i=1}^{10}(x_i-1)}$$\n",
    "\n",
    "Lass es $\\sum\\limits_{i=1}^{10}x_i=S$, dann:\n",
    "\n",
    "$$\\sum\\limits_{i=1}^{10}(x_i-1) = S - 10 $$\n",
    "\n",
    "$$L(\\theta) = \\theta^{10}(1-\\theta)^{S-10}$$\n",
    "\n",
    "$$\\log{(L(\\theta))} = 10\\log{(\\theta)}+(S-10)\\log{(1-\\theta)}$$\n",
    "\n",
    "$$(\\log{(L(\\theta))})' = \\frac{10}{\\theta}+(S-10)*\\frac{-1}{1-\\theta}=0$$\n",
    "\n",
    "$$S\\theta = 10 => \\theta = \\frac{10}{S} = \\frac{10}{\\sum\\limits_{i=1}^{10}x_i}$$\n",
    "\n",
    "\n"
   ]
  },
  {
   "cell_type": "code",
   "execution_count": 25,
   "metadata": {},
   "outputs": [
    {
     "data": {
      "image/png": "[encoded data removed]",
      "text/plain": [
       "<Figure size 800x600 with 1 Axes>"
      ]
     },
     "metadata": {},
     "output_type": "display_data"
    }
   ],
   "source": [
    "import numpy as np\n",
    "import matplotlib.pyplot as plt\n",
    "\n",
    "data = [42, 50, 40, 64, 30, 36, 68, 42, 46, 48]\n",
    "\n",
    "S = sum(data)\n",
    "n = len(data)\n",
    "\n",
    "\n",
    "def log_likelihood(theta):\n",
    "    if theta <= 0 or theta >= 1:\n",
    "        return np.nan\n",
    "    return n * np.log(theta) + (S - n)*np.log(1 - theta)\n",
    "\n",
    "theta_hat = n / S\n",
    "\n",
    "theta_values = np.linspace(0.0001, 0.05, 500)\n",
    "log_l_values = [log_likelihood(tv) for tv in theta_values]\n",
    "\n",
    "plt.figure(figsize=(8,6))\n",
    "plt.plot(theta_values, log_l_values, label='Log-Likelihood')\n",
    "\n",
    "mle_log_l = log_likelihood(theta_hat)\n",
    "plt.axvline(theta_hat, color='r', linestyle='--', label=f'MLE: θ = {theta_hat:.5f}')\n",
    "plt.axhline(mle_log_l, color='r', linestyle='--')\n",
    "\n",
    "plt.title('Log-Likelihood Function for θ')\n",
    "plt.xlabel('θ')\n",
    "plt.ylabel('Log-Likelihood')\n",
    "plt.legend()\n",
    "plt.grid(True)\n",
    "plt.show()\n",
    "\n",
    "\n"
   ]
  },
  {
   "cell_type": "markdown",
   "metadata": {},
   "source": [
    "### Aufgabe 5\n",
    "*(nur manuell)*"
   ]
  },
  {
   "cell_type": "markdown",
   "metadata": {},
   "source": [
    "Ein System bestehe aus den Komponenten $K_1$, $K_2$ und $K_3$, die hintereinander geschaltet sind, d.h. das System fällt aus, wenn mindestens eine Komponente ausfällt.\n",
    "\n",
    "Dabei wird angenommen, dass die Lebensdauern der Komponenten $K_1,K_2,K_3$ durch unabhängige, stetig verteilte Zufallsvariablen $X_1,X_2,X_3$ beschrieben werden können. $X_1$ sei exponentialverteilt mit Erwartungswert $\\frac{1}{\\theta}>0$, $X_2$ und $X_3$ seien identisch verteilt mit Dichte\n",
    "\n",
    "$$f_\\theta (x)=\\left\\{\n",
    "                        \\begin{array}{ll}\n",
    "                          \\frac{\\theta}{3\\sqrt[3]{x^2}}e^{-\\theta\\sqrt[3]{x}} & \\textrm{für } x>0\\\\\n",
    "                          0 & \\textrm{sonst} \\\\\n",
    "                        \\end{array}\n",
    "                      \\right)$$\n",
    "                      \n",
    "(Weibull-Verteilung)\n",
    "\n",
    "Man berechne Verteilungsfunktion und Dichte für die zufällige Lebensdauer $S$ des Systems."
   ]
  },
  {
   "cell_type": "markdown",
   "metadata": {},
   "source": [
    "### Aufgabe 6"
   ]
  },
  {
   "cell_type": "markdown",
   "metadata": {},
   "source": [
    "In Fortsetzung der vorangegangenen Aufgabe ergaben sich bei Messungen der Lebensdauer des Systems folgende Werte (in Std.):\n",
    "\n",
    "82.2 94.0 122.5 95.8 106.4\n",
    "\n",
    "Man gebe die Likelihood-Funktion an und bestimme den Maximum-Likelihood-Schätzwert für $\\theta$."
   ]
  },
  {
   "cell_type": "code",
   "execution_count": 4,
   "metadata": {},
   "outputs": [],
   "source": [
    "lds <- c(82.2, 94.0, 122.5, 95.8, 106.4)"
   ]
  },
  {
   "cell_type": "markdown",
   "metadata": {},
   "source": [
    "### Aufgabe 7\n",
    "*(nur manuell)*"
   ]
  },
  {
   "cell_type": "markdown",
   "metadata": {},
   "source": [
    "In einer Urne befindet sich eine (unbekannte) Anzahl $\\theta$ von Kugeln, die mit den Zahlen $1,2,\\ldots,\\theta$ durchnummeriert sind. Die Anzahl $\\theta$ der Kugeln soll geschätzt werden. Dazu wird aus der Urne eine Kugel gezogen und ihre Nummer notiert. Die Zufallsvariable $X$ beschreibe die Nummer der gezogenen Kugel.\n",
    "\n",
    "a) Man bestimme die Verteilung von $X$ in Abhängigkeit von $\\theta$.  \n",
    "b) Man zeige, dass $T(X)=2X-1$ ein erwartungstreuer Schätzer für $\\theta$ ist.  \n",
    "c) In den Fällen $\\theta=4$ und $\\theta=5$ berechne man jeweils die Wahrscheinlichkeit dafür, dass $\\theta$ mit $T$ exakt geschätzt wird.  \n",
    "d) Man berechne die Varianz von $T$."
   ]
  },
  {
   "cell_type": "markdown",
   "metadata": {},
   "source": [
    "### Aufgabe 8\n",
    "*(nur manuell)*"
   ]
  },
  {
   "cell_type": "markdown",
   "metadata": {},
   "source": [
    "In Fortsetzung der vorangegangenen Aufgabe sollen nun zwei Kugeln mit Zurücklegen gezogen werden. Ihre Nummern werden durch die Zufallsvariablen $X_1$ und $X_2$ beschrieben. Sei\n",
    "\n",
    "$$X^*=\\max(X_1,X_2)$$\n",
    "\n",
    "a) Man bestimme die Verteilung von $X^*$.  \n",
    "b) Man zeige, dass\n",
    "\n",
    "$$T(X^*)=\\frac{1}{2X^*-1}\\cdot\\left((X^*)^3-(X^*-1)^3\\right)$$\n",
    "\n",
    "ein erwartungstreuer Schätzer für $\\theta$ ist."
   ]
  },
  {
   "cell_type": "code",
   "execution_count": null,
   "metadata": {},
   "outputs": [],
   "source": []
  }
 ],
 "metadata": {
  "kernelspec": {
   "display_name": "Python 3 (ipykernel)",
   "language": "python",
   "name": "python3"
  },
  "language_info": {
   "codemirror_mode": {
    "name": "ipython",
    "version": 3
   },
   "file_extension": ".py",
   "mimetype": "text/x-python",
   "name": "python",
   "nbconvert_exporter": "python",
   "pygments_lexer": "ipython3",
   "version": "3.10.10"
  }
 },
 "nbformat": 4,
 "nbformat_minor": 4
}
