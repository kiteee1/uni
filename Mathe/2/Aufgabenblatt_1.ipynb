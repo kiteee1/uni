{
  "metadata": {
    "kernelspec": {
      "name": "python",
      "display_name": "Python (Pyodide)",
      "language": "python"
    },
    "language_info": {
      "codemirror_mode": {
        "name": "python",
        "version": 3
      },
      "file_extension": ".py",
      "mimetype": "text/x-python",
      "name": "python",
      "nbconvert_exporter": "python",
      "pygments_lexer": "ipython3",
      "version": "3.8"
    }
  },
  "nbformat_minor": 4,
  "nbformat": 4,
  "cells": [
    {
      "cell_type": "markdown",
      "source": "# Aufgabenblatt 1",
      "metadata": {}
    },
    {
      "cell_type": "markdown",
      "source": "## Eindimensionale Analysis – Differentialrechnung 1",
      "metadata": {}
    },
    {
      "cell_type": "markdown",
      "source": "## Aufgabe 1\n\nDifferenzieren Sie folgende rationale Funktion:\n\n$$f(x)=\\frac{1-x^2}{1+x^2}$$",
      "metadata": {}
    },
    {
      "cell_type": "markdown",
      "source": "Wir verwenden die Quotientenregel:\n\n$$(\\frac{u}{v})'=\\frac{u'v-uv'}{v^2}$$",
      "metadata": {}
    },
    {
      "cell_type": "markdown",
      "source": "$$f'(x)=\\frac{(1-x^2)'(1+x^2)-(1-x^2)(1+x^2)'}{(1+x^2)^2}$$",
      "metadata": {}
    },
    {
      "cell_type": "markdown",
      "source": "Finden wir die Ableitungen einzelner Begriffe:\n\n$$f'(x)=\\frac{-2x(1+x^2)-(1-x^2)2x}{(1+x^2)^2}$$",
      "metadata": {}
    },
    {
      "cell_type": "markdown",
      "source": "Vereinfachen:\n\n$$f'(x)=\\frac{-4x}{(1+x^2)^2}$$",
      "metadata": {}
    },
    {
      "cell_type": "markdown",
      "source": "Antwort:\n\n$$f'(x)=-\\frac{4x}{(1+x^2)^2}$$",
      "metadata": {}
    },
    {
      "cell_type": "markdown",
      "source": "## Aufgabe 2\n\nDifferenzieren Sie folgende Wurzelfunktion:\n\n$$f(x)=\\sqrt{x^3-2x}$$",
      "metadata": {}
    },
    {
      "cell_type": "markdown",
      "source": "Wir verwenden die Kettenregel:\n\n$$(f(g(x)))'=f'(g(x))*g'(x)$$",
      "metadata": {}
    },
    {
      "cell_type": "markdown",
      "source": "In diesem Fall: $g(x)=x^3-2x$\n\n$$f'(x)=(\\sqrt{g(x)})'*g'(x)$$",
      "metadata": {}
    },
    {
      "cell_type": "markdown",
      "source": "$$f'(x)=(\\sqrt{g(x)})'*(x^3-2x)'$$",
      "metadata": {}
    },
    {
      "cell_type": "markdown",
      "source": "Ableiten:\n\n$$f'(x)=\\frac{1}{2\\sqrt{g(x)}}*(3x^2-2)$$",
      "metadata": {}
    },
    {
      "cell_type": "markdown",
      "source": "Machen wir einen umgekehrten Ersatz:\n\n$$f'(x)=\\frac{1}{2\\sqrt{x^3-2x}}*(3x^2-2)$$",
      "metadata": {}
    },
    {
      "cell_type": "markdown",
      "source": "Antwort:\n\n$$f'(x)=\\frac{3x^2-2}{2\\sqrt{x^3-2x}}$$",
      "metadata": {}
    },
    {
      "cell_type": "markdown",
      "source": "## Aufgabe 3\n\nDifferenzieren Sie folgende Wurzelfunktion:\n\n$$f(x)=\\frac{1}{\\sqrt{x-1}}$$\n",
      "metadata": {}
    },
    {
      "cell_type": "markdown",
      "source": "Schreiben wir die Funktion um:\n\n$$f(x)=\\frac{1}{\\sqrt{x-1}}=(x-1)^{-\\frac{1}{2}}$$\n",
      "metadata": {}
    },
    {
      "cell_type": "markdown",
      "source": "Nehmen wir die Ableitung:\n\n$$f'(x)=((x-1)^{-\\frac{1}{2}})'$$\n",
      "metadata": {}
    },
    {
      "cell_type": "markdown",
      "source": "Wir verwenden die Kettenregel:\n\n$$(f(g(x)))'=f'(g(x))*g'(x)$$",
      "metadata": {}
    },
    {
      "cell_type": "markdown",
      "source": "In diesem Fall: $g(x)=x-1$\n\n$$f'(x)=(g(x)^{-\\frac{1}{2}})'*(x-1)'$$",
      "metadata": {}
    },
    {
      "cell_type": "markdown",
      "source": "Ableiten:\n\n$$f'(x)=-\\frac{1}{2}g(x)^{-\\frac{3}{2}}*1$$",
      "metadata": {}
    },
    {
      "cell_type": "markdown",
      "source": "Machen wir einen umgekehrten Ersatz:\n\n$$f'(x)=-\\frac{1}{2}(x-1)^{-\\frac{3}{2}}$$",
      "metadata": {}
    },
    {
      "cell_type": "markdown",
      "source": "Vereinfachen:\n\n$$f'(x)=-\\frac{1}{2\\sqrt{(x-3)^3}}$$",
      "metadata": {}
    },
    {
      "cell_type": "markdown",
      "source": "Antwort:\n\n$$f'(x)=-\\frac{1}{2\\sqrt{(x-3)^3}}$$",
      "metadata": {}
    },
    {
      "cell_type": "markdown",
      "source": "## Aufgabe 4\n\nDifferenzieren Sie folgende Funktionen:\n\na) $$f(x)=\\sin{x}\\cos{x}$$",
      "metadata": {}
    },
    {
      "cell_type": "markdown",
      "source": "Wir verwenden die Produktregel:\n\n$$f'(x)=u'v+uv'$$",
      "metadata": {}
    },
    {
      "cell_type": "markdown",
      "source": "$$f'(x)=\\sin{x}'\\cos{x}+\\sin{x}\\cos{x}'$$",
      "metadata": {}
    },
    {
      "cell_type": "markdown",
      "source": "$$f'(x)=\\cos^2{x}-\\sin^2{x}$$",
      "metadata": {}
    },
    {
      "cell_type": "markdown",
      "source": "Antwort:\n\n$$f'(x)=\\cos{2x}$$",
      "metadata": {}
    },
    {
      "cell_type": "markdown",
      "source": "b) $$f(x)=\\sin^2{x}$$",
      "metadata": {}
    },
    {
      "cell_type": "markdown",
      "source": "Wir verwenden die Kettenregel:\n\n$$(f(g(x)))'=f'(g(x))*g'(x)$$",
      "metadata": {}
    },
    {
      "cell_type": "markdown",
      "source": "In diesem Fall: $g(x)=\\sin{x}$\n\n$$f'(x)=(g(x))^2)'*\\sin{x}'$$",
      "metadata": {}
    },
    {
      "cell_type": "markdown",
      "source": "Ableiten:\n\n$$f'(x)=2g(x)*\\cos{x}$$",
      "metadata": {}
    },
    {
      "cell_type": "markdown",
      "source": "Machen wir einen umgekehrten Ersatz:\n\n$$f'(x)=2\\sin{x}\\cos{x}'$$",
      "metadata": {}
    },
    {
      "cell_type": "markdown",
      "source": "Antwort:\n\n$$f'(x)=\\sin{2x}$$",
      "metadata": {}
    },
    {
      "cell_type": "markdown",
      "source": "## Aufgabe 5\n\nDifferenzieren Sie folgende Funktionen:\n\na)\n$$f(x)=\\sin{x^2}$$",
      "metadata": {}
    },
    {
      "cell_type": "markdown",
      "source": "Wir verwenden die Kettenregel:\n\n$$(f(g(x)))'=f'(g(x))*g'(x)$$",
      "metadata": {}
    },
    {
      "cell_type": "markdown",
      "source": "In diesem Fall: $g(x)=x^2$\n\n$$f'(x)=(\\sin{(g(x))})'*(x^2)'$$",
      "metadata": {}
    },
    {
      "cell_type": "markdown",
      "source": "Ableiten:\n\n$$f'(x)=\\cos{(g(x))}*2x$$",
      "metadata": {}
    },
    {
      "cell_type": "markdown",
      "source": "Machen wir einen umgekehrten Ersatz:\n\n$$f'(x)=\\cos{x^2}*2x$$",
      "metadata": {}
    },
    {
      "cell_type": "markdown",
      "source": "Antwort:\n\n$$f'(x)=2x\\cos{x^2}$$",
      "metadata": {}
    },
    {
      "cell_type": "markdown",
      "source": "b) $$f(x)=\\tan{x}\\sin{x}$$",
      "metadata": {}
    },
    {
      "cell_type": "markdown",
      "source": "Wir verwenden die Produktregel:\n\n$$f'(x)=u'v+uv'$$",
      "metadata": {}
    },
    {
      "cell_type": "markdown",
      "source": "$$f'(x)=\\tan{x}'\\sin{x}+\\tan{x}\\sin{x}'$$",
      "metadata": {}
    },
    {
      "cell_type": "markdown",
      "source": "$$f'(x)=\\frac{1}{\\cos^2{x}}\\sin{x}+\\tan{x}\\cos{x}$$",
      "metadata": {}
    },
    {
      "cell_type": "markdown",
      "source": "$$f'(x)=\\frac{\\sin{x}}{\\cos^2{x}}+\\sin{x}$$",
      "metadata": {}
    },
    {
      "cell_type": "markdown",
      "source": "Antwort:\n\n$$f'(x)=\\frac{\\sin{x}+\\cos^2{x}\\sin{x}}{\\cos^2{x}}$$",
      "metadata": {}
    },
    {
      "cell_type": "markdown",
      "source": "## Aufgabe 6\n\nDifferenzieren Sie folgende Funktion:\n\n$$ f(x)=\\arctan{\\sqrt{x}} $$",
      "metadata": {}
    },
    {
      "cell_type": "markdown",
      "source": "Wir verwenden die Kettenregel:\n\n$$(f(g(x)))'=f'(g(x))*g'(x)$$",
      "metadata": {}
    },
    {
      "cell_type": "markdown",
      "source": "In diesem Fall: $g(x)=\\sqrt(x)$\n\n$$ f'(x)=(\\arctan{g(x))'*(\\sqrt{x})'} $$",
      "metadata": {}
    },
    {
      "cell_type": "markdown",
      "source": "Ableiten:\n\n$$ f'(x)=\\frac{1}{1+(g(x))^2}*\\frac{1}{2\\sqrt{x}} $$",
      "metadata": {}
    },
    {
      "cell_type": "markdown",
      "source": "Machen wir einen umgekehrten Ersatz:\n\n$$ f'(x)=\\frac{1}{1+(\\sqrt{x})^2}*\\frac{1}{2\\sqrt{x}} $$",
      "metadata": {}
    },
    {
      "cell_type": "markdown",
      "source": "Vereinfachen:\n\n$$ f'(x)=\\frac{1}{2\\sqrt{x}+2x\\sqrt{x}}$$",
      "metadata": {}
    },
    {
      "cell_type": "markdown",
      "source": "Antwort:\n\n$$ f'(x)=\\frac{1}{2\\sqrt{x}+2x\\sqrt{x}}$$",
      "metadata": {}
    },
    {
      "cell_type": "markdown",
      "source": "## Aufgabe 7\n\nDifferenzieren Sie folgende Funktion:\n\n$$ f(x)=\\arccos{e^x} $$",
      "metadata": {}
    },
    {
      "cell_type": "markdown",
      "source": "In diesem Fall: $g(x)=e^x$\n\n$$f'(x)=(arccos(g(x)))'*(e^x)'$$",
      "metadata": {}
    },
    {
      "cell_type": "markdown",
      "source": "Ableiten:\n\n$$f'(x)=-\\frac{1}{\\sqrt{1-g(x)^2}}*e^x$$",
      "metadata": {}
    },
    {
      "cell_type": "markdown",
      "source": "Machen wir einen umgekehrten Ersatz:\n\n$$f'(x)=-\\frac{1}{\\sqrt{1-(e^x)^2}}*e^x$$",
      "metadata": {}
    },
    {
      "cell_type": "markdown",
      "source": "Vereinfachen:\n\n$$f'(x)=-\\frac{e^x}{\\sqrt{1-e^{2x}}}$$",
      "metadata": {}
    },
    {
      "cell_type": "markdown",
      "source": "Antwort:\n\n$$f'(x)=-\\frac{e^x}{\\sqrt{1-e^{2x}}}$$",
      "metadata": {}
    },
    {
      "cell_type": "markdown",
      "source": "## Aufgabe 8\n\nDiskutieren Sie die folgende Funktion (Plot, Nullstellen, Extrema,\nMonotonie, Wendepunkte, Krümmungsverhalten, Konvergenz):\n\n$$f(x)=x^3-3x$$",
      "metadata": {}
    },
    {
      "cell_type": "markdown",
      "source": "### Nullstellen\nSchnittpunkt mit der Y-Achse\n\n$$f(0)=0^3-3*0=0$$\n\nSchnittpunkt mit der X-Achse\n\n$$x^3-3x=0$$\n$$x(x^2-3)=0$$\n<center>$x=0$ oder $x^2-3=0$\n<center>$x=0$ oder $x=\\pm\\sqrt{3}$",
      "metadata": {}
    },
    {
      "cell_type": "markdown",
      "source": "### Extrema und Monotonie\nFinden wir die minimalen und maximalen Punkte der Funktion. Dazu ermitteln wir die Ableitung\n\n$$f'(x)=3x^2-3$$\n$$3x^2-3=0$$\n$$x=\\pm1$$",
      "metadata": {}
    },
    {
      "cell_type": "markdown",
      "source": "<table style=\"text-align: center\">\n<tr>\n    <td><font size=\"3\">$(-∞;-1)$</font></td>\n    <td><font size=\"3\">$-1$</font></td>\n    <td><font size=\"3\">$(-1;1)$</font></td>\n    <td><font size=\"3\">$1$</font></td> \n    <td><font size=\"3\">$(1;+∞)$</font></td> \n</tr>\n\n<tr>\n    <td><font size=\"3\">$f'(x)>0$</font></td>\n    <td><font size=\"3\">$f'(x)=0$</font></td>\n    <td><font size=\"3\">$f'(x)<0$</font></td> \n    <td><font size=\"3\">$f'(x)=0$</font></td> \n    <td><font size=\"3\">$f'(x)>0$</font></td>\n</tr>\n\n<tr>\n    <td><font size=\"3\">Funktion steigt</font></td>\n    <td><font size=\"3\">max</font></td>\n    <td><font size=\"3\">Funktion fällt</font></td>\n    <td><font size=\"3\">min</font></td> \n    <td><font size=\"3\">Funktion steigt</font></td>   \n</tr>\n\n</table>",
      "metadata": {}
    },
    {
      "cell_type": "markdown",
      "source": "<table style=\"text-align: center\">\n<tr>\n    <td><font size=\"3\">$(-∞;0)$</font></td>\n    <td><font size=\"3\">$0$</font></td>\n    <td><font size=\"3\">$(0;+∞)$</font></td>\n\n</tr>\n\n<tr>\n    <td><font size=\"3\">$f''(x)<0$</font></td>\n    <td><font size=\"3\">$f''(x)=0$</font></td>\n    <td><font size=\"3\">$f''(x)>0$</font></td> \n\n</tr>\n\n<tr>\n    <td><font size=\"3\">Funktion ist konkav</font></td>\n    <td><font size=\"3\">Wendepunkt</font></td>\n    <td><font size=\"3\">Funktion ist konvex</font></td>\n \n</tr>\n\n</table>",
      "metadata": {}
    },
    {
      "cell_type": "markdown",
      "source": "### Wendepunkte und Krümmungsverhalten\nErmitteln wir die Intervalle der Konvexität und Konkavität der Funktion. Dazu berechnen wir die zweite Ableitung\n\n$$f''(x)=6x$$\n$$6x=0$$\n$$x=0$$",
      "metadata": {}
    },
    {
      "cell_type": "markdown",
      "source": "### Konvergenz\nUm die Konvergenz einer Funktion zu ermitteln, müssen Sie die folgenden Grenzwerte ermitteln:\n$$\\lim_{x\\to+∞}(f(x))$$ $$\\lim_{x\\to-∞}(f(x))$$\n$$\\lim_{x\\to+∞}(f(x))=+∞$$ $$\\lim_{x\\to-∞}(f(x))=-∞$$\nDie Funktion konvergiert nicht, wenn x gegen Unendlichkeit strebt.",
      "metadata": {}
    },
    {
      "cell_type": "markdown",
      "source": "### Zusätzlich\n#### Definitionsmenge der Funktion. Funktionsunterbrechungspunkte\n\n$$f(x)=x^3-3x$$\nDie Funktion ist stetig. Definitionsmenge: $(-∞;+∞)$\n\n\n",
      "metadata": {}
    },
    {
      "cell_type": "markdown",
      "source": "#### Gerade oder ungerade Funktion:\n\nUngerade: $f(-x)=-f(x)$\n\n$$f(-x)=(-x)^3-3(-x)=-x^3+3x=-(x^3-3x)$$\n",
      "metadata": {}
    },
    {
      "cell_type": "markdown",
      "source": "#### Asymptoten\nEs gibt keine vertikalen Asymptoten, denn Definitionsmenge: $(-∞;+∞)$\nUm die horizontale Asymptote zu bestimmen, muss man die Grenzwerte berechnen: $$\\lim_{x\\to+∞}(f(x))$$ $$\\lim_{x\\to-∞}(f(x))$$\nDiese wurden bereits im Abschnitt zur Konvergenz berechnet. Diese sind jeweils $+∞$ und $-∞$\nDie Schrägasymptote ist durch die Gleichung gegeben: $y=kx+b-f(x)$, wobei: $$k=\\lim_{x\\to∞}\\frac{f(x)}{x}$$\n$$k=\\lim_{x\\to∞}\\frac{x^3-3x}{x}=\\lim_{x\\to∞}x^2-3x=∞$$\nDa der Koeffizient k unendlich ist, gibt es keine schrägen Asymptoten.",
      "metadata": {}
    },
    {
      "cell_type": "markdown",
      "source": "## Plot\nDa wir nun alles wissen, was oben gefunden wurde, können wir die Funktion grafisch darstellen. Wenn Sie nun alles wissen, was oben gefunden wurde, können Sie einen Graphen der Funktion erstellen. Alle wichtigen Punkte sind in der Grafik dargestellt.",
      "metadata": {}
    },
    {
      "cell_type": "code",
      "source": "import numpy as np\nfrom matplotlib import pyplot as plt\n\ndef f(x):\n   return x**3-3*x\n\nx = np.linspace(-3, 3, 1000)\nplt.xticks([-3, -np.sqrt(3), -1, 0, 1, np.sqrt(3), 3],\n           ['$-3$', '$-\\sqrt{3}$', '$1$', '$0$', '$-1$', '$\\sqrt{3}$', '$3$'])\nplt.ylim(-6, 6)\nplt.plot(x, f(x), color='blue')\nplt.axhline()\nplt.axvline()\nplt.axhline(color='black', lw=0.5)\nplt.axvline(color='black', lw=0.5)\nplt.plot(0,0,'yo', label='— Wendepunkt und Schnittpunkt mit X- und Y-Achse')\nplt.plot(1,-2,'ro', label='— Extremwerte')\nplt.plot(-1,2,'ro')\nplt.plot(-1,2,'ro')\nplt.plot(np.sqrt(3),0,'go', label='— Schnittpunkt mit X-Achse')\nplt.plot(-np.sqrt(3),0,'go')\nplt.legend(loc='best')\n\nplt.grid()\nplt.show()",
      "metadata": {
        "trusted": true
      },
      "outputs": [
        {
          "output_type": "display_data",
          "data": {
            "text/plain": "<Figure size 750x350 with 1 Axes>",
            "image/svg+xml": "<?xml version=\"1.0\" encoding=\"utf-8\" standalone=\"no\"?>\n<!DOCTYPE svg PUBLIC \"-//W3C//DTD SVG 1.1//EN\"\n  \"http://www.w3.org/Graphics/SVG/1.1/DTD/svg11.dtd\">\n<svg xmlns:xlink=\"http://www.w3.org/1999/xlink\" width=\"532.8pt\" height=\"244.8pt\" viewBox=\"0 0 532.8 244.8\" xmlns=\"http://www.w3.org/2000/svg\" version=\"1.1\">\n <metadata>\n  <rdf:RDF xmlns:dc=\"http://purl.org/dc/elements/1.1/\" xmlns:cc=\"http://creativecommons.org/ns#\" xmlns:rdf=\"http://www.w3.org/1999/02/22-rdf-syntax-ns#\">\n   <cc:Work>\n    <dc:type rdf:resource=\"http://purl.org/dc/dcmitype/StillImage\"/>\n    <dc:date>2024-03-08T20:31:23.369000</dc:date>\n    <dc:format>image/svg+xml</dc:format>\n    <dc:creator>\n     <cc:Agent>\n      <dc:title>Matplotlib v3.5.2, https://matplotlib.org/</dc:title>\n     </cc:Agent>\n    </dc:creator>\n   </cc:Work>\n  </rdf:RDF>\n </metadata>\n <defs>\n  <style type=\"text/css\">*{stroke-linejoin: round; stroke-linecap: butt}</style>\n </defs>\n <g id=\"figure_1\">\n  <g id=\"patch_1\">\n   <path d=\"M 0 244.8 \nL 532.8 244.8 \nL 532.8 0 \nL 0 0 \nz\n\" style=\"fill: #ffffff\"/>\n  </g>\n  <g id=\"axes_1\">\n   <g id=\"patch_2\">\n    <path d=\"M 27.192188 220.95 \nL 525.6 220.95 \nL 525.6 10.999219 \nL 27.192188 10.999219 \nz\n\" style=\"fill: #ffffff\"/>\n   </g>\n   <g id=\"matplotlib.axis_1\">\n    <g id=\"xtick_1\">\n     <g id=\"line2d_1\">\n      <path d=\"M 49.847088 220.95 \nL 49.847088 10.999219 \n\" clip-path=\"url(#p0da5c24739)\" style=\"fill: none; stroke: #b0b0b0; stroke-width: 0.8; stroke-linecap: square\"/>\n     </g>\n     <g id=\"line2d_2\">\n      <defs>\n       <path id=\"mc89f3ecf76\" d=\"M 0 1.75 \nL 0 -1.75 \n\" style=\"stroke: #000000; stroke-width: 0.8\"/>\n      </defs>\n      <g>\n       <use xlink:href=\"#mc89f3ecf76\" x=\"49.847088\" y=\"220.95\" style=\"stroke: #000000; stroke-width: 0.8\"/>\n      </g>\n     </g>\n     <g id=\"text_1\">\n      <!-- $-3$ -->\n      <g transform=\"translate(42.447088 233.798438)scale(0.1 -0.1)\">\n       <defs>\n        <path id=\"DejaVuSans-2212\" d=\"M 678 2272 \nL 4684 2272 \nL 4684 1741 \nL 678 1741 \nL 678 2272 \nz\n\" transform=\"scale(0.015625)\"/>\n        <path id=\"DejaVuSans-33\" d=\"M 2597 2516 \nQ 3050 2419 3304 2112 \nQ 3559 1806 3559 1356 \nQ 3559 666 3084 287 \nQ 2609 -91 1734 -91 \nQ 1441 -91 1130 -33 \nQ 819 25 488 141 \nL 488 750 \nQ 750 597 1062 519 \nQ 1375 441 1716 441 \nQ 2309 441 2620 675 \nQ 2931 909 2931 1356 \nQ 2931 1769 2642 2001 \nQ 2353 2234 1838 2234 \nL 1294 2234 \nL 1294 2753 \nL 1863 2753 \nQ 2328 2753 2575 2939 \nQ 2822 3125 2822 3475 \nQ 2822 3834 2567 4026 \nQ 2313 4219 1838 4219 \nQ 1578 4219 1281 4162 \nQ 984 4106 628 3988 \nL 628 4550 \nQ 988 4650 1302 4700 \nQ 1616 4750 1894 4750 \nQ 2613 4750 3031 4423 \nQ 3450 4097 3450 3541 \nQ 3450 3153 3228 2886 \nQ 3006 2619 2597 2516 \nz\n\" transform=\"scale(0.015625)\"/>\n       </defs>\n       <use xlink:href=\"#DejaVuSans-2212\" transform=\"translate(0 0.78125)\"/>\n       <use xlink:href=\"#DejaVuSans-33\" transform=\"translate(83.789062 0.78125)\"/>\n      </g>\n     </g>\n    </g>\n    <g id=\"xtick_2\">\n     <g id=\"line2d_3\">\n      <path d=\"M 145.597964 220.95 \nL 145.597964 10.999219 \n\" clip-path=\"url(#p0da5c24739)\" style=\"fill: none; stroke: #b0b0b0; stroke-width: 0.8; stroke-linecap: square\"/>\n     </g>\n     <g id=\"line2d_4\">\n      <g>\n       <use xlink:href=\"#mc89f3ecf76\" x=\"145.597964\" y=\"220.95\" style=\"stroke: #000000; stroke-width: 0.8\"/>\n      </g>\n     </g>\n     <g id=\"text_2\">\n      <!-- $-\\sqrt{3}$ -->\n      <g transform=\"translate(133.897964 235.520313)scale(0.1 -0.1)\">\n       <defs>\n        <path id=\"STIXSizeOneSym-Regular-221a\" d=\"M 6970 9933 \nL 3373 -1888 \nL 3104 -1888 \nL 1626 2918 \nQ 1555 3149 1465 3251 \nQ 1376 3354 1229 3354 \nQ 1011 3354 794 3181 \nL 717 3309 \nL 1766 4115 \nL 1926 4115 \nL 3379 -602 \nL 3405 -602 \nL 6605 9933 \nL 6970 9933 \nz\n\" transform=\"scale(0.015625)\"/>\n       </defs>\n       <use xlink:href=\"#DejaVuSans-2212\" transform=\"translate(0 0.296875)\"/>\n       <use xlink:href=\"#STIXSizeOneSym-Regular-221a\" transform=\"translate(83.789062 15.984375)scale(0.578716)\"/>\n       <use xlink:href=\"#DejaVuSans-33\" transform=\"translate(157.462936 0.53125)\"/>\n       <path d=\"M 144.962936 99.5 \nL 144.962936 105.75 \nL 233.585983 105.75 \nL 233.585983 99.5 \nL 144.962936 99.5 \nz\n\"/>\n      </g>\n     </g>\n    </g>\n    <g id=\"xtick_3\">\n     <g id=\"line2d_5\">\n      <path d=\"M 200.879759 220.95 \nL 200.879759 10.999219 \n\" clip-path=\"url(#p0da5c24739)\" style=\"fill: none; stroke: #b0b0b0; stroke-width: 0.8; stroke-linecap: square\"/>\n     </g>\n     <g id=\"line2d_6\">\n      <g>\n       <use xlink:href=\"#mc89f3ecf76\" x=\"200.879759\" y=\"220.95\" style=\"stroke: #000000; stroke-width: 0.8\"/>\n      </g>\n     </g>\n     <g id=\"text_3\">\n      <!-- $1$ -->\n      <g transform=\"translate(197.679759 233.798438)scale(0.1 -0.1)\">\n       <defs>\n        <path id=\"DejaVuSans-31\" d=\"M 794 531 \nL 1825 531 \nL 1825 4091 \nL 703 3866 \nL 703 4441 \nL 1819 4666 \nL 2450 4666 \nL 2450 531 \nL 3481 531 \nL 3481 0 \nL 794 0 \nL 794 531 \nz\n\" transform=\"scale(0.015625)\"/>\n       </defs>\n       <use xlink:href=\"#DejaVuSans-31\" transform=\"translate(0 0.09375)\"/>\n      </g>\n     </g>\n    </g>\n    <g id=\"xtick_4\">\n     <g id=\"line2d_7\">\n      <path d=\"M 276.396094 220.95 \nL 276.396094 10.999219 \n\" clip-path=\"url(#p0da5c24739)\" style=\"fill: none; stroke: #b0b0b0; stroke-width: 0.8; stroke-linecap: square\"/>\n     </g>\n     <g id=\"line2d_8\">\n      <g>\n       <use xlink:href=\"#mc89f3ecf76\" x=\"276.396094\" y=\"220.95\" style=\"stroke: #000000; stroke-width: 0.8\"/>\n      </g>\n     </g>\n     <g id=\"text_4\">\n      <!-- $0$ -->\n      <g transform=\"translate(273.196094 233.798438)scale(0.1 -0.1)\">\n       <defs>\n        <path id=\"DejaVuSans-30\" d=\"M 2034 4250 \nQ 1547 4250 1301 3770 \nQ 1056 3291 1056 2328 \nQ 1056 1369 1301 889 \nQ 1547 409 2034 409 \nQ 2525 409 2770 889 \nQ 3016 1369 3016 2328 \nQ 3016 3291 2770 3770 \nQ 2525 4250 2034 4250 \nz\nM 2034 4750 \nQ 2819 4750 3233 4129 \nQ 3647 3509 3647 2328 \nQ 3647 1150 3233 529 \nQ 2819 -91 2034 -91 \nQ 1250 -91 836 529 \nQ 422 1150 422 2328 \nQ 422 3509 836 4129 \nQ 1250 4750 2034 4750 \nz\n\" transform=\"scale(0.015625)\"/>\n       </defs>\n       <use xlink:href=\"#DejaVuSans-30\" transform=\"translate(0 0.78125)\"/>\n      </g>\n     </g>\n    </g>\n    <g id=\"xtick_5\">\n     <g id=\"line2d_9\">\n      <path d=\"M 351.912429 220.95 \nL 351.912429 10.999219 \n\" clip-path=\"url(#p0da5c24739)\" style=\"fill: none; stroke: #b0b0b0; stroke-width: 0.8; stroke-linecap: square\"/>\n     </g>\n     <g id=\"line2d_10\">\n      <g>\n       <use xlink:href=\"#mc89f3ecf76\" x=\"351.912429\" y=\"220.95\" style=\"stroke: #000000; stroke-width: 0.8\"/>\n      </g>\n     </g>\n     <g id=\"text_5\">\n      <!-- $-1$ -->\n      <g transform=\"translate(344.512429 233.798438)scale(0.1 -0.1)\">\n       <use xlink:href=\"#DejaVuSans-2212\" transform=\"translate(0 0.09375)\"/>\n       <use xlink:href=\"#DejaVuSans-31\" transform=\"translate(83.789062 0.09375)\"/>\n      </g>\n     </g>\n    </g>\n    <g id=\"xtick_6\">\n     <g id=\"line2d_11\">\n      <path d=\"M 407.194223 220.95 \nL 407.194223 10.999219 \n\" clip-path=\"url(#p0da5c24739)\" style=\"fill: none; stroke: #b0b0b0; stroke-width: 0.8; stroke-linecap: square\"/>\n     </g>\n     <g id=\"line2d_12\">\n      <g>\n       <use xlink:href=\"#mc89f3ecf76\" x=\"407.194223\" y=\"220.95\" style=\"stroke: #000000; stroke-width: 0.8\"/>\n      </g>\n     </g>\n     <g id=\"text_6\">\n      <!-- $\\sqrt{3}$ -->\n      <g transform=\"translate(399.694223 235.520313)scale(0.1 -0.1)\">\n       <use xlink:href=\"#STIXSizeOneSym-Regular-221a\" transform=\"translate(0 15.984375)scale(0.578716)\"/>\n       <use xlink:href=\"#DejaVuSans-33\" transform=\"translate(73.673874 0.53125)\"/>\n       <path d=\"M 61.173874 99.5 \nL 61.173874 105.75 \nL 149.796921 105.75 \nL 149.796921 99.5 \nL 61.173874 99.5 \nz\n\"/>\n      </g>\n     </g>\n    </g>\n    <g id=\"xtick_7\">\n     <g id=\"line2d_13\">\n      <path d=\"M 502.945099 220.95 \nL 502.945099 10.999219 \n\" clip-path=\"url(#p0da5c24739)\" style=\"fill: none; stroke: #b0b0b0; stroke-width: 0.8; stroke-linecap: square\"/>\n     </g>\n     <g id=\"line2d_14\">\n      <g>\n       <use xlink:href=\"#mc89f3ecf76\" x=\"502.945099\" y=\"220.95\" style=\"stroke: #000000; stroke-width: 0.8\"/>\n      </g>\n     </g>\n     <g id=\"text_7\">\n      <!-- $3$ -->\n      <g transform=\"translate(499.745099 233.798438)scale(0.1 -0.1)\">\n       <use xlink:href=\"#DejaVuSans-33\" transform=\"translate(0 0.78125)\"/>\n      </g>\n     </g>\n    </g>\n   </g>\n   <g id=\"matplotlib.axis_2\">\n    <g id=\"ytick_1\">\n     <g id=\"line2d_15\">\n      <path d=\"M 27.192188 220.95 \nL 525.6 220.95 \n\" clip-path=\"url(#p0da5c24739)\" style=\"fill: none; stroke: #b0b0b0; stroke-width: 0.8; stroke-linecap: square\"/>\n     </g>\n     <g id=\"line2d_16\">\n      <defs>\n       <path id=\"m8d1c15c0bc\" d=\"M 1.75 0 \nL -1.75 -0 \n\" style=\"stroke: #000000; stroke-width: 0.8\"/>\n      </defs>\n      <g>\n       <use xlink:href=\"#m8d1c15c0bc\" x=\"27.192188\" y=\"220.95\" style=\"stroke: #000000; stroke-width: 0.8\"/>\n      </g>\n     </g>\n     <g id=\"text_8\">\n      <!-- −6 -->\n      <g transform=\"translate(7.2 224.749219)scale(0.1 -0.1)\">\n       <defs>\n        <path id=\"DejaVuSans-36\" d=\"M 2113 2584 \nQ 1688 2584 1439 2293 \nQ 1191 2003 1191 1497 \nQ 1191 994 1439 701 \nQ 1688 409 2113 409 \nQ 2538 409 2786 701 \nQ 3034 994 3034 1497 \nQ 3034 2003 2786 2293 \nQ 2538 2584 2113 2584 \nz\nM 3366 4563 \nL 3366 3988 \nQ 3128 4100 2886 4159 \nQ 2644 4219 2406 4219 \nQ 1781 4219 1451 3797 \nQ 1122 3375 1075 2522 \nQ 1259 2794 1537 2939 \nQ 1816 3084 2150 3084 \nQ 2853 3084 3261 2657 \nQ 3669 2231 3669 1497 \nQ 3669 778 3244 343 \nQ 2819 -91 2113 -91 \nQ 1303 -91 875 529 \nQ 447 1150 447 2328 \nQ 447 3434 972 4092 \nQ 1497 4750 2381 4750 \nQ 2619 4750 2861 4703 \nQ 3103 4656 3366 4563 \nz\n\" transform=\"scale(0.015625)\"/>\n       </defs>\n       <use xlink:href=\"#DejaVuSans-2212\"/>\n       <use xlink:href=\"#DejaVuSans-36\" x=\"83.789062\"/>\n      </g>\n     </g>\n    </g>\n    <g id=\"ytick_2\">\n     <g id=\"line2d_17\">\n      <path d=\"M 27.192188 185.958203 \nL 525.6 185.958203 \n\" clip-path=\"url(#p0da5c24739)\" style=\"fill: none; stroke: #b0b0b0; stroke-width: 0.8; stroke-linecap: square\"/>\n     </g>\n     <g id=\"line2d_18\">\n      <g>\n       <use xlink:href=\"#m8d1c15c0bc\" x=\"27.192188\" y=\"185.958203\" style=\"stroke: #000000; stroke-width: 0.8\"/>\n      </g>\n     </g>\n     <g id=\"text_9\">\n      <!-- −4 -->\n      <g transform=\"translate(7.2 189.757422)scale(0.1 -0.1)\">\n       <defs>\n        <path id=\"DejaVuSans-34\" d=\"M 2419 4116 \nL 825 1625 \nL 2419 1625 \nL 2419 4116 \nz\nM 2253 4666 \nL 3047 4666 \nL 3047 1625 \nL 3713 1625 \nL 3713 1100 \nL 3047 1100 \nL 3047 0 \nL 2419 0 \nL 2419 1100 \nL 313 1100 \nL 313 1709 \nL 2253 4666 \nz\n\" transform=\"scale(0.015625)\"/>\n       </defs>\n       <use xlink:href=\"#DejaVuSans-2212\"/>\n       <use xlink:href=\"#DejaVuSans-34\" x=\"83.789062\"/>\n      </g>\n     </g>\n    </g>\n    <g id=\"ytick_3\">\n     <g id=\"line2d_19\">\n      <path d=\"M 27.192188 150.966406 \nL 525.6 150.966406 \n\" clip-path=\"url(#p0da5c24739)\" style=\"fill: none; stroke: #b0b0b0; stroke-width: 0.8; stroke-linecap: square\"/>\n     </g>\n     <g id=\"line2d_20\">\n      <g>\n       <use xlink:href=\"#m8d1c15c0bc\" x=\"27.192188\" y=\"150.966406\" style=\"stroke: #000000; stroke-width: 0.8\"/>\n      </g>\n     </g>\n     <g id=\"text_10\">\n      <!-- −2 -->\n      <g transform=\"translate(7.2 154.765625)scale(0.1 -0.1)\">\n       <defs>\n        <path id=\"DejaVuSans-32\" d=\"M 1228 531 \nL 3431 531 \nL 3431 0 \nL 469 0 \nL 469 531 \nQ 828 903 1448 1529 \nQ 2069 2156 2228 2338 \nQ 2531 2678 2651 2914 \nQ 2772 3150 2772 3378 \nQ 2772 3750 2511 3984 \nQ 2250 4219 1831 4219 \nQ 1534 4219 1204 4116 \nQ 875 4013 500 3803 \nL 500 4441 \nQ 881 4594 1212 4672 \nQ 1544 4750 1819 4750 \nQ 2544 4750 2975 4387 \nQ 3406 4025 3406 3419 \nQ 3406 3131 3298 2873 \nQ 3191 2616 2906 2266 \nQ 2828 2175 2409 1742 \nQ 1991 1309 1228 531 \nz\n\" transform=\"scale(0.015625)\"/>\n       </defs>\n       <use xlink:href=\"#DejaVuSans-2212\"/>\n       <use xlink:href=\"#DejaVuSans-32\" x=\"83.789062\"/>\n      </g>\n     </g>\n    </g>\n    <g id=\"ytick_4\">\n     <g id=\"line2d_21\">\n      <path d=\"M 27.192188 115.974609 \nL 525.6 115.974609 \n\" clip-path=\"url(#p0da5c24739)\" style=\"fill: none; stroke: #b0b0b0; stroke-width: 0.8; stroke-linecap: square\"/>\n     </g>\n     <g id=\"line2d_22\">\n      <g>\n       <use xlink:href=\"#m8d1c15c0bc\" x=\"27.192188\" y=\"115.974609\" style=\"stroke: #000000; stroke-width: 0.8\"/>\n      </g>\n     </g>\n     <g id=\"text_11\">\n      <!-- 0 -->\n      <g transform=\"translate(15.579688 119.773828)scale(0.1 -0.1)\">\n       <use xlink:href=\"#DejaVuSans-30\"/>\n      </g>\n     </g>\n    </g>\n    <g id=\"ytick_5\">\n     <g id=\"line2d_23\">\n      <path d=\"M 27.192188 80.982812 \nL 525.6 80.982812 \n\" clip-path=\"url(#p0da5c24739)\" style=\"fill: none; stroke: #b0b0b0; stroke-width: 0.8; stroke-linecap: square\"/>\n     </g>\n     <g id=\"line2d_24\">\n      <g>\n       <use xlink:href=\"#m8d1c15c0bc\" x=\"27.192188\" y=\"80.982812\" style=\"stroke: #000000; stroke-width: 0.8\"/>\n      </g>\n     </g>\n     <g id=\"text_12\">\n      <!-- 2 -->\n      <g transform=\"translate(15.579688 84.782031)scale(0.1 -0.1)\">\n       <use xlink:href=\"#DejaVuSans-32\"/>\n      </g>\n     </g>\n    </g>\n    <g id=\"ytick_6\">\n     <g id=\"line2d_25\">\n      <path d=\"M 27.192188 45.991016 \nL 525.6 45.991016 \n\" clip-path=\"url(#p0da5c24739)\" style=\"fill: none; stroke: #b0b0b0; stroke-width: 0.8; stroke-linecap: square\"/>\n     </g>\n     <g id=\"line2d_26\">\n      <g>\n       <use xlink:href=\"#m8d1c15c0bc\" x=\"27.192188\" y=\"45.991016\" style=\"stroke: #000000; stroke-width: 0.8\"/>\n      </g>\n     </g>\n     <g id=\"text_13\">\n      <!-- 4 -->\n      <g transform=\"translate(15.579688 49.790234)scale(0.1 -0.1)\">\n       <use xlink:href=\"#DejaVuSans-34\"/>\n      </g>\n     </g>\n    </g>\n    <g id=\"ytick_7\">\n     <g id=\"line2d_27\">\n      <path d=\"M 27.192188 10.999219 \nL 525.6 10.999219 \n\" clip-path=\"url(#p0da5c24739)\" style=\"fill: none; stroke: #b0b0b0; stroke-width: 0.8; stroke-linecap: square\"/>\n     </g>\n     <g id=\"line2d_28\">\n      <g>\n       <use xlink:href=\"#m8d1c15c0bc\" x=\"27.192188\" y=\"10.999219\" style=\"stroke: #000000; stroke-width: 0.8\"/>\n      </g>\n     </g>\n     <g id=\"text_14\">\n      <!-- 6 -->\n      <g transform=\"translate(15.579688 14.798437)scale(0.1 -0.1)\">\n       <use xlink:href=\"#DejaVuSans-36\"/>\n      </g>\n     </g>\n    </g>\n   </g>\n   <g id=\"line2d_29\">\n    <path d=\"M 91.058815 245.8 \nL 94.748693 233.221618 \nL 98.830657 220.009111 \nL 102.912621 207.517814 \nL 106.994585 195.731147 \nL 111.076549 184.632531 \nL 115.158513 174.205386 \nL 119.240477 164.433133 \nL 122.86889 156.283067 \nL 126.497302 148.625703 \nL 130.125715 141.449396 \nL 133.754127 134.7425 \nL 137.38254 128.493373 \nL 141.010952 122.69037 \nL 144.639365 117.321845 \nL 148.267777 112.376156 \nL 151.89619 107.841657 \nL 155.071051 104.202122 \nL 158.245912 100.860688 \nL 161.420773 97.809555 \nL 164.595633 95.040923 \nL 167.770494 92.54699 \nL 170.945355 90.319956 \nL 174.120216 88.352019 \nL 177.295077 86.63538 \nL 180.469938 85.162237 \nL 183.644799 83.924789 \nL 186.81966 82.915236 \nL 189.994521 82.125777 \nL 193.169382 81.548611 \nL 196.344243 81.175937 \nL 199.972655 80.990416 \nL 203.601068 81.050154 \nL 207.22948 81.343506 \nL 210.857893 81.858829 \nL 214.486305 82.584477 \nL 218.568269 83.637738 \nL 222.650234 84.925876 \nL 227.185749 86.612447 \nL 231.721265 88.545779 \nL 236.710332 90.930307 \nL 241.699399 93.555626 \nL 247.142018 96.658659 \nL 253.49174 100.543084 \nL 260.748565 105.254431 \nL 270.273148 111.728176 \nL 293.857829 127.895094 \nL 301.114654 132.54167 \nL 307.464376 136.350315 \nL 312.906995 139.374204 \nL 317.896062 141.915465 \nL 322.885129 144.204928 \nL 327.420645 146.042285 \nL 331.502609 147.477796 \nL 335.584573 148.689484 \nL 339.666537 149.660768 \nL 343.294949 150.308909 \nL 346.923362 150.742357 \nL 350.551774 150.949469 \nL 354.180187 150.918599 \nL 357.808599 150.638104 \nL 360.98346 150.178746 \nL 364.158321 149.511552 \nL 367.333182 148.628722 \nL 370.508043 147.522455 \nL 373.682904 146.184951 \nL 376.857765 144.608407 \nL 380.032626 142.785024 \nL 383.207487 140.707001 \nL 386.382348 138.366537 \nL 389.557209 135.755831 \nL 392.73207 132.867082 \nL 395.906931 129.69249 \nL 399.081792 126.224253 \nL 402.256652 122.454572 \nL 405.431513 118.375644 \nL 409.059926 113.325338 \nL 412.688338 107.849286 \nL 416.316751 101.935843 \nL 419.945163 95.573365 \nL 423.573576 88.750208 \nL 427.201988 81.454728 \nL 430.830401 73.675281 \nL 434.458813 65.400221 \nL 438.087226 56.617905 \nL 442.16919 46.11697 \nL 446.251154 34.942723 \nL 450.333118 23.078582 \nL 454.415082 10.50797 \nL 457.961359 -1 \nL 457.961359 -1 \n\" clip-path=\"url(#p0da5c24739)\" style=\"fill: none; stroke: #0000ff; stroke-width: 1.5; stroke-linecap: square\"/>\n   </g>\n   <g id=\"line2d_30\">\n    <path d=\"M 27.192188 115.974609 \nL 525.6 115.974609 \n\" clip-path=\"url(#p0da5c24739)\" style=\"fill: none; stroke: #1f77b4; stroke-width: 1.5; stroke-linecap: square\"/>\n   </g>\n   <g id=\"line2d_31\">\n    <path d=\"M 276.396094 220.95 \nL 276.396094 10.999219 \n\" clip-path=\"url(#p0da5c24739)\" style=\"fill: none; stroke: #1f77b4; stroke-width: 1.5; stroke-linecap: square\"/>\n   </g>\n   <g id=\"line2d_32\">\n    <path d=\"M 27.192188 115.974609 \nL 525.6 115.974609 \n\" clip-path=\"url(#p0da5c24739)\" style=\"fill: none; stroke: #000000; stroke-width: 0.5; stroke-linecap: square\"/>\n   </g>\n   <g id=\"line2d_33\">\n    <path d=\"M 276.396094 220.95 \nL 276.396094 10.999219 \n\" clip-path=\"url(#p0da5c24739)\" style=\"fill: none; stroke: #000000; stroke-width: 0.5; stroke-linecap: square\"/>\n   </g>\n   <g id=\"line2d_34\">\n    <defs>\n     <path id=\"m4d359e875d\" d=\"M 0 3 \nC 0.795609 3 1.55874 2.683901 2.12132 2.12132 \nC 2.683901 1.55874 3 0.795609 3 0 \nC 3 -0.795609 2.683901 -1.55874 2.12132 -2.12132 \nC 1.55874 -2.683901 0.795609 -3 0 -3 \nC -0.795609 -3 -1.55874 -2.683901 -2.12132 -2.12132 \nC -2.683901 -1.55874 -3 -0.795609 -3 0 \nC -3 0.795609 -2.683901 1.55874 -2.12132 2.12132 \nC -1.55874 2.683901 -0.795609 3 0 3 \nz\n\" style=\"stroke: #bfbf00\"/>\n    </defs>\n    <g clip-path=\"url(#p0da5c24739)\">\n     <use xlink:href=\"#m4d359e875d\" x=\"276.396094\" y=\"115.974609\" style=\"fill: #bfbf00; stroke: #bfbf00\"/>\n    </g>\n   </g>\n   <g id=\"line2d_35\">\n    <defs>\n     <path id=\"m3cae2e6add\" d=\"M 0 3 \nC 0.795609 3 1.55874 2.683901 2.12132 2.12132 \nC 2.683901 1.55874 3 0.795609 3 0 \nC 3 -0.795609 2.683901 -1.55874 2.12132 -2.12132 \nC 1.55874 -2.683901 0.795609 -3 0 -3 \nC -0.795609 -3 -1.55874 -2.683901 -2.12132 -2.12132 \nC -2.683901 -1.55874 -3 -0.795609 -3 0 \nC -3 0.795609 -2.683901 1.55874 -2.12132 2.12132 \nC -1.55874 2.683901 -0.795609 3 0 3 \nz\n\" style=\"stroke: #ff0000\"/>\n    </defs>\n    <g clip-path=\"url(#p0da5c24739)\">\n     <use xlink:href=\"#m3cae2e6add\" x=\"351.912429\" y=\"150.966406\" style=\"fill: #ff0000; stroke: #ff0000\"/>\n    </g>\n   </g>\n   <g id=\"line2d_36\">\n    <g clip-path=\"url(#p0da5c24739)\">\n     <use xlink:href=\"#m3cae2e6add\" x=\"200.879759\" y=\"80.982812\" style=\"fill: #ff0000; stroke: #ff0000\"/>\n    </g>\n   </g>\n   <g id=\"line2d_37\">\n    <g clip-path=\"url(#p0da5c24739)\">\n     <use xlink:href=\"#m3cae2e6add\" x=\"200.879759\" y=\"80.982812\" style=\"fill: #ff0000; stroke: #ff0000\"/>\n    </g>\n   </g>\n   <g id=\"line2d_38\">\n    <defs>\n     <path id=\"mf0b84f2887\" d=\"M 0 3 \nC 0.795609 3 1.55874 2.683901 2.12132 2.12132 \nC 2.683901 1.55874 3 0.795609 3 0 \nC 3 -0.795609 2.683901 -1.55874 2.12132 -2.12132 \nC 1.55874 -2.683901 0.795609 -3 0 -3 \nC -0.795609 -3 -1.55874 -2.683901 -2.12132 -2.12132 \nC -2.683901 -1.55874 -3 -0.795609 -3 0 \nC -3 0.795609 -2.683901 1.55874 -2.12132 2.12132 \nC -1.55874 2.683901 -0.795609 3 0 3 \nz\n\" style=\"stroke: #008000\"/>\n    </defs>\n    <g clip-path=\"url(#p0da5c24739)\">\n     <use xlink:href=\"#mf0b84f2887\" x=\"407.194223\" y=\"115.974609\" style=\"fill: #008000; stroke: #008000\"/>\n    </g>\n   </g>\n   <g id=\"line2d_39\">\n    <g clip-path=\"url(#p0da5c24739)\">\n     <use xlink:href=\"#mf0b84f2887\" x=\"145.597964\" y=\"115.974609\" style=\"fill: #008000; stroke: #008000\"/>\n    </g>\n   </g>\n   <g id=\"patch_3\">\n    <path d=\"M 27.192188 220.95 \nL 27.192188 10.999219 \n\" style=\"fill: none; stroke: #000000; stroke-width: 0.8; stroke-linejoin: miter; stroke-linecap: square\"/>\n   </g>\n   <g id=\"patch_4\">\n    <path d=\"M 525.6 220.95 \nL 525.6 10.999219 \n\" style=\"fill: none; stroke: #000000; stroke-width: 0.8; stroke-linejoin: miter; stroke-linecap: square\"/>\n   </g>\n   <g id=\"patch_5\">\n    <path d=\"M 27.192188 220.95 \nL 525.6 220.95 \n\" style=\"fill: none; stroke: #000000; stroke-width: 0.8; stroke-linejoin: miter; stroke-linecap: square\"/>\n   </g>\n   <g id=\"patch_6\">\n    <path d=\"M 27.192188 10.999219 \nL 525.6 10.999219 \n\" style=\"fill: none; stroke: #000000; stroke-width: 0.8; stroke-linejoin: miter; stroke-linecap: square\"/>\n   </g>\n   <g id=\"legend_1\">\n    <g id=\"patch_7\">\n     <path d=\"M 34.192188 63.033594 \nL 327.951563 63.033594 \nQ 329.951563 63.033594 329.951563 61.033594 \nL 329.951563 17.999219 \nQ 329.951563 15.999219 327.951563 15.999219 \nL 34.192188 15.999219 \nQ 32.192188 15.999219 32.192188 17.999219 \nL 32.192188 61.033594 \nQ 32.192188 63.033594 34.192188 63.033594 \nz\n\" style=\"fill: #ffffff; opacity: 0.8; stroke: #cccccc; stroke-linejoin: miter\"/>\n    </g>\n    <g id=\"line2d_40\">\n     <g>\n      <use xlink:href=\"#m4d359e875d\" x=\"46.192188\" y=\"24.097656\" style=\"fill: #bfbf00; stroke: #bfbf00\"/>\n     </g>\n    </g>\n    <g id=\"text_15\">\n     <!-- — Wendepunkt und Schnittpunkt mit X- und Y-Achse -->\n     <g transform=\"translate(64.192188 27.597656)scale(0.1 -0.1)\">\n      <defs>\n       <path id=\"DejaVuSans-2014\" d=\"M 313 1978 \nL 6088 1978 \nL 6088 1528 \nL 313 1528 \nL 313 1978 \nz\n\" transform=\"scale(0.015625)\"/>\n       <path id=\"DejaVuSans-20\" transform=\"scale(0.015625)\"/>\n       <path id=\"DejaVuSans-57\" d=\"M 213 4666 \nL 850 4666 \nL 1831 722 \nL 2809 4666 \nL 3519 4666 \nL 4500 722 \nL 5478 4666 \nL 6119 4666 \nL 4947 0 \nL 4153 0 \nL 3169 4050 \nL 2175 0 \nL 1381 0 \nL 213 4666 \nz\n\" transform=\"scale(0.015625)\"/>\n       <path id=\"DejaVuSans-65\" d=\"M 3597 1894 \nL 3597 1613 \nL 953 1613 \nQ 991 1019 1311 708 \nQ 1631 397 2203 397 \nQ 2534 397 2845 478 \nQ 3156 559 3463 722 \nL 3463 178 \nQ 3153 47 2828 -22 \nQ 2503 -91 2169 -91 \nQ 1331 -91 842 396 \nQ 353 884 353 1716 \nQ 353 2575 817 3079 \nQ 1281 3584 2069 3584 \nQ 2775 3584 3186 3129 \nQ 3597 2675 3597 1894 \nz\nM 3022 2063 \nQ 3016 2534 2758 2815 \nQ 2500 3097 2075 3097 \nQ 1594 3097 1305 2825 \nQ 1016 2553 972 2059 \nL 3022 2063 \nz\n\" transform=\"scale(0.015625)\"/>\n       <path id=\"DejaVuSans-6e\" d=\"M 3513 2113 \nL 3513 0 \nL 2938 0 \nL 2938 2094 \nQ 2938 2591 2744 2837 \nQ 2550 3084 2163 3084 \nQ 1697 3084 1428 2787 \nQ 1159 2491 1159 1978 \nL 1159 0 \nL 581 0 \nL 581 3500 \nL 1159 3500 \nL 1159 2956 \nQ 1366 3272 1645 3428 \nQ 1925 3584 2291 3584 \nQ 2894 3584 3203 3211 \nQ 3513 2838 3513 2113 \nz\n\" transform=\"scale(0.015625)\"/>\n       <path id=\"DejaVuSans-64\" d=\"M 2906 2969 \nL 2906 4863 \nL 3481 4863 \nL 3481 0 \nL 2906 0 \nL 2906 525 \nQ 2725 213 2448 61 \nQ 2172 -91 1784 -91 \nQ 1150 -91 751 415 \nQ 353 922 353 1747 \nQ 353 2572 751 3078 \nQ 1150 3584 1784 3584 \nQ 2172 3584 2448 3432 \nQ 2725 3281 2906 2969 \nz\nM 947 1747 \nQ 947 1113 1208 752 \nQ 1469 391 1925 391 \nQ 2381 391 2643 752 \nQ 2906 1113 2906 1747 \nQ 2906 2381 2643 2742 \nQ 2381 3103 1925 3103 \nQ 1469 3103 1208 2742 \nQ 947 2381 947 1747 \nz\n\" transform=\"scale(0.015625)\"/>\n       <path id=\"DejaVuSans-70\" d=\"M 1159 525 \nL 1159 -1331 \nL 581 -1331 \nL 581 3500 \nL 1159 3500 \nL 1159 2969 \nQ 1341 3281 1617 3432 \nQ 1894 3584 2278 3584 \nQ 2916 3584 3314 3078 \nQ 3713 2572 3713 1747 \nQ 3713 922 3314 415 \nQ 2916 -91 2278 -91 \nQ 1894 -91 1617 61 \nQ 1341 213 1159 525 \nz\nM 3116 1747 \nQ 3116 2381 2855 2742 \nQ 2594 3103 2138 3103 \nQ 1681 3103 1420 2742 \nQ 1159 2381 1159 1747 \nQ 1159 1113 1420 752 \nQ 1681 391 2138 391 \nQ 2594 391 2855 752 \nQ 3116 1113 3116 1747 \nz\n\" transform=\"scale(0.015625)\"/>\n       <path id=\"DejaVuSans-75\" d=\"M 544 1381 \nL 544 3500 \nL 1119 3500 \nL 1119 1403 \nQ 1119 906 1312 657 \nQ 1506 409 1894 409 \nQ 2359 409 2629 706 \nQ 2900 1003 2900 1516 \nL 2900 3500 \nL 3475 3500 \nL 3475 0 \nL 2900 0 \nL 2900 538 \nQ 2691 219 2414 64 \nQ 2138 -91 1772 -91 \nQ 1169 -91 856 284 \nQ 544 659 544 1381 \nz\nM 1991 3584 \nL 1991 3584 \nz\n\" transform=\"scale(0.015625)\"/>\n       <path id=\"DejaVuSans-6b\" d=\"M 581 4863 \nL 1159 4863 \nL 1159 1991 \nL 2875 3500 \nL 3609 3500 \nL 1753 1863 \nL 3688 0 \nL 2938 0 \nL 1159 1709 \nL 1159 0 \nL 581 0 \nL 581 4863 \nz\n\" transform=\"scale(0.015625)\"/>\n       <path id=\"DejaVuSans-74\" d=\"M 1172 4494 \nL 1172 3500 \nL 2356 3500 \nL 2356 3053 \nL 1172 3053 \nL 1172 1153 \nQ 1172 725 1289 603 \nQ 1406 481 1766 481 \nL 2356 481 \nL 2356 0 \nL 1766 0 \nQ 1100 0 847 248 \nQ 594 497 594 1153 \nL 594 3053 \nL 172 3053 \nL 172 3500 \nL 594 3500 \nL 594 4494 \nL 1172 4494 \nz\n\" transform=\"scale(0.015625)\"/>\n       <path id=\"DejaVuSans-53\" d=\"M 3425 4513 \nL 3425 3897 \nQ 3066 4069 2747 4153 \nQ 2428 4238 2131 4238 \nQ 1616 4238 1336 4038 \nQ 1056 3838 1056 3469 \nQ 1056 3159 1242 3001 \nQ 1428 2844 1947 2747 \nL 2328 2669 \nQ 3034 2534 3370 2195 \nQ 3706 1856 3706 1288 \nQ 3706 609 3251 259 \nQ 2797 -91 1919 -91 \nQ 1588 -91 1214 -16 \nQ 841 59 441 206 \nL 441 856 \nQ 825 641 1194 531 \nQ 1563 422 1919 422 \nQ 2459 422 2753 634 \nQ 3047 847 3047 1241 \nQ 3047 1584 2836 1778 \nQ 2625 1972 2144 2069 \nL 1759 2144 \nQ 1053 2284 737 2584 \nQ 422 2884 422 3419 \nQ 422 4038 858 4394 \nQ 1294 4750 2059 4750 \nQ 2388 4750 2728 4690 \nQ 3069 4631 3425 4513 \nz\n\" transform=\"scale(0.015625)\"/>\n       <path id=\"DejaVuSans-63\" d=\"M 3122 3366 \nL 3122 2828 \nQ 2878 2963 2633 3030 \nQ 2388 3097 2138 3097 \nQ 1578 3097 1268 2742 \nQ 959 2388 959 1747 \nQ 959 1106 1268 751 \nQ 1578 397 2138 397 \nQ 2388 397 2633 464 \nQ 2878 531 3122 666 \nL 3122 134 \nQ 2881 22 2623 -34 \nQ 2366 -91 2075 -91 \nQ 1284 -91 818 406 \nQ 353 903 353 1747 \nQ 353 2603 823 3093 \nQ 1294 3584 2113 3584 \nQ 2378 3584 2631 3529 \nQ 2884 3475 3122 3366 \nz\n\" transform=\"scale(0.015625)\"/>\n       <path id=\"DejaVuSans-68\" d=\"M 3513 2113 \nL 3513 0 \nL 2938 0 \nL 2938 2094 \nQ 2938 2591 2744 2837 \nQ 2550 3084 2163 3084 \nQ 1697 3084 1428 2787 \nQ 1159 2491 1159 1978 \nL 1159 0 \nL 581 0 \nL 581 4863 \nL 1159 4863 \nL 1159 2956 \nQ 1366 3272 1645 3428 \nQ 1925 3584 2291 3584 \nQ 2894 3584 3203 3211 \nQ 3513 2838 3513 2113 \nz\n\" transform=\"scale(0.015625)\"/>\n       <path id=\"DejaVuSans-69\" d=\"M 603 3500 \nL 1178 3500 \nL 1178 0 \nL 603 0 \nL 603 3500 \nz\nM 603 4863 \nL 1178 4863 \nL 1178 4134 \nL 603 4134 \nL 603 4863 \nz\n\" transform=\"scale(0.015625)\"/>\n       <path id=\"DejaVuSans-6d\" d=\"M 3328 2828 \nQ 3544 3216 3844 3400 \nQ 4144 3584 4550 3584 \nQ 5097 3584 5394 3201 \nQ 5691 2819 5691 2113 \nL 5691 0 \nL 5113 0 \nL 5113 2094 \nQ 5113 2597 4934 2840 \nQ 4756 3084 4391 3084 \nQ 3944 3084 3684 2787 \nQ 3425 2491 3425 1978 \nL 3425 0 \nL 2847 0 \nL 2847 2094 \nQ 2847 2600 2669 2842 \nQ 2491 3084 2119 3084 \nQ 1678 3084 1418 2786 \nQ 1159 2488 1159 1978 \nL 1159 0 \nL 581 0 \nL 581 3500 \nL 1159 3500 \nL 1159 2956 \nQ 1356 3278 1631 3431 \nQ 1906 3584 2284 3584 \nQ 2666 3584 2933 3390 \nQ 3200 3197 3328 2828 \nz\n\" transform=\"scale(0.015625)\"/>\n       <path id=\"DejaVuSans-58\" d=\"M 403 4666 \nL 1081 4666 \nL 2241 2931 \nL 3406 4666 \nL 4084 4666 \nL 2584 2425 \nL 4184 0 \nL 3506 0 \nL 2194 1984 \nL 872 0 \nL 191 0 \nL 1856 2491 \nL 403 4666 \nz\n\" transform=\"scale(0.015625)\"/>\n       <path id=\"DejaVuSans-2d\" d=\"M 313 2009 \nL 1997 2009 \nL 1997 1497 \nL 313 1497 \nL 313 2009 \nz\n\" transform=\"scale(0.015625)\"/>\n       <path id=\"DejaVuSans-59\" d=\"M -13 4666 \nL 666 4666 \nL 1959 2747 \nL 3244 4666 \nL 3922 4666 \nL 2272 2222 \nL 2272 0 \nL 1638 0 \nL 1638 2222 \nL -13 4666 \nz\n\" transform=\"scale(0.015625)\"/>\n       <path id=\"DejaVuSans-41\" d=\"M 2188 4044 \nL 1331 1722 \nL 3047 1722 \nL 2188 4044 \nz\nM 1831 4666 \nL 2547 4666 \nL 4325 0 \nL 3669 0 \nL 3244 1197 \nL 1141 1197 \nL 716 0 \nL 50 0 \nL 1831 4666 \nz\n\" transform=\"scale(0.015625)\"/>\n       <path id=\"DejaVuSans-73\" d=\"M 2834 3397 \nL 2834 2853 \nQ 2591 2978 2328 3040 \nQ 2066 3103 1784 3103 \nQ 1356 3103 1142 2972 \nQ 928 2841 928 2578 \nQ 928 2378 1081 2264 \nQ 1234 2150 1697 2047 \nL 1894 2003 \nQ 2506 1872 2764 1633 \nQ 3022 1394 3022 966 \nQ 3022 478 2636 193 \nQ 2250 -91 1575 -91 \nQ 1294 -91 989 -36 \nQ 684 19 347 128 \nL 347 722 \nQ 666 556 975 473 \nQ 1284 391 1588 391 \nQ 1994 391 2212 530 \nQ 2431 669 2431 922 \nQ 2431 1156 2273 1281 \nQ 2116 1406 1581 1522 \nL 1381 1569 \nQ 847 1681 609 1914 \nQ 372 2147 372 2553 \nQ 372 3047 722 3315 \nQ 1072 3584 1716 3584 \nQ 2034 3584 2315 3537 \nQ 2597 3491 2834 3397 \nz\n\" transform=\"scale(0.015625)\"/>\n      </defs>\n      <use xlink:href=\"#DejaVuSans-2014\"/>\n      <use xlink:href=\"#DejaVuSans-20\" x=\"100\"/>\n      <use xlink:href=\"#DejaVuSans-57\" x=\"131.787109\"/>\n      <use xlink:href=\"#DejaVuSans-65\" x=\"224.789062\"/>\n      <use xlink:href=\"#DejaVuSans-6e\" x=\"286.3125\"/>\n      <use xlink:href=\"#DejaVuSans-64\" x=\"349.691406\"/>\n      <use xlink:href=\"#DejaVuSans-65\" x=\"413.167969\"/>\n      <use xlink:href=\"#DejaVuSans-70\" x=\"474.691406\"/>\n      <use xlink:href=\"#DejaVuSans-75\" x=\"538.167969\"/>\n      <use xlink:href=\"#DejaVuSans-6e\" x=\"601.546875\"/>\n      <use xlink:href=\"#DejaVuSans-6b\" x=\"664.925781\"/>\n      <use xlink:href=\"#DejaVuSans-74\" x=\"722.835938\"/>\n      <use xlink:href=\"#DejaVuSans-20\" x=\"762.044922\"/>\n      <use xlink:href=\"#DejaVuSans-75\" x=\"793.832031\"/>\n      <use xlink:href=\"#DejaVuSans-6e\" x=\"857.210938\"/>\n      <use xlink:href=\"#DejaVuSans-64\" x=\"920.589844\"/>\n      <use xlink:href=\"#DejaVuSans-20\" x=\"984.066406\"/>\n      <use xlink:href=\"#DejaVuSans-53\" x=\"1015.853516\"/>\n      <use xlink:href=\"#DejaVuSans-63\" x=\"1079.330078\"/>\n      <use xlink:href=\"#DejaVuSans-68\" x=\"1134.310547\"/>\n      <use xlink:href=\"#DejaVuSans-6e\" x=\"1197.689453\"/>\n      <use xlink:href=\"#DejaVuSans-69\" x=\"1261.068359\"/>\n      <use xlink:href=\"#DejaVuSans-74\" x=\"1288.851562\"/>\n      <use xlink:href=\"#DejaVuSans-74\" x=\"1328.060547\"/>\n      <use xlink:href=\"#DejaVuSans-70\" x=\"1367.269531\"/>\n      <use xlink:href=\"#DejaVuSans-75\" x=\"1430.746094\"/>\n      <use xlink:href=\"#DejaVuSans-6e\" x=\"1494.125\"/>\n      <use xlink:href=\"#DejaVuSans-6b\" x=\"1557.503906\"/>\n      <use xlink:href=\"#DejaVuSans-74\" x=\"1615.414062\"/>\n      <use xlink:href=\"#DejaVuSans-20\" x=\"1654.623047\"/>\n      <use xlink:href=\"#DejaVuSans-6d\" x=\"1686.410156\"/>\n      <use xlink:href=\"#DejaVuSans-69\" x=\"1783.822266\"/>\n      <use xlink:href=\"#DejaVuSans-74\" x=\"1811.605469\"/>\n      <use xlink:href=\"#DejaVuSans-20\" x=\"1850.814453\"/>\n      <use xlink:href=\"#DejaVuSans-58\" x=\"1882.601562\"/>\n      <use xlink:href=\"#DejaVuSans-2d\" x=\"1946.107422\"/>\n      <use xlink:href=\"#DejaVuSans-20\" x=\"1982.191406\"/>\n      <use xlink:href=\"#DejaVuSans-75\" x=\"2013.978516\"/>\n      <use xlink:href=\"#DejaVuSans-6e\" x=\"2077.357422\"/>\n      <use xlink:href=\"#DejaVuSans-64\" x=\"2140.736328\"/>\n      <use xlink:href=\"#DejaVuSans-20\" x=\"2204.212891\"/>\n      <use xlink:href=\"#DejaVuSans-59\" x=\"2236\"/>\n      <use xlink:href=\"#DejaVuSans-2d\" x=\"2285.208984\"/>\n      <use xlink:href=\"#DejaVuSans-41\" x=\"2319.042969\"/>\n      <use xlink:href=\"#DejaVuSans-63\" x=\"2385.701172\"/>\n      <use xlink:href=\"#DejaVuSans-68\" x=\"2440.681641\"/>\n      <use xlink:href=\"#DejaVuSans-73\" x=\"2504.060547\"/>\n      <use xlink:href=\"#DejaVuSans-65\" x=\"2556.160156\"/>\n     </g>\n    </g>\n    <g id=\"line2d_41\">\n     <g>\n      <use xlink:href=\"#m3cae2e6add\" x=\"46.192188\" y=\"38.775781\" style=\"fill: #ff0000; stroke: #ff0000\"/>\n     </g>\n    </g>\n    <g id=\"text_16\">\n     <!-- — Extremwerte -->\n     <g transform=\"translate(64.192188 42.275781)scale(0.1 -0.1)\">\n      <defs>\n       <path id=\"DejaVuSans-45\" d=\"M 628 4666 \nL 3578 4666 \nL 3578 4134 \nL 1259 4134 \nL 1259 2753 \nL 3481 2753 \nL 3481 2222 \nL 1259 2222 \nL 1259 531 \nL 3634 531 \nL 3634 0 \nL 628 0 \nL 628 4666 \nz\n\" transform=\"scale(0.015625)\"/>\n       <path id=\"DejaVuSans-78\" d=\"M 3513 3500 \nL 2247 1797 \nL 3578 0 \nL 2900 0 \nL 1881 1375 \nL 863 0 \nL 184 0 \nL 1544 1831 \nL 300 3500 \nL 978 3500 \nL 1906 2253 \nL 2834 3500 \nL 3513 3500 \nz\n\" transform=\"scale(0.015625)\"/>\n       <path id=\"DejaVuSans-72\" d=\"M 2631 2963 \nQ 2534 3019 2420 3045 \nQ 2306 3072 2169 3072 \nQ 1681 3072 1420 2755 \nQ 1159 2438 1159 1844 \nL 1159 0 \nL 581 0 \nL 581 3500 \nL 1159 3500 \nL 1159 2956 \nQ 1341 3275 1631 3429 \nQ 1922 3584 2338 3584 \nQ 2397 3584 2469 3576 \nQ 2541 3569 2628 3553 \nL 2631 2963 \nz\n\" transform=\"scale(0.015625)\"/>\n       <path id=\"DejaVuSans-77\" d=\"M 269 3500 \nL 844 3500 \nL 1563 769 \nL 2278 3500 \nL 2956 3500 \nL 3675 769 \nL 4391 3500 \nL 4966 3500 \nL 4050 0 \nL 3372 0 \nL 2619 2869 \nL 1863 0 \nL 1184 0 \nL 269 3500 \nz\n\" transform=\"scale(0.015625)\"/>\n      </defs>\n      <use xlink:href=\"#DejaVuSans-2014\"/>\n      <use xlink:href=\"#DejaVuSans-20\" x=\"100\"/>\n      <use xlink:href=\"#DejaVuSans-45\" x=\"131.787109\"/>\n      <use xlink:href=\"#DejaVuSans-78\" x=\"194.970703\"/>\n      <use xlink:href=\"#DejaVuSans-74\" x=\"254.150391\"/>\n      <use xlink:href=\"#DejaVuSans-72\" x=\"293.359375\"/>\n      <use xlink:href=\"#DejaVuSans-65\" x=\"332.222656\"/>\n      <use xlink:href=\"#DejaVuSans-6d\" x=\"393.746094\"/>\n      <use xlink:href=\"#DejaVuSans-77\" x=\"491.158203\"/>\n      <use xlink:href=\"#DejaVuSans-65\" x=\"572.945312\"/>\n      <use xlink:href=\"#DejaVuSans-72\" x=\"634.46875\"/>\n      <use xlink:href=\"#DejaVuSans-74\" x=\"675.582031\"/>\n      <use xlink:href=\"#DejaVuSans-65\" x=\"714.791016\"/>\n     </g>\n    </g>\n    <g id=\"line2d_42\">\n     <g>\n      <use xlink:href=\"#mf0b84f2887\" x=\"46.192188\" y=\"53.453906\" style=\"fill: #008000; stroke: #008000\"/>\n     </g>\n    </g>\n    <g id=\"text_17\">\n     <!-- — Schnittpunkt mit X-Achse -->\n     <g transform=\"translate(64.192188 56.953906)scale(0.1 -0.1)\">\n      <use xlink:href=\"#DejaVuSans-2014\"/>\n      <use xlink:href=\"#DejaVuSans-20\" x=\"100\"/>\n      <use xlink:href=\"#DejaVuSans-53\" x=\"131.787109\"/>\n      <use xlink:href=\"#DejaVuSans-63\" x=\"195.263672\"/>\n      <use xlink:href=\"#DejaVuSans-68\" x=\"250.244141\"/>\n      <use xlink:href=\"#DejaVuSans-6e\" x=\"313.623047\"/>\n      <use xlink:href=\"#DejaVuSans-69\" x=\"377.001953\"/>\n      <use xlink:href=\"#DejaVuSans-74\" x=\"404.785156\"/>\n      <use xlink:href=\"#DejaVuSans-74\" x=\"443.994141\"/>\n      <use xlink:href=\"#DejaVuSans-70\" x=\"483.203125\"/>\n      <use xlink:href=\"#DejaVuSans-75\" x=\"546.679688\"/>\n      <use xlink:href=\"#DejaVuSans-6e\" x=\"610.058594\"/>\n      <use xlink:href=\"#DejaVuSans-6b\" x=\"673.4375\"/>\n      <use xlink:href=\"#DejaVuSans-74\" x=\"731.347656\"/>\n      <use xlink:href=\"#DejaVuSans-20\" x=\"770.556641\"/>\n      <use xlink:href=\"#DejaVuSans-6d\" x=\"802.34375\"/>\n      <use xlink:href=\"#DejaVuSans-69\" x=\"899.755859\"/>\n      <use xlink:href=\"#DejaVuSans-74\" x=\"927.539062\"/>\n      <use xlink:href=\"#DejaVuSans-20\" x=\"966.748047\"/>\n      <use xlink:href=\"#DejaVuSans-58\" x=\"998.535156\"/>\n      <use xlink:href=\"#DejaVuSans-2d\" x=\"1062.041016\"/>\n      <use xlink:href=\"#DejaVuSans-41\" x=\"1095.875\"/>\n      <use xlink:href=\"#DejaVuSans-63\" x=\"1162.533203\"/>\n      <use xlink:href=\"#DejaVuSans-68\" x=\"1217.513672\"/>\n      <use xlink:href=\"#DejaVuSans-73\" x=\"1280.892578\"/>\n      <use xlink:href=\"#DejaVuSans-65\" x=\"1332.992188\"/>\n     </g>\n    </g>\n   </g>\n  </g>\n </g>\n <defs>\n  <clipPath id=\"p0da5c24739\">\n   <rect x=\"27.192188\" y=\"10.999219\" width=\"498.407813\" height=\"209.950781\"/>\n  </clipPath>\n </defs>\n</svg>\n"
          },
          "metadata": {}
        }
      ],
      "execution_count": 99
    }
  ]
}